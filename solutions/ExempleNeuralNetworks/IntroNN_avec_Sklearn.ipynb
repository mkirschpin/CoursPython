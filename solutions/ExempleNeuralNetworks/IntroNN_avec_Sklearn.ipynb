{
  "nbformat": 4,
  "nbformat_minor": 0,
  "metadata": {
    "colab": {
      "provenance": []
    },
    "kernelspec": {
      "name": "python3",
      "display_name": "Python 3"
    },
    "language_info": {
      "name": "python"
    }
  },
  "cells": [
    {
      "cell_type": "markdown",
      "source": [
        "#Introduction rapide aux Réseaux de Neurones avec Scikit-Learn\n",
        "\n",
        "Dans cet exemple nous allons créer un Classifieur \"Multi-Layer Perceptron\" (plusieurs couches de neurones) afin de reconnaître des chiffres écrits à la main.\n",
        "\n",
        "Tout d'abord, on fait l'import des bibliothèques et le téléchargement du dataset MNIST."
      ],
      "metadata": {
        "id": "LBIBTH9QTPUm"
      }
    },
    {
      "cell_type": "code",
      "execution_count": null,
      "metadata": {
        "id": "p5V9jQN5Buhv"
      },
      "outputs": [],
      "source": [
        "import matplotlib.pyplot as plt\n",
        "from sklearn.datasets import fetch_openml\n",
        "from sklearn.neural_network import MLPClassifier\n",
        "from sklearn.model_selection import train_test_split\n",
        "import numpy as np\n",
        "import pandas as pnd"
      ]
    },
    {
      "cell_type": "code",
      "source": [
        "!pip install -q fidle\n",
        "import fidle\n"
      ],
      "metadata": {
        "id": "77NQjybo5xMd"
      },
      "execution_count": null,
      "outputs": []
    },
    {
      "cell_type": "code",
      "source": [
        "X, y = fetch_openml('mnist_784', version=1, return_X_y=True,parser='auto')\n"
      ],
      "metadata": {
        "id": "s-IeNWM4Bvv5"
      },
      "execution_count": null,
      "outputs": []
    },
    {
      "cell_type": "markdown",
      "source": [
        "MNIST est composé de miliers d'images avec des chiffres 0 à 9 écrits à la main. Ces images sont stockés sous la forme de tableaux de 28x28 pixels où chaque pixel a une valeur entre 0 et 255 (256 tons de gris).\n",
        "\n",
        "Il est souvent conseillé de \"normaliser\" les données. Une manière simple dans notre cas est de diviser les valeurs par 255 afin d'avoir des valeurs réelles entre 0 et 1."
      ],
      "metadata": {
        "id": "JgyggS5ZTzc1"
      }
    },
    {
      "cell_type": "code",
      "source": [
        "X = X / 255."
      ],
      "metadata": {
        "id": "5BFrEnTMCMip"
      },
      "execution_count": null,
      "outputs": []
    },
    {
      "cell_type": "markdown",
      "source": [
        "Ici, nous allons séparer le dataset en deux groupes (train et test). Les données de chaque tableau sont représentés en tant qu'un simple array de 784 positions (28x28=784).\n",
        "\n",
        "On profite également pour reinitialiser les index des tableaux."
      ],
      "metadata": {
        "id": "aWeYwv8nUxBO"
      }
    },
    {
      "cell_type": "code",
      "source": [
        "X_train, X_test, y_train, y_test = train_test_split(X, y, test_size=0.20, random_state=42,shuffle=False)\n",
        "X_train=X_train.reset_index(drop=True)\n",
        "y_train=y_train.reset_index(drop=True)\n",
        "X_test=X_test.reset_index(drop=True)\n",
        "y_test=y_test.reset_index(drop=True)\n",
        "\n",
        "print (X.shape)\n",
        "print(X_train.shape)\n",
        "print(X_test.shape)"
      ],
      "metadata": {
        "id": "NL5PjGH_CNZc"
      },
      "execution_count": null,
      "outputs": []
    },
    {
      "cell_type": "markdown",
      "source": [
        "On peut visualiser chacun des chiffres, ainsi que son label, grâce au paragraphe suivant (par contre, on est obligés de reformater la sortie en 28x28 pixels). Ici, on affiche el 220ème chiffre dans le dataset d'entraînement."
      ],
      "metadata": {
        "id": "WUbIdwhdXYf8"
      }
    },
    {
      "cell_type": "code",
      "source": [
        "fidle.scrawler.images(X_train.values.reshape(-1,28,28), y_train,[220], x_size=4,y_size=4)"
      ],
      "metadata": {
        "id": "bf7Q-Lj4Xngi"
      },
      "execution_count": null,
      "outputs": []
    },
    {
      "cell_type": "markdown",
      "source": [
        "C'est le moment de créer notre réseau de neurones.\n",
        "\n",
        "Nous allons créer un réseau d'une seule couche (`hidden_layer_sizes=(20,)`).\n",
        "Egalement, il est indiqué que l'entrainement se fera sur 10 itérations, où chaque itération (*epoch*) refait un passage sur les données afin d'améliorer l'entraînement."
      ],
      "metadata": {
        "id": "GiHqJ0TTVGiC"
      }
    },
    {
      "cell_type": "code",
      "source": [
        "mlp = MLPClassifier(\n",
        "    hidden_layer_sizes=(20,),\n",
        "    max_iter=10,\n",
        "    alpha=1e-4,\n",
        "    solver=\"sgd\",\n",
        "    verbose=10,\n",
        "    random_state=1,\n",
        "    learning_rate_init=0.2,\n",
        ")"
      ],
      "metadata": {
        "id": "qYGTbYTAENEl"
      },
      "execution_count": null,
      "outputs": []
    },
    {
      "cell_type": "code",
      "source": [
        "mlp.fit(X_train, y_train)"
      ],
      "metadata": {
        "id": "_EU9VuhoCQRu"
      },
      "execution_count": null,
      "outputs": []
    },
    {
      "cell_type": "markdown",
      "source": [
        "Après l'étape d'entraînement (`fit()`), nous pouvons voir la précision du modèle sur le dataset d'entraînement et sur celui de test.\n",
        "\n",
        "On obtient plus de 95% de précision, ce qui n'est pas mal pour un début."
      ],
      "metadata": {
        "id": "2iorleZGWcNe"
      }
    },
    {
      "cell_type": "code",
      "source": [
        "print(f\"Training set score: {mlp.score(X_train, y_train):.3f}\")\n",
        "print(f\"Test set score: {mlp.score(X_test, y_test):.3f}\")"
      ],
      "metadata": {
        "id": "V_98660NCSl4"
      },
      "execution_count": null,
      "outputs": []
    },
    {
      "cell_type": "markdown",
      "source": [
        "Chacun des 20 neurones aura une vue lègerement différente des autres. Certains ne seront même pas capables de reconnaître quoi que ce soit.\n",
        "\n",
        "Le paragraphe suivant montre les poids (filtres) de chacun de ces neurones, après entraînement."
      ],
      "metadata": {
        "id": "QyfXW_8LW1VO"
      }
    },
    {
      "cell_type": "code",
      "source": [
        "fig, axes = plt.subplots(4, 5)\n",
        "# use global min / max to ensure all weights are shown on the same scale\n",
        "vmin, vmax = mlp.coefs_[0].min(), mlp.coefs_[0].max()\n",
        "for coef, ax in zip(mlp.coefs_[0].T, axes.ravel()):\n",
        "    ax.matshow(coef.reshape(28, 28), cmap=plt.cm.gray, vmin=.5 * vmin,\n",
        "               vmax=.5 * vmax)\n",
        "    ax.set_xticks(())\n",
        "    ax.set_yticks(())\n",
        "\n",
        "plt.show()"
      ],
      "metadata": {
        "id": "KH9RpXYaCiPZ"
      },
      "execution_count": null,
      "outputs": []
    },
    {
      "cell_type": "markdown",
      "source": [
        "Après l'entraînement, nous pouvons utiliser le modèle pour faire la prédiction sur le dataset `test`."
      ],
      "metadata": {
        "id": "PVOndsOPX-Fy"
      }
    },
    {
      "cell_type": "code",
      "source": [
        "y_pred = mlp.predict(X_test)\n"
      ],
      "metadata": {
        "id": "3sO2KDsSFH79"
      },
      "execution_count": null,
      "outputs": []
    },
    {
      "cell_type": "markdown",
      "source": [
        "Le paragraphe suivant affiche 50 chiffres avec la valeur prédite en bas. Sauf rares exceptions, tous sont bien classés."
      ],
      "metadata": {
        "id": "iac7VAZiYbVf"
      }
    },
    {
      "cell_type": "code",
      "source": [
        "y_pred=pnd.Series(y_pred)\n",
        "fidle.scrawler.images(X_test.values.reshape(-1,28,28), y_pred,range(50,100), columns=12, x_size=1, y_size=1)"
      ],
      "metadata": {
        "id": "s7oBzxayFDH6"
      },
      "execution_count": null,
      "outputs": []
    },
    {
      "cell_type": "markdown",
      "source": [
        "Ici, on s'intéresse juste aux erreurs de classement. Comme on avait accès aux labels `y_test`, on peut les comparer avec les prédictions de `y_pred`. Pour chaque image, il est indiqué la valeur prédite et, entre parenthèses, la valeur attendue."
      ],
      "metadata": {
        "id": "aRoM8KWdYsdz"
      }
    },
    {
      "cell_type": "code",
      "source": [
        "errors=[ i for i in range(len(X_test)) if y_pred[i]!=y_test[i] ]\n",
        "errors=errors[:min(24,len(errors))]\n",
        "fidle.scrawler.images(X_test.values.reshape(-1,28,28), y_test, errors, columns=6, x_size=1, y_size=1, y_pred=y_pred)"
      ],
      "metadata": {
        "id": "OAeOEyE3ElEu"
      },
      "execution_count": null,
      "outputs": []
    },
    {
      "cell_type": "markdown",
      "source": [
        "Cet exemple permet de faire ses premiers pas avec un réseau de neurones. Toutefois, Scikit Learn n'est pas la bibliothèque la plus adaptée car elle n'est pas adaptée à l'usage de dispositifs performants (GPU, par exemple). Pour aller plus loin, vous pouvez vous informer sur la bibliothèque [Keras](https://keras.io/keras_3/), qui vous permet d'écrire un code assez similaire à Scikit Learn tout en faisant appel à la puissance de Tensorflow ou Pytorch (deux bibliothèques \"bas niveau\" spécialement conçues pour l'apprentissage profond)."
      ],
      "metadata": {
        "id": "ebtvz10SZQY9"
      }
    },
    {
      "cell_type": "code",
      "source": [],
      "metadata": {
        "id": "nldVtu3gHUaU"
      },
      "execution_count": null,
      "outputs": []
    }
  ]
}