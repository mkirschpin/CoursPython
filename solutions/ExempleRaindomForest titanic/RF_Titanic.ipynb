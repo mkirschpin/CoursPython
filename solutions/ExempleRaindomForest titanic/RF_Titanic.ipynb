{
 "cells": [
  {
   "cell_type": "markdown",
   "id": "2946949e-1776-4a1a-9533-707e29711e82",
   "metadata": {},
   "source": [
    "# Exemple RandomForest avec dataset Titanic\n",
    "\n",
    "Usage du dataset *titanic* pour illustrer l'usage des ***Random Forest***.\n",
    "\n",
    "On commence par placer tous les imports dans un même bloc au tout début. "
   ]
  },
  {
   "cell_type": "code",
   "execution_count": 318,
   "id": "6d37edaf-9c6b-487e-a618-7764d478d298",
   "metadata": {},
   "outputs": [],
   "source": [
    "import pandas as pnd\n",
    "import matplotlib.pyplot as plt\n",
    "\n",
    "from sklearn.model_selection import train_test_split\n",
    "\n",
    "from sklearn.tree import DecisionTreeClassifier\n",
    "from sklearn.tree import export_text\n",
    "from sklearn.tree import plot_tree\n",
    "from sklearn.metrics import accuracy_score, precision_score, recall_score, confusion_matrix\n",
    "from sklearn.metrics import classification_report\n",
    "\n",
    "from sklearn.ensemble import RandomForestClassifier\n"
   ]
  },
  {
   "cell_type": "markdown",
   "id": "97cf2ab3-331c-45cd-a1a3-37bf332c9bbb",
   "metadata": {},
   "source": [
    "## Lecture et Cleaning\n",
    "\n",
    "Première étape : lecture du dataset et nettoyage des données. "
   ]
  },
  {
   "cell_type": "code",
   "execution_count": 319,
   "id": "74e1f864-7032-41c3-92d4-d5122a2ff1f8",
   "metadata": {},
   "outputs": [
    {
     "name": "stdout",
     "output_type": "stream",
     "text": [
      "<class 'pandas.core.frame.DataFrame'>\n",
      "RangeIndex: 1309 entries, 0 to 1308\n",
      "Data columns (total 5 columns):\n",
      " #   Column          Non-Null Count  Dtype  \n",
      "---  ------          --------------  -----  \n",
      " 0   Unnamed: 0      1309 non-null   object \n",
      " 1   survived        1309 non-null   object \n",
      " 2   sex             1309 non-null   object \n",
      " 3   age             1046 non-null   float64\n",
      " 4   passengerClass  1309 non-null   object \n",
      "dtypes: float64(1), object(4)\n",
      "memory usage: 51.3+ KB\n"
     ]
    }
   ],
   "source": [
    "titanic = pnd.read_csv('http://www.kirschpm.fr/cours/PythonDataScience/files/TitanicSurvival.csv')\n",
    "titanic.info()"
   ]
  },
  {
   "cell_type": "code",
   "execution_count": 320,
   "id": "7ea839cf-8d34-4444-bf1a-19bc731e2f7c",
   "metadata": {},
   "outputs": [
    {
     "data": {
      "text/html": [
       "<div>\n",
       "<style scoped>\n",
       "    .dataframe tbody tr th:only-of-type {\n",
       "        vertical-align: middle;\n",
       "    }\n",
       "\n",
       "    .dataframe tbody tr th {\n",
       "        vertical-align: top;\n",
       "    }\n",
       "\n",
       "    .dataframe thead th {\n",
       "        text-align: right;\n",
       "    }\n",
       "</style>\n",
       "<table border=\"1\" class=\"dataframe\">\n",
       "  <thead>\n",
       "    <tr style=\"text-align: right;\">\n",
       "      <th></th>\n",
       "      <th>Unnamed: 0</th>\n",
       "      <th>survived</th>\n",
       "      <th>sex</th>\n",
       "      <th>age</th>\n",
       "      <th>passengerClass</th>\n",
       "    </tr>\n",
       "  </thead>\n",
       "  <tbody>\n",
       "    <tr>\n",
       "      <th>0</th>\n",
       "      <td>Allen, Miss. Elisabeth Walton</td>\n",
       "      <td>yes</td>\n",
       "      <td>female</td>\n",
       "      <td>29.00</td>\n",
       "      <td>1st</td>\n",
       "    </tr>\n",
       "    <tr>\n",
       "      <th>1</th>\n",
       "      <td>Allison, Master. Hudson Trevor</td>\n",
       "      <td>yes</td>\n",
       "      <td>male</td>\n",
       "      <td>0.92</td>\n",
       "      <td>1st</td>\n",
       "    </tr>\n",
       "    <tr>\n",
       "      <th>2</th>\n",
       "      <td>Allison, Miss. Helen Loraine</td>\n",
       "      <td>no</td>\n",
       "      <td>female</td>\n",
       "      <td>2.00</td>\n",
       "      <td>1st</td>\n",
       "    </tr>\n",
       "    <tr>\n",
       "      <th>3</th>\n",
       "      <td>Allison, Mr. Hudson Joshua Crei</td>\n",
       "      <td>no</td>\n",
       "      <td>male</td>\n",
       "      <td>30.00</td>\n",
       "      <td>1st</td>\n",
       "    </tr>\n",
       "    <tr>\n",
       "      <th>4</th>\n",
       "      <td>Allison, Mrs. Hudson J C (Bessi</td>\n",
       "      <td>no</td>\n",
       "      <td>female</td>\n",
       "      <td>25.00</td>\n",
       "      <td>1st</td>\n",
       "    </tr>\n",
       "    <tr>\n",
       "      <th>5</th>\n",
       "      <td>Anderson, Mr. Harry</td>\n",
       "      <td>yes</td>\n",
       "      <td>male</td>\n",
       "      <td>48.00</td>\n",
       "      <td>1st</td>\n",
       "    </tr>\n",
       "    <tr>\n",
       "      <th>6</th>\n",
       "      <td>Andrews, Miss. Kornelia Theodos</td>\n",
       "      <td>yes</td>\n",
       "      <td>female</td>\n",
       "      <td>63.00</td>\n",
       "      <td>1st</td>\n",
       "    </tr>\n",
       "    <tr>\n",
       "      <th>7</th>\n",
       "      <td>Andrews, Mr. Thomas Jr</td>\n",
       "      <td>no</td>\n",
       "      <td>male</td>\n",
       "      <td>39.00</td>\n",
       "      <td>1st</td>\n",
       "    </tr>\n",
       "    <tr>\n",
       "      <th>8</th>\n",
       "      <td>Appleton, Mrs. Edward Dale (Cha</td>\n",
       "      <td>yes</td>\n",
       "      <td>female</td>\n",
       "      <td>53.00</td>\n",
       "      <td>1st</td>\n",
       "    </tr>\n",
       "    <tr>\n",
       "      <th>9</th>\n",
       "      <td>Artagaveytia, Mr. Ramon</td>\n",
       "      <td>no</td>\n",
       "      <td>male</td>\n",
       "      <td>71.00</td>\n",
       "      <td>1st</td>\n",
       "    </tr>\n",
       "    <tr>\n",
       "      <th>10</th>\n",
       "      <td>Astor, Col. John Jacob</td>\n",
       "      <td>no</td>\n",
       "      <td>male</td>\n",
       "      <td>47.00</td>\n",
       "      <td>1st</td>\n",
       "    </tr>\n",
       "    <tr>\n",
       "      <th>11</th>\n",
       "      <td>Astor, Mrs. John Jacob (Madelei</td>\n",
       "      <td>yes</td>\n",
       "      <td>female</td>\n",
       "      <td>18.00</td>\n",
       "      <td>1st</td>\n",
       "    </tr>\n",
       "    <tr>\n",
       "      <th>12</th>\n",
       "      <td>Aubart, Mme. Leontine Pauline</td>\n",
       "      <td>yes</td>\n",
       "      <td>female</td>\n",
       "      <td>24.00</td>\n",
       "      <td>1st</td>\n",
       "    </tr>\n",
       "    <tr>\n",
       "      <th>13</th>\n",
       "      <td>Barber, Miss. Ellen Nellie</td>\n",
       "      <td>yes</td>\n",
       "      <td>female</td>\n",
       "      <td>26.00</td>\n",
       "      <td>1st</td>\n",
       "    </tr>\n",
       "    <tr>\n",
       "      <th>14</th>\n",
       "      <td>Barkworth, Mr. Algernon Henry W</td>\n",
       "      <td>yes</td>\n",
       "      <td>male</td>\n",
       "      <td>80.00</td>\n",
       "      <td>1st</td>\n",
       "    </tr>\n",
       "  </tbody>\n",
       "</table>\n",
       "</div>"
      ],
      "text/plain": [
       "                         Unnamed: 0 survived     sex    age passengerClass\n",
       "0     Allen, Miss. Elisabeth Walton      yes  female  29.00            1st\n",
       "1    Allison, Master. Hudson Trevor      yes    male   0.92            1st\n",
       "2      Allison, Miss. Helen Loraine       no  female   2.00            1st\n",
       "3   Allison, Mr. Hudson Joshua Crei       no    male  30.00            1st\n",
       "4   Allison, Mrs. Hudson J C (Bessi       no  female  25.00            1st\n",
       "5               Anderson, Mr. Harry      yes    male  48.00            1st\n",
       "6   Andrews, Miss. Kornelia Theodos      yes  female  63.00            1st\n",
       "7            Andrews, Mr. Thomas Jr       no    male  39.00            1st\n",
       "8   Appleton, Mrs. Edward Dale (Cha      yes  female  53.00            1st\n",
       "9           Artagaveytia, Mr. Ramon       no    male  71.00            1st\n",
       "10           Astor, Col. John Jacob       no    male  47.00            1st\n",
       "11  Astor, Mrs. John Jacob (Madelei      yes  female  18.00            1st\n",
       "12    Aubart, Mme. Leontine Pauline      yes  female  24.00            1st\n",
       "13       Barber, Miss. Ellen Nellie      yes  female  26.00            1st\n",
       "14  Barkworth, Mr. Algernon Henry W      yes    male  80.00            1st"
      ]
     },
     "execution_count": 320,
     "metadata": {},
     "output_type": "execute_result"
    }
   ],
   "source": [
    "titanic.head(15)"
   ]
  },
  {
   "cell_type": "markdown",
   "id": "2d254578-19b8-4423-9bd5-75f80d11b955",
   "metadata": {},
   "source": [
    "On va réduire la précision (pour mieux visualiser l'age) et renomer la première colonne. "
   ]
  },
  {
   "cell_type": "code",
   "execution_count": 321,
   "id": "40375c11-4c51-43f3-b0fa-f064e09a8f0b",
   "metadata": {},
   "outputs": [
    {
     "data": {
      "text/html": [
       "<div>\n",
       "<style scoped>\n",
       "    .dataframe tbody tr th:only-of-type {\n",
       "        vertical-align: middle;\n",
       "    }\n",
       "\n",
       "    .dataframe tbody tr th {\n",
       "        vertical-align: top;\n",
       "    }\n",
       "\n",
       "    .dataframe thead th {\n",
       "        text-align: right;\n",
       "    }\n",
       "</style>\n",
       "<table border=\"1\" class=\"dataframe\">\n",
       "  <thead>\n",
       "    <tr style=\"text-align: right;\">\n",
       "      <th></th>\n",
       "      <th>passenger</th>\n",
       "      <th>survived</th>\n",
       "      <th>sex</th>\n",
       "      <th>age</th>\n",
       "      <th>passengerClass</th>\n",
       "    </tr>\n",
       "  </thead>\n",
       "  <tbody>\n",
       "    <tr>\n",
       "      <th>0</th>\n",
       "      <td>Allen, Miss. Elisabeth Walton</td>\n",
       "      <td>yes</td>\n",
       "      <td>female</td>\n",
       "      <td>29.00</td>\n",
       "      <td>1st</td>\n",
       "    </tr>\n",
       "    <tr>\n",
       "      <th>1</th>\n",
       "      <td>Allison, Master. Hudson Trevor</td>\n",
       "      <td>yes</td>\n",
       "      <td>male</td>\n",
       "      <td>0.92</td>\n",
       "      <td>1st</td>\n",
       "    </tr>\n",
       "    <tr>\n",
       "      <th>2</th>\n",
       "      <td>Allison, Miss. Helen Loraine</td>\n",
       "      <td>no</td>\n",
       "      <td>female</td>\n",
       "      <td>2.00</td>\n",
       "      <td>1st</td>\n",
       "    </tr>\n",
       "    <tr>\n",
       "      <th>3</th>\n",
       "      <td>Allison, Mr. Hudson Joshua Crei</td>\n",
       "      <td>no</td>\n",
       "      <td>male</td>\n",
       "      <td>30.00</td>\n",
       "      <td>1st</td>\n",
       "    </tr>\n",
       "    <tr>\n",
       "      <th>4</th>\n",
       "      <td>Allison, Mrs. Hudson J C (Bessi</td>\n",
       "      <td>no</td>\n",
       "      <td>female</td>\n",
       "      <td>25.00</td>\n",
       "      <td>1st</td>\n",
       "    </tr>\n",
       "    <tr>\n",
       "      <th>5</th>\n",
       "      <td>Anderson, Mr. Harry</td>\n",
       "      <td>yes</td>\n",
       "      <td>male</td>\n",
       "      <td>48.00</td>\n",
       "      <td>1st</td>\n",
       "    </tr>\n",
       "    <tr>\n",
       "      <th>6</th>\n",
       "      <td>Andrews, Miss. Kornelia Theodos</td>\n",
       "      <td>yes</td>\n",
       "      <td>female</td>\n",
       "      <td>63.00</td>\n",
       "      <td>1st</td>\n",
       "    </tr>\n",
       "    <tr>\n",
       "      <th>7</th>\n",
       "      <td>Andrews, Mr. Thomas Jr</td>\n",
       "      <td>no</td>\n",
       "      <td>male</td>\n",
       "      <td>39.00</td>\n",
       "      <td>1st</td>\n",
       "    </tr>\n",
       "    <tr>\n",
       "      <th>8</th>\n",
       "      <td>Appleton, Mrs. Edward Dale (Cha</td>\n",
       "      <td>yes</td>\n",
       "      <td>female</td>\n",
       "      <td>53.00</td>\n",
       "      <td>1st</td>\n",
       "    </tr>\n",
       "    <tr>\n",
       "      <th>9</th>\n",
       "      <td>Artagaveytia, Mr. Ramon</td>\n",
       "      <td>no</td>\n",
       "      <td>male</td>\n",
       "      <td>71.00</td>\n",
       "      <td>1st</td>\n",
       "    </tr>\n",
       "  </tbody>\n",
       "</table>\n",
       "</div>"
      ],
      "text/plain": [
       "                         passenger survived     sex    age passengerClass\n",
       "0    Allen, Miss. Elisabeth Walton      yes  female  29.00            1st\n",
       "1   Allison, Master. Hudson Trevor      yes    male   0.92            1st\n",
       "2     Allison, Miss. Helen Loraine       no  female   2.00            1st\n",
       "3  Allison, Mr. Hudson Joshua Crei       no    male  30.00            1st\n",
       "4  Allison, Mrs. Hudson J C (Bessi       no  female  25.00            1st\n",
       "5              Anderson, Mr. Harry      yes    male  48.00            1st\n",
       "6  Andrews, Miss. Kornelia Theodos      yes  female  63.00            1st\n",
       "7           Andrews, Mr. Thomas Jr       no    male  39.00            1st\n",
       "8  Appleton, Mrs. Edward Dale (Cha      yes  female  53.00            1st\n",
       "9          Artagaveytia, Mr. Ramon       no    male  71.00            1st"
      ]
     },
     "execution_count": 321,
     "metadata": {},
     "output_type": "execute_result"
    }
   ],
   "source": [
    "pnd.set_option('precision', 2)\n",
    "titanic.rename(columns={'Unnamed: 0':'passenger'}, inplace=True)\n",
    "titanic.head(10)"
   ]
  },
  {
   "cell_type": "markdown",
   "id": "cffe45ff-cbfb-467d-8ae3-9cb9b4159bfc",
   "metadata": {},
   "source": [
    "maintenant, on peut remplir les ages NA avec l'age moyenne (on aurait pu les supprimer aussi). "
   ]
  },
  {
   "cell_type": "code",
   "execution_count": 322,
   "id": "e43ef93b-5857-4f65-8302-1e7d9aa1e772",
   "metadata": {},
   "outputs": [
    {
     "data": {
      "text/html": [
       "<div>\n",
       "<style scoped>\n",
       "    .dataframe tbody tr th:only-of-type {\n",
       "        vertical-align: middle;\n",
       "    }\n",
       "\n",
       "    .dataframe tbody tr th {\n",
       "        vertical-align: top;\n",
       "    }\n",
       "\n",
       "    .dataframe thead th {\n",
       "        text-align: right;\n",
       "    }\n",
       "</style>\n",
       "<table border=\"1\" class=\"dataframe\">\n",
       "  <thead>\n",
       "    <tr style=\"text-align: right;\">\n",
       "      <th></th>\n",
       "      <th>age</th>\n",
       "    </tr>\n",
       "  </thead>\n",
       "  <tbody>\n",
       "    <tr>\n",
       "      <th>count</th>\n",
       "      <td>1046.00</td>\n",
       "    </tr>\n",
       "    <tr>\n",
       "      <th>mean</th>\n",
       "      <td>29.88</td>\n",
       "    </tr>\n",
       "    <tr>\n",
       "      <th>std</th>\n",
       "      <td>14.41</td>\n",
       "    </tr>\n",
       "    <tr>\n",
       "      <th>min</th>\n",
       "      <td>0.17</td>\n",
       "    </tr>\n",
       "    <tr>\n",
       "      <th>25%</th>\n",
       "      <td>21.00</td>\n",
       "    </tr>\n",
       "    <tr>\n",
       "      <th>50%</th>\n",
       "      <td>28.00</td>\n",
       "    </tr>\n",
       "    <tr>\n",
       "      <th>75%</th>\n",
       "      <td>39.00</td>\n",
       "    </tr>\n",
       "    <tr>\n",
       "      <th>max</th>\n",
       "      <td>80.00</td>\n",
       "    </tr>\n",
       "  </tbody>\n",
       "</table>\n",
       "</div>"
      ],
      "text/plain": [
       "           age\n",
       "count  1046.00\n",
       "mean     29.88\n",
       "std      14.41\n",
       "min       0.17\n",
       "25%      21.00\n",
       "50%      28.00\n",
       "75%      39.00\n",
       "max      80.00"
      ]
     },
     "execution_count": 322,
     "metadata": {},
     "output_type": "execute_result"
    }
   ],
   "source": [
    "titanic.describe()"
   ]
  },
  {
   "cell_type": "code",
   "execution_count": 323,
   "id": "dd5d3c8e-810e-4199-907f-a0a1220ff6a3",
   "metadata": {},
   "outputs": [
    {
     "data": {
      "text/plain": [
       "count    1309.00\n",
       "mean       29.88\n",
       "std        12.88\n",
       "min         0.17\n",
       "25%        22.00\n",
       "50%        29.88\n",
       "75%        35.00\n",
       "max        80.00\n",
       "Name: age, dtype: float64"
      ]
     },
     "execution_count": 323,
     "metadata": {},
     "output_type": "execute_result"
    }
   ],
   "source": [
    "titanic['age'].fillna (titanic['age'].mean(),inplace=True)\n",
    "titanic['age'].describe()"
   ]
  },
  {
   "cell_type": "markdown",
   "id": "48efd7fc-1982-4cd0-967f-2ad1e013ba0a",
   "metadata": {},
   "source": [
    "On va transformer les valeurs texte des colonnes survived, sex et passenferclass en valeurs numériques. "
   ]
  },
  {
   "cell_type": "code",
   "execution_count": 324,
   "id": "b5127732-19e9-4a05-a3e7-bdb64f172860",
   "metadata": {},
   "outputs": [
    {
     "data": {
      "text/html": [
       "<div>\n",
       "<style scoped>\n",
       "    .dataframe tbody tr th:only-of-type {\n",
       "        vertical-align: middle;\n",
       "    }\n",
       "\n",
       "    .dataframe tbody tr th {\n",
       "        vertical-align: top;\n",
       "    }\n",
       "\n",
       "    .dataframe thead th {\n",
       "        text-align: right;\n",
       "    }\n",
       "</style>\n",
       "<table border=\"1\" class=\"dataframe\">\n",
       "  <thead>\n",
       "    <tr style=\"text-align: right;\">\n",
       "      <th></th>\n",
       "      <th>passenger</th>\n",
       "      <th>age</th>\n",
       "      <th>passengerClass</th>\n",
       "      <th>survived_yes</th>\n",
       "      <th>sex_male</th>\n",
       "    </tr>\n",
       "  </thead>\n",
       "  <tbody>\n",
       "    <tr>\n",
       "      <th>0</th>\n",
       "      <td>Allen, Miss. Elisabeth Walton</td>\n",
       "      <td>29.00</td>\n",
       "      <td>1st</td>\n",
       "      <td>1</td>\n",
       "      <td>0</td>\n",
       "    </tr>\n",
       "    <tr>\n",
       "      <th>1</th>\n",
       "      <td>Allison, Master. Hudson Trevor</td>\n",
       "      <td>0.92</td>\n",
       "      <td>1st</td>\n",
       "      <td>1</td>\n",
       "      <td>1</td>\n",
       "    </tr>\n",
       "    <tr>\n",
       "      <th>2</th>\n",
       "      <td>Allison, Miss. Helen Loraine</td>\n",
       "      <td>2.00</td>\n",
       "      <td>1st</td>\n",
       "      <td>0</td>\n",
       "      <td>0</td>\n",
       "    </tr>\n",
       "    <tr>\n",
       "      <th>3</th>\n",
       "      <td>Allison, Mr. Hudson Joshua Crei</td>\n",
       "      <td>30.00</td>\n",
       "      <td>1st</td>\n",
       "      <td>0</td>\n",
       "      <td>1</td>\n",
       "    </tr>\n",
       "    <tr>\n",
       "      <th>4</th>\n",
       "      <td>Allison, Mrs. Hudson J C (Bessi</td>\n",
       "      <td>25.00</td>\n",
       "      <td>1st</td>\n",
       "      <td>0</td>\n",
       "      <td>0</td>\n",
       "    </tr>\n",
       "    <tr>\n",
       "      <th>5</th>\n",
       "      <td>Anderson, Mr. Harry</td>\n",
       "      <td>48.00</td>\n",
       "      <td>1st</td>\n",
       "      <td>1</td>\n",
       "      <td>1</td>\n",
       "    </tr>\n",
       "    <tr>\n",
       "      <th>6</th>\n",
       "      <td>Andrews, Miss. Kornelia Theodos</td>\n",
       "      <td>63.00</td>\n",
       "      <td>1st</td>\n",
       "      <td>1</td>\n",
       "      <td>0</td>\n",
       "    </tr>\n",
       "    <tr>\n",
       "      <th>7</th>\n",
       "      <td>Andrews, Mr. Thomas Jr</td>\n",
       "      <td>39.00</td>\n",
       "      <td>1st</td>\n",
       "      <td>0</td>\n",
       "      <td>1</td>\n",
       "    </tr>\n",
       "    <tr>\n",
       "      <th>8</th>\n",
       "      <td>Appleton, Mrs. Edward Dale (Cha</td>\n",
       "      <td>53.00</td>\n",
       "      <td>1st</td>\n",
       "      <td>1</td>\n",
       "      <td>0</td>\n",
       "    </tr>\n",
       "    <tr>\n",
       "      <th>9</th>\n",
       "      <td>Artagaveytia, Mr. Ramon</td>\n",
       "      <td>71.00</td>\n",
       "      <td>1st</td>\n",
       "      <td>0</td>\n",
       "      <td>1</td>\n",
       "    </tr>\n",
       "  </tbody>\n",
       "</table>\n",
       "</div>"
      ],
      "text/plain": [
       "                         passenger    age passengerClass  survived_yes  \\\n",
       "0    Allen, Miss. Elisabeth Walton  29.00            1st             1   \n",
       "1   Allison, Master. Hudson Trevor   0.92            1st             1   \n",
       "2     Allison, Miss. Helen Loraine   2.00            1st             0   \n",
       "3  Allison, Mr. Hudson Joshua Crei  30.00            1st             0   \n",
       "4  Allison, Mrs. Hudson J C (Bessi  25.00            1st             0   \n",
       "5              Anderson, Mr. Harry  48.00            1st             1   \n",
       "6  Andrews, Miss. Kornelia Theodos  63.00            1st             1   \n",
       "7           Andrews, Mr. Thomas Jr  39.00            1st             0   \n",
       "8  Appleton, Mrs. Edward Dale (Cha  53.00            1st             1   \n",
       "9          Artagaveytia, Mr. Ramon  71.00            1st             0   \n",
       "\n",
       "   sex_male  \n",
       "0         0  \n",
       "1         1  \n",
       "2         0  \n",
       "3         1  \n",
       "4         0  \n",
       "5         1  \n",
       "6         0  \n",
       "7         1  \n",
       "8         0  \n",
       "9         1  "
      ]
     },
     "execution_count": 324,
     "metadata": {},
     "output_type": "execute_result"
    }
   ],
   "source": [
    "titanic = pnd.get_dummies (titanic, columns=['survived','sex'], drop_first=True)\n",
    "titanic.head(10)"
   ]
  },
  {
   "cell_type": "code",
   "execution_count": 325,
   "metadata": {},
   "outputs": [
    {
     "data": {
      "text/html": [
       "<div>\n",
       "<style scoped>\n",
       "    .dataframe tbody tr th:only-of-type {\n",
       "        vertical-align: middle;\n",
       "    }\n",
       "\n",
       "    .dataframe tbody tr th {\n",
       "        vertical-align: top;\n",
       "    }\n",
       "\n",
       "    .dataframe thead th {\n",
       "        text-align: right;\n",
       "    }\n",
       "</style>\n",
       "<table border=\"1\" class=\"dataframe\">\n",
       "  <thead>\n",
       "    <tr style=\"text-align: right;\">\n",
       "      <th></th>\n",
       "      <th>passenger</th>\n",
       "      <th>age</th>\n",
       "      <th>survived_yes</th>\n",
       "      <th>sex_male</th>\n",
       "      <th>passengerClass_1st</th>\n",
       "      <th>passengerClass_2nd</th>\n",
       "      <th>passengerClass_3rd</th>\n",
       "    </tr>\n",
       "  </thead>\n",
       "  <tbody>\n",
       "    <tr>\n",
       "      <th>873</th>\n",
       "      <td>Humblen, Mr. Adolf Mathias Nico</td>\n",
       "      <td>42.00</td>\n",
       "      <td>0</td>\n",
       "      <td>1</td>\n",
       "      <td>0</td>\n",
       "      <td>0</td>\n",
       "      <td>1</td>\n",
       "    </tr>\n",
       "    <tr>\n",
       "      <th>92</th>\n",
       "      <td>Dick, Mrs. Albert Adrian (Vera</td>\n",
       "      <td>17.00</td>\n",
       "      <td>1</td>\n",
       "      <td>0</td>\n",
       "      <td>1</td>\n",
       "      <td>0</td>\n",
       "      <td>0</td>\n",
       "    </tr>\n",
       "    <tr>\n",
       "      <th>1140</th>\n",
       "      <td>Reynolds, Mr. Harold J</td>\n",
       "      <td>21.00</td>\n",
       "      <td>0</td>\n",
       "      <td>1</td>\n",
       "      <td>0</td>\n",
       "      <td>0</td>\n",
       "      <td>1</td>\n",
       "    </tr>\n",
       "    <tr>\n",
       "      <th>443</th>\n",
       "      <td>Hickman, Mr. Lewis</td>\n",
       "      <td>32.00</td>\n",
       "      <td>0</td>\n",
       "      <td>1</td>\n",
       "      <td>0</td>\n",
       "      <td>1</td>\n",
       "      <td>0</td>\n",
       "    </tr>\n",
       "    <tr>\n",
       "      <th>968</th>\n",
       "      <td>Lindell, Mr. Edvard Bengtsson</td>\n",
       "      <td>36.00</td>\n",
       "      <td>0</td>\n",
       "      <td>1</td>\n",
       "      <td>0</td>\n",
       "      <td>0</td>\n",
       "      <td>1</td>\n",
       "    </tr>\n",
       "    <tr>\n",
       "      <th>1031</th>\n",
       "      <td>Morley, Mr. William</td>\n",
       "      <td>34.00</td>\n",
       "      <td>0</td>\n",
       "      <td>1</td>\n",
       "      <td>0</td>\n",
       "      <td>0</td>\n",
       "      <td>1</td>\n",
       "    </tr>\n",
       "    <tr>\n",
       "      <th>871</th>\n",
       "      <td>Horgan, Mr. John</td>\n",
       "      <td>29.88</td>\n",
       "      <td>0</td>\n",
       "      <td>1</td>\n",
       "      <td>0</td>\n",
       "      <td>0</td>\n",
       "      <td>1</td>\n",
       "    </tr>\n",
       "    <tr>\n",
       "      <th>246</th>\n",
       "      <td>Rothschild, Mr. Martin</td>\n",
       "      <td>55.00</td>\n",
       "      <td>0</td>\n",
       "      <td>1</td>\n",
       "      <td>1</td>\n",
       "      <td>0</td>\n",
       "      <td>0</td>\n",
       "    </tr>\n",
       "    <tr>\n",
       "      <th>816</th>\n",
       "      <td>Gheorgheff, Mr. Stanio</td>\n",
       "      <td>29.88</td>\n",
       "      <td>0</td>\n",
       "      <td>1</td>\n",
       "      <td>0</td>\n",
       "      <td>0</td>\n",
       "      <td>1</td>\n",
       "    </tr>\n",
       "    <tr>\n",
       "      <th>571</th>\n",
       "      <td>Troupiansky, Mr. Moses Aaron</td>\n",
       "      <td>23.00</td>\n",
       "      <td>0</td>\n",
       "      <td>1</td>\n",
       "      <td>0</td>\n",
       "      <td>1</td>\n",
       "      <td>0</td>\n",
       "    </tr>\n",
       "    <tr>\n",
       "      <th>1023</th>\n",
       "      <td>Mockler, Miss. Helen Mary Elli</td>\n",
       "      <td>29.88</td>\n",
       "      <td>1</td>\n",
       "      <td>0</td>\n",
       "      <td>0</td>\n",
       "      <td>0</td>\n",
       "      <td>1</td>\n",
       "    </tr>\n",
       "    <tr>\n",
       "      <th>1013</th>\n",
       "      <td>Meanwell, Miss. (Marion Ogden)</td>\n",
       "      <td>29.88</td>\n",
       "      <td>0</td>\n",
       "      <td>0</td>\n",
       "      <td>0</td>\n",
       "      <td>0</td>\n",
       "      <td>1</td>\n",
       "    </tr>\n",
       "    <tr>\n",
       "      <th>435</th>\n",
       "      <td>Hart, Mr. Benjamin</td>\n",
       "      <td>43.00</td>\n",
       "      <td>0</td>\n",
       "      <td>1</td>\n",
       "      <td>0</td>\n",
       "      <td>1</td>\n",
       "      <td>0</td>\n",
       "    </tr>\n",
       "    <tr>\n",
       "      <th>1082</th>\n",
       "      <td>Olsen, Master. Artur Karl</td>\n",
       "      <td>9.00</td>\n",
       "      <td>1</td>\n",
       "      <td>1</td>\n",
       "      <td>0</td>\n",
       "      <td>0</td>\n",
       "      <td>1</td>\n",
       "    </tr>\n",
       "    <tr>\n",
       "      <th>568</th>\n",
       "      <td>Swane, Mr. George</td>\n",
       "      <td>18.50</td>\n",
       "      <td>0</td>\n",
       "      <td>1</td>\n",
       "      <td>0</td>\n",
       "      <td>1</td>\n",
       "      <td>0</td>\n",
       "    </tr>\n",
       "  </tbody>\n",
       "</table>\n",
       "</div>"
      ],
      "text/plain": [
       "                            passenger    age  survived_yes  sex_male  \\\n",
       "873   Humblen, Mr. Adolf Mathias Nico  42.00             0         1   \n",
       "92     Dick, Mrs. Albert Adrian (Vera  17.00             1         0   \n",
       "1140           Reynolds, Mr. Harold J  21.00             0         1   \n",
       "443                Hickman, Mr. Lewis  32.00             0         1   \n",
       "968     Lindell, Mr. Edvard Bengtsson  36.00             0         1   \n",
       "1031              Morley, Mr. William  34.00             0         1   \n",
       "871                  Horgan, Mr. John  29.88             0         1   \n",
       "246            Rothschild, Mr. Martin  55.00             0         1   \n",
       "816            Gheorgheff, Mr. Stanio  29.88             0         1   \n",
       "571      Troupiansky, Mr. Moses Aaron  23.00             0         1   \n",
       "1023   Mockler, Miss. Helen Mary Elli  29.88             1         0   \n",
       "1013   Meanwell, Miss. (Marion Ogden)  29.88             0         0   \n",
       "435                Hart, Mr. Benjamin  43.00             0         1   \n",
       "1082        Olsen, Master. Artur Karl   9.00             1         1   \n",
       "568                 Swane, Mr. George  18.50             0         1   \n",
       "\n",
       "      passengerClass_1st  passengerClass_2nd  passengerClass_3rd  \n",
       "873                    0                   0                   1  \n",
       "92                     1                   0                   0  \n",
       "1140                   0                   0                   1  \n",
       "443                    0                   1                   0  \n",
       "968                    0                   0                   1  \n",
       "1031                   0                   0                   1  \n",
       "871                    0                   0                   1  \n",
       "246                    1                   0                   0  \n",
       "816                    0                   0                   1  \n",
       "571                    0                   1                   0  \n",
       "1023                   0                   0                   1  \n",
       "1013                   0                   0                   1  \n",
       "435                    0                   1                   0  \n",
       "1082                   0                   0                   1  \n",
       "568                    0                   1                   0  "
      ]
     },
     "execution_count": 325,
     "metadata": {},
     "output_type": "execute_result"
    }
   ],
   "source": [
    "titanic = pnd.get_dummies (titanic, columns=['passengerClass'])\n",
    "titanic.sample(15)"
   ]
  },
  {
   "cell_type": "code",
   "execution_count": 326,
   "id": "a4ee7732-f550-4ec7-81a4-ee36c29e2896",
   "metadata": {},
   "outputs": [
    {
     "name": "stdout",
     "output_type": "stream",
     "text": [
      "<class 'pandas.core.frame.DataFrame'>\n",
      "RangeIndex: 1309 entries, 0 to 1308\n",
      "Data columns (total 7 columns):\n",
      " #   Column              Non-Null Count  Dtype  \n",
      "---  ------              --------------  -----  \n",
      " 0   passenger           1309 non-null   object \n",
      " 1   age                 1309 non-null   float64\n",
      " 2   survived_yes        1309 non-null   uint8  \n",
      " 3   sex_male            1309 non-null   uint8  \n",
      " 4   passengerClass_1st  1309 non-null   uint8  \n",
      " 5   passengerClass_2nd  1309 non-null   uint8  \n",
      " 6   passengerClass_3rd  1309 non-null   uint8  \n",
      "dtypes: float64(1), object(1), uint8(5)\n",
      "memory usage: 27.0+ KB\n"
     ]
    }
   ],
   "source": [
    "titanic.info()"
   ]
  },
  {
   "cell_type": "code",
   "execution_count": 327,
   "id": "1f150cf2",
   "metadata": {},
   "outputs": [
    {
     "data": {
      "text/plain": [
       "survived_yes\n",
       "0    809\n",
       "1    500\n",
       "dtype: int64"
      ]
     },
     "execution_count": 327,
     "metadata": {},
     "output_type": "execute_result"
    }
   ],
   "source": [
    "titanic.groupby('survived_yes').size()"
   ]
  },
  {
   "cell_type": "markdown",
   "id": "27aea813-aa67-4bd5-87b1-77be65b852ca",
   "metadata": {},
   "source": [
    "## Séparation X & Y, Training & Test\n",
    "Sélection des features et séparation de notre dataset en test et training. "
   ]
  },
  {
   "cell_type": "code",
   "execution_count": 328,
   "id": "20016cfd-f59b-48a2-9c9f-2dc7ec6ca3f1",
   "metadata": {},
   "outputs": [
    {
     "name": "stdout",
     "output_type": "stream",
     "text": [
      "<class 'pandas.core.frame.DataFrame'>\n",
      "Int64Index: 916 entries, 572 to 501\n",
      "Data columns (total 7 columns):\n",
      " #   Column              Non-Null Count  Dtype  \n",
      "---  ------              --------------  -----  \n",
      " 0   passenger           916 non-null    object \n",
      " 1   age                 916 non-null    float64\n",
      " 2   survived_yes        916 non-null    uint8  \n",
      " 3   sex_male            916 non-null    uint8  \n",
      " 4   passengerClass_1st  916 non-null    uint8  \n",
      " 5   passengerClass_2nd  916 non-null    uint8  \n",
      " 6   passengerClass_3rd  916 non-null    uint8  \n",
      "dtypes: float64(1), object(1), uint8(5)\n",
      "memory usage: 25.9+ KB\n"
     ]
    }
   ],
   "source": [
    "train_titanic, test_titanic = train_test_split (titanic, test_size=0.3, stratify=titanic['survived_yes'])\n",
    "train_titanic.info()"
   ]
  },
  {
   "cell_type": "code",
   "execution_count": 329,
   "id": "2eea6928",
   "metadata": {},
   "outputs": [
    {
     "name": "stdout",
     "output_type": "stream",
     "text": [
      "<class 'pandas.core.frame.DataFrame'>\n",
      "Int64Index: 393 entries, 918 to 1069\n",
      "Data columns (total 7 columns):\n",
      " #   Column              Non-Null Count  Dtype  \n",
      "---  ------              --------------  -----  \n",
      " 0   passenger           393 non-null    object \n",
      " 1   age                 393 non-null    float64\n",
      " 2   survived_yes        393 non-null    uint8  \n",
      " 3   sex_male            393 non-null    uint8  \n",
      " 4   passengerClass_1st  393 non-null    uint8  \n",
      " 5   passengerClass_2nd  393 non-null    uint8  \n",
      " 6   passengerClass_3rd  393 non-null    uint8  \n",
      "dtypes: float64(1), object(1), uint8(5)\n",
      "memory usage: 11.1+ KB\n"
     ]
    }
   ],
   "source": [
    "test_titanic.info()"
   ]
  },
  {
   "cell_type": "markdown",
   "id": "1fa686b8",
   "metadata": {},
   "source": [
    "On vérifie la distribution des classes..."
   ]
  },
  {
   "cell_type": "code",
   "execution_count": 330,
   "id": "e9f2722f",
   "metadata": {},
   "outputs": [
    {
     "data": {
      "text/plain": [
       "survived_yes\n",
       "0    566\n",
       "1    350\n",
       "dtype: int64"
      ]
     },
     "execution_count": 330,
     "metadata": {},
     "output_type": "execute_result"
    }
   ],
   "source": [
    "train_titanic.groupby('survived_yes').size()"
   ]
  },
  {
   "cell_type": "code",
   "execution_count": 331,
   "id": "3ea973f1",
   "metadata": {},
   "outputs": [
    {
     "data": {
      "text/plain": [
       "survived_yes\n",
       "0    243\n",
       "1    150\n",
       "dtype: int64"
      ]
     },
     "execution_count": 331,
     "metadata": {},
     "output_type": "execute_result"
    }
   ],
   "source": [
    "test_titanic.groupby('survived_yes').size()"
   ]
  },
  {
   "cell_type": "code",
   "execution_count": 332,
   "id": "63d87209-ee99-4a6a-a553-0d0385f4f2bf",
   "metadata": {},
   "outputs": [
    {
     "data": {
      "text/plain": [
       "['age',\n",
       " 'sex_male',\n",
       " 'passengerClass_1st',\n",
       " 'passengerClass_2nd',\n",
       " 'passengerClass_3rd']"
      ]
     },
     "execution_count": 332,
     "metadata": {},
     "output_type": "execute_result"
    }
   ],
   "source": [
    "features_names = ['age','sex_male','passengerClass_1st','passengerClass_2nd','passengerClass_3rd']\n",
    "features_names"
   ]
  },
  {
   "cell_type": "code",
   "execution_count": 333,
   "id": "c9b1e4de-4c29-4210-8702-09c0a5d089d5",
   "metadata": {},
   "outputs": [
    {
     "name": "stdout",
     "output_type": "stream",
     "text": [
      "<class 'pandas.core.frame.DataFrame'>\n",
      "Int64Index: 393 entries, 918 to 1069\n",
      "Data columns (total 5 columns):\n",
      " #   Column              Non-Null Count  Dtype  \n",
      "---  ------              --------------  -----  \n",
      " 0   age                 393 non-null    float64\n",
      " 1   sex_male            393 non-null    uint8  \n",
      " 2   passengerClass_1st  393 non-null    uint8  \n",
      " 3   passengerClass_2nd  393 non-null    uint8  \n",
      " 4   passengerClass_3rd  393 non-null    uint8  \n",
      "dtypes: float64(1), uint8(4)\n",
      "memory usage: 7.7 KB\n"
     ]
    }
   ],
   "source": [
    "X_train = train_titanic[features_names]\n",
    "X_test = test_titanic[features_names]\n",
    "X_test.info()"
   ]
  },
  {
   "cell_type": "code",
   "execution_count": 334,
   "id": "9a00bd96-5fe6-4beb-ab39-ab47d85672ec",
   "metadata": {},
   "outputs": [
    {
     "data": {
      "text/plain": [
       "991     1\n",
       "256     1\n",
       "1042    1\n",
       "761     0\n",
       "813     0\n",
       "177     1\n",
       "1293    0\n",
       "682     0\n",
       "951     0\n",
       "568     0\n",
       "694     0\n",
       "222     0\n",
       "599     0\n",
       "1123    1\n",
       "206     0\n",
       "Name: survived_yes, dtype: uint8"
      ]
     },
     "execution_count": 334,
     "metadata": {},
     "output_type": "execute_result"
    }
   ],
   "source": [
    "Y_train = train_titanic['survived_yes']\n",
    "Y_test = test_titanic['survived_yes']\n",
    "Y_train[15:30]"
   ]
  },
  {
   "cell_type": "markdown",
   "id": "8d36e366-9727-43f3-99e0-f3b713ffad4e",
   "metadata": {},
   "source": [
    "## Création des modèles\n",
    "\n",
    "### Arbre de décision simple\n",
    "\n",
    "Au début, on va créer une simple **arbre de décision**, puis on pourra comparer les résultats de ce modèle aux modèles avec **Random Forest**. \n"
   ]
  },
  {
   "cell_type": "code",
   "execution_count": 335,
   "id": "e8fe2542-5efa-4b13-b68c-ec7268aed3cb",
   "metadata": {},
   "outputs": [
    {
     "name": "stdout",
     "output_type": "stream",
     "text": [
      " age : 0.1132 \n",
      " sex_male : 0.6832 \n",
      " passengerClass_1st : 0.0409 \n",
      " passengerClass_2nd : 0.0027 \n",
      " passengerClass_3rd : 0.1600 \n"
     ]
    }
   ],
   "source": [
    "max_depth = 4\n",
    "\n",
    "arbre = DecisionTreeClassifier(max_depth=max_depth)\n",
    "arbre.fit (X_train, Y_train)\n",
    "\n",
    "for f,i in zip(features_names, arbre.feature_importances_) :\n",
    "    print (\" {} : {:.4f} \".format(f,i))\n",
    "\n",
    "# on peut aussi visualiser en utilisant un DataFrame\n",
    "#pnd.DataFrame({'feature' : features_names,\n",
    "#               'importance' : arbre.feature_importances_ })\n"
   ]
  },
  {
   "cell_type": "code",
   "execution_count": 336,
   "id": "6192d7ed-0775-4b6a-bd16-2179d9a96d62",
   "metadata": {},
   "outputs": [],
   "source": [
    "pred_arbre = arbre.predict(X_test)"
   ]
  },
  {
   "cell_type": "code",
   "execution_count": 337,
   "id": "9f513cd0-0a3e-4e2e-8af3-072cfff4afe6",
   "metadata": {},
   "outputs": [
    {
     "name": "stdout",
     "output_type": "stream",
     "text": [
      "[[200  43]\n",
      " [ 45 105]]\n"
     ]
    }
   ],
   "source": [
    "print (confusion_matrix (Y_test, pred_arbre))\n"
   ]
  },
  {
   "cell_type": "code",
   "execution_count": 338,
   "id": "01af8fce-ed5b-4090-b1ee-c7aeeecd0cfd",
   "metadata": {},
   "outputs": [
    {
     "name": "stdout",
     "output_type": "stream",
     "text": [
      "              precision    recall  f1-score   support\n",
      "\n",
      "           0       0.82      0.82      0.82       243\n",
      "           1       0.71      0.70      0.70       150\n",
      "\n",
      "    accuracy                           0.78       393\n",
      "   macro avg       0.76      0.76      0.76       393\n",
      "weighted avg       0.78      0.78      0.78       393\n",
      "\n"
     ]
    }
   ],
   "source": [
    "print (classification_report(Y_test, pred_arbre))"
   ]
  },
  {
   "cell_type": "code",
   "execution_count": 339,
   "id": "f67b0916-9282-46dd-8172-b8ef4cf32f24",
   "metadata": {},
   "outputs": [
    {
     "name": "stdout",
     "output_type": "stream",
     "text": [
      "Accuracy = 0.78        Precision = 0.78        Recall = 0.78\n"
     ]
    }
   ],
   "source": [
    "ac = accuracy_score (Y_test, pred_arbre)\n",
    "pr = precision_score (Y_test, pred_arbre, average='weighted')\n",
    "re = recall_score (Y_test, pred_arbre, average='weighted')\n",
    "\n",
    "print (\"Accuracy = {acc:.2f}\\\n",
    "        Precision = {prec:.2f}\\\n",
    "        Recall = {rec:.2f}\".format(acc = ac, prec = pr, rec = re))"
   ]
  },
  {
   "cell_type": "code",
   "execution_count": 340,
   "id": "c6dfea65-4c56-4e2c-b593-107b87d5d840",
   "metadata": {},
   "outputs": [
    {
     "data": {
      "text/plain": [
       "[Text(283.98214285714283, 391.392, 'sex_male <= 0.5\\ngini = 0.472\\nsamples = 916\\nvalue = [566, 350]\\nclass = No'),\n",
       " Text(159.42857142857142, 304.416, 'passengerClass_3rd <= 0.5\\ngini = 0.378\\nsamples = 316\\nvalue = [80, 236]\\nclass = Yes'),\n",
       " Text(79.71428571428571, 217.44, 'passengerClass_2nd <= 0.5\\ngini = 0.131\\nsamples = 170\\nvalue = [12, 158]\\nclass = Yes'),\n",
       " Text(39.857142857142854, 130.464, 'age <= 62.5\\ngini = 0.075\\nsamples = 102\\nvalue = [4, 98]\\nclass = Yes'),\n",
       " Text(19.928571428571427, 43.488, 'gini = 0.059\\nsamples = 98\\nvalue = [3, 95]\\nclass = Yes'),\n",
       " Text(59.78571428571428, 43.488, 'gini = 0.375\\nsamples = 4\\nvalue = [1, 3]\\nclass = Yes'),\n",
       " Text(119.57142857142856, 130.464, 'age <= 57.5\\ngini = 0.208\\nsamples = 68\\nvalue = [8, 60]\\nclass = Yes'),\n",
       " Text(99.64285714285714, 43.488, 'gini = 0.187\\nsamples = 67\\nvalue = [7, 60]\\nclass = Yes'),\n",
       " Text(139.5, 43.488, 'gini = 0.0\\nsamples = 1\\nvalue = [1, 0]\\nclass = No'),\n",
       " Text(239.1428571428571, 217.44, 'age <= 5.5\\ngini = 0.498\\nsamples = 146\\nvalue = [68, 78]\\nclass = Yes'),\n",
       " Text(199.28571428571428, 130.464, 'age <= 1.5\\ngini = 0.278\\nsamples = 12\\nvalue = [2, 10]\\nclass = Yes'),\n",
       " Text(179.35714285714283, 43.488, 'gini = 0.0\\nsamples = 5\\nvalue = [0, 5]\\nclass = Yes'),\n",
       " Text(219.2142857142857, 43.488, 'gini = 0.408\\nsamples = 7\\nvalue = [2, 5]\\nclass = Yes'),\n",
       " Text(279.0, 130.464, 'age <= 14.75\\ngini = 0.5\\nsamples = 134\\nvalue = [66, 68]\\nclass = Yes'),\n",
       " Text(259.07142857142856, 43.488, 'gini = 0.346\\nsamples = 9\\nvalue = [7, 2]\\nclass = No'),\n",
       " Text(298.9285714285714, 43.488, 'gini = 0.498\\nsamples = 125\\nvalue = [59, 66]\\nclass = Yes'),\n",
       " Text(408.5357142857143, 304.416, 'age <= 9.5\\ngini = 0.308\\nsamples = 600\\nvalue = [486, 114]\\nclass = No'),\n",
       " Text(338.7857142857143, 217.44, 'passengerClass_3rd <= 0.5\\ngini = 0.482\\nsamples = 32\\nvalue = [13, 19]\\nclass = Yes'),\n",
       " Text(318.85714285714283, 130.464, 'gini = 0.0\\nsamples = 11\\nvalue = [0, 11]\\nclass = Yes'),\n",
       " Text(358.71428571428567, 130.464, 'age <= 8.5\\ngini = 0.472\\nsamples = 21\\nvalue = [13, 8]\\nclass = No'),\n",
       " Text(338.7857142857143, 43.488, 'gini = 0.43\\nsamples = 16\\nvalue = [11, 5]\\nclass = No'),\n",
       " Text(378.6428571428571, 43.488, 'gini = 0.48\\nsamples = 5\\nvalue = [2, 3]\\nclass = Yes'),\n",
       " Text(478.2857142857142, 217.44, 'passengerClass_1st <= 0.5\\ngini = 0.279\\nsamples = 568\\nvalue = [473, 95]\\nclass = No'),\n",
       " Text(438.4285714285714, 130.464, 'age <= 39.5\\ngini = 0.22\\nsamples = 453\\nvalue = [396, 57]\\nclass = No'),\n",
       " Text(418.49999999999994, 43.488, 'gini = 0.241\\nsamples = 399\\nvalue = [343, 56]\\nclass = No'),\n",
       " Text(458.35714285714283, 43.488, 'gini = 0.036\\nsamples = 54\\nvalue = [53, 1]\\nclass = No'),\n",
       " Text(518.1428571428571, 130.464, 'age <= 60.5\\ngini = 0.442\\nsamples = 115\\nvalue = [77, 38]\\nclass = No'),\n",
       " Text(498.21428571428567, 43.488, 'gini = 0.458\\nsamples = 107\\nvalue = [69, 38]\\nclass = No'),\n",
       " Text(538.0714285714286, 43.488, 'gini = 0.0\\nsamples = 8\\nvalue = [8, 0]\\nclass = No')]"
      ]
     },
     "execution_count": 340,
     "metadata": {},
     "output_type": "execute_result"
    },
    {
     "data": {
      "image/png": "[encoded data removed]",
      "text/plain": [
       "<Figure size 720x576 with 1 Axes>"
      ]
     },
     "metadata": {
      "needs_background": "light"
     },
     "output_type": "display_data"
    }
   ],
   "source": [
    "%matplotlib inline\n",
    "plt.figure(figsize=(10,8))\n",
    "\n",
    "plot_tree(arbre, feature_names=features_names, \n",
    "          class_names=['No','Yes'], fontsize=8)"
   ]
  },
  {
   "cell_type": "code",
   "execution_count": 341,
   "id": "c65f5954-59de-4c48-bd89-b646b3ed2af0",
   "metadata": {},
   "outputs": [
    {
     "name": "stdout",
     "output_type": "stream",
     "text": [
      "|--- sex_male <= 0.50\n",
      "|   |--- passengerClass_3rd <= 0.50\n",
      "|   |   |--- passengerClass_2nd <= 0.50\n",
      "|   |   |   |--- age <= 62.50\n",
      "|   |   |   |   |--- class: 1\n",
      "|   |   |   |--- age >  62.50\n",
      "|   |   |   |   |--- class: 1\n",
      "|   |   |--- passengerClass_2nd >  0.50\n",
      "|   |   |   |--- age <= 57.50\n",
      "|   |   |   |   |--- class: 1\n",
      "|   |   |   |--- age >  57.50\n",
      "|   |   |   |   |--- class: 0\n",
      "|   |--- passengerClass_3rd >  0.50\n",
      "|   |   |--- age <= 5.50\n",
      "|   |   |   |--- age <= 1.50\n",
      "|   |   |   |   |--- class: 1\n",
      "|   |   |   |--- age >  1.50\n",
      "|   |   |   |   |--- class: 1\n",
      "|   |   |--- age >  5.50\n",
      "|   |   |   |--- age <= 14.75\n",
      "|   |   |   |   |--- class: 0\n",
      "|   |   |   |--- age >  14.75\n",
      "|   |   |   |   |--- class: 1\n",
      "|--- sex_male >  0.50\n",
      "|   |--- age <= 9.50\n",
      "|   |   |--- passengerClass_3rd <= 0.50\n",
      "|   |   |   |--- class: 1\n",
      "|   |   |--- passengerClass_3rd >  0.50\n",
      "|   |   |   |--- age <= 8.50\n",
      "|   |   |   |   |--- class: 0\n",
      "|   |   |   |--- age >  8.50\n",
      "|   |   |   |   |--- class: 1\n",
      "|   |--- age >  9.50\n",
      "|   |   |--- passengerClass_1st <= 0.50\n",
      "|   |   |   |--- age <= 39.50\n",
      "|   |   |   |   |--- class: 0\n",
      "|   |   |   |--- age >  39.50\n",
      "|   |   |   |   |--- class: 0\n",
      "|   |   |--- passengerClass_1st >  0.50\n",
      "|   |   |   |--- age <= 60.50\n",
      "|   |   |   |   |--- class: 0\n",
      "|   |   |   |--- age >  60.50\n",
      "|   |   |   |   |--- class: 0\n",
      "\n"
     ]
    }
   ],
   "source": [
    "print (export_text(arbre, feature_names=features_names, \n",
    "                spacing=3, decimals=2))"
   ]
  },
  {
   "cell_type": "markdown",
   "id": "14455dce-2c13-4677-9d2b-b45d2931764b",
   "metadata": {},
   "source": [
    "### Random Forest\n",
    "\n",
    "On essaie maintenant de construire une forêt aléatoire avec les mêmes paramètres (max_depth) et un nombre limité d'estimators.   "
   ]
  },
  {
   "cell_type": "code",
   "execution_count": 342,
   "id": "c4faffa0-b9c1-47ec-8825-09b0bd868913",
   "metadata": {},
   "outputs": [
    {
     "name": "stdout",
     "output_type": "stream",
     "text": [
      " age : 0.1988 \n",
      " sex_male : 0.5448 \n",
      " passengerClass_1st : 0.1186 \n",
      " passengerClass_2nd : 0.0217 \n",
      " passengerClass_3rd : 0.1161 \n"
     ]
    }
   ],
   "source": [
    "foret = RandomForestClassifier (n_estimators=5, max_depth=max_depth)\n",
    "\n",
    "foret.fit(X_train, Y_train)\n",
    "\n",
    "for f,i in zip(features_names, foret.feature_importances_) :\n",
    "    print (\" {} : {:.4f} \".format(f,i))"
   ]
  },
  {
   "cell_type": "code",
   "execution_count": 343,
   "id": "17ea4ed9-99c3-47ff-83da-7279147d61d2",
   "metadata": {},
   "outputs": [
    {
     "name": "stdout",
     "output_type": "stream",
     "text": [
      "[[229  14]\n",
      " [ 65  85]]\n"
     ]
    }
   ],
   "source": [
    "pred_foret = foret.predict(X_test)\n",
    "\n",
    "print (confusion_matrix (Y_test, pred_foret))"
   ]
  },
  {
   "cell_type": "code",
   "execution_count": 344,
   "id": "4ed1145c-4eb8-4b09-a4af-65518ac8faa1",
   "metadata": {},
   "outputs": [
    {
     "name": "stdout",
     "output_type": "stream",
     "text": [
      "              precision    recall  f1-score   support\n",
      "\n",
      "           0       0.78      0.94      0.85       243\n",
      "           1       0.86      0.57      0.68       150\n",
      "\n",
      "    accuracy                           0.80       393\n",
      "   macro avg       0.82      0.75      0.77       393\n",
      "weighted avg       0.81      0.80      0.79       393\n",
      "\n"
     ]
    }
   ],
   "source": [
    "print (classification_report(Y_test, pred_foret))"
   ]
  },
  {
   "cell_type": "code",
   "execution_count": 345,
   "id": "5ad9f992-22e9-4cad-89d7-f6f95349e60d",
   "metadata": {},
   "outputs": [
    {
     "name": "stdout",
     "output_type": "stream",
     "text": [
      "1 |--- passengerClass_3rd <= 0.50\n",
      "|   |--- sex_male <= 0.50\n",
      "|   |   |--- passengerClass_2nd <= 0.50\n",
      "|   |   |   |--- age <= 49.50\n",
      "|   |   |   |   |--- class: 1.0\n",
      "|   |   |   |--- age >  49.50\n",
      "|   |   |   |   |--- class: 1.0\n",
      "|   |   |--- passengerClass_2nd >  0.50\n",
      "|   |   |   |--- age <= 55.00\n",
      "|   |   |   |   |--- class: 1.0\n",
      "|   |   |   |--- age >  55.00\n",
      "|   |   |   |   |--- class: 0.0\n",
      "|   |--- sex_male >  0.50\n",
      "|   |   |--- age <= 11.00\n",
      "|   |   |   |--- class: 1.0\n",
      "|   |   |--- age >  11.00\n",
      "|   |   |   |--- passengerClass_1st <= 0.50\n",
      "|   |   |   |   |--- class: 0.0\n",
      "|   |   |   |--- passengerClass_1st >  0.50\n",
      "|   |   |   |   |--- class: 0.0\n",
      "|--- passengerClass_3rd >  0.50\n",
      "|   |--- sex_male <= 0.50\n",
      "|   |   |--- age <= 28.00\n",
      "|   |   |   |--- age <= 1.50\n",
      "|   |   |   |   |--- class: 1.0\n",
      "|   |   |   |--- age >  1.50\n",
      "|   |   |   |   |--- class: 1.0\n",
      "|   |   |--- age >  28.00\n",
      "|   |   |   |--- age <= 44.00\n",
      "|   |   |   |   |--- class: 0.0\n",
      "|   |   |   |--- age >  44.00\n",
      "|   |   |   |   |--- class: 1.0\n",
      "|   |--- sex_male >  0.50\n",
      "|   |   |--- age <= 9.50\n",
      "|   |   |   |--- age <= 0.38\n",
      "|   |   |   |   |--- class: 0.0\n",
      "|   |   |   |--- age >  0.38\n",
      "|   |   |   |   |--- class: 0.0\n",
      "|   |   |--- age >  9.50\n",
      "|   |   |   |--- age <= 39.50\n",
      "|   |   |   |   |--- class: 0.0\n",
      "|   |   |   |--- age >  39.50\n",
      "|   |   |   |   |--- class: 0.0\n",
      "\n",
      "2 |--- passengerClass_1st <= 0.50\n",
      "|   |--- age <= 9.50\n",
      "|   |   |--- age <= 2.50\n",
      "|   |   |   |--- passengerClass_2nd <= 0.50\n",
      "|   |   |   |   |--- class: 1.0\n",
      "|   |   |   |--- passengerClass_2nd >  0.50\n",
      "|   |   |   |   |--- class: 1.0\n",
      "|   |   |--- age >  2.50\n",
      "|   |   |   |--- age <= 5.50\n",
      "|   |   |   |   |--- class: 1.0\n",
      "|   |   |   |--- age >  5.50\n",
      "|   |   |   |   |--- class: 1.0\n",
      "|   |--- age >  9.50\n",
      "|   |   |--- passengerClass_2nd <= 0.50\n",
      "|   |   |   |--- age <= 16.50\n",
      "|   |   |   |   |--- class: 0.0\n",
      "|   |   |   |--- age >  16.50\n",
      "|   |   |   |   |--- class: 0.0\n",
      "|   |   |--- passengerClass_2nd >  0.50\n",
      "|   |   |   |--- age <= 20.50\n",
      "|   |   |   |   |--- class: 1.0\n",
      "|   |   |   |--- age >  20.50\n",
      "|   |   |   |   |--- class: 0.0\n",
      "|--- passengerClass_1st >  0.50\n",
      "|   |--- sex_male <= 0.50\n",
      "|   |   |--- age <= 62.50\n",
      "|   |   |   |--- age <= 49.50\n",
      "|   |   |   |   |--- class: 1.0\n",
      "|   |   |   |--- age >  49.50\n",
      "|   |   |   |   |--- class: 1.0\n",
      "|   |   |--- age >  62.50\n",
      "|   |   |   |--- class: 0.0\n",
      "|   |--- sex_male >  0.50\n",
      "|   |   |--- age <= 57.00\n",
      "|   |   |   |--- age <= 47.00\n",
      "|   |   |   |   |--- class: 0.0\n",
      "|   |   |   |--- age >  47.00\n",
      "|   |   |   |   |--- class: 1.0\n",
      "|   |   |--- age >  57.00\n",
      "|   |   |   |--- class: 0.0\n",
      "\n",
      "3 |--- passengerClass_3rd <= 0.50\n",
      "|   |--- passengerClass_2nd <= 0.50\n",
      "|   |   |--- sex_male <= 0.50\n",
      "|   |   |   |--- age <= 62.50\n",
      "|   |   |   |   |--- class: 1.0\n",
      "|   |   |   |--- age >  62.50\n",
      "|   |   |   |   |--- class: 0.0\n",
      "|   |   |--- sex_male >  0.50\n",
      "|   |   |   |--- age <= 12.50\n",
      "|   |   |   |   |--- class: 1.0\n",
      "|   |   |   |--- age >  12.50\n",
      "|   |   |   |   |--- class: 0.0\n",
      "|   |--- passengerClass_2nd >  0.50\n",
      "|   |   |--- sex_male <= 0.50\n",
      "|   |   |   |--- age <= 29.44\n",
      "|   |   |   |   |--- class: 1.0\n",
      "|   |   |   |--- age >  29.44\n",
      "|   |   |   |   |--- class: 1.0\n",
      "|   |   |--- sex_male >  0.50\n",
      "|   |   |   |--- age <= 11.00\n",
      "|   |   |   |   |--- class: 1.0\n",
      "|   |   |   |--- age >  11.00\n",
      "|   |   |   |   |--- class: 0.0\n",
      "|--- passengerClass_3rd >  0.50\n",
      "|   |--- age <= 5.50\n",
      "|   |   |--- age <= 1.50\n",
      "|   |   |   |--- sex_male <= 0.50\n",
      "|   |   |   |   |--- class: 1.0\n",
      "|   |   |   |--- sex_male >  0.50\n",
      "|   |   |   |   |--- class: 0.0\n",
      "|   |   |--- age >  1.50\n",
      "|   |   |   |--- sex_male <= 0.50\n",
      "|   |   |   |   |--- class: 1.0\n",
      "|   |   |   |--- sex_male >  0.50\n",
      "|   |   |   |   |--- class: 0.0\n",
      "|   |--- age >  5.50\n",
      "|   |   |--- sex_male <= 0.50\n",
      "|   |   |   |--- age <= 14.50\n",
      "|   |   |   |   |--- class: 0.0\n",
      "|   |   |   |--- age >  14.50\n",
      "|   |   |   |   |--- class: 0.0\n",
      "|   |   |--- sex_male >  0.50\n",
      "|   |   |   |--- age <= 39.50\n",
      "|   |   |   |   |--- class: 0.0\n",
      "|   |   |   |--- age >  39.50\n",
      "|   |   |   |   |--- class: 0.0\n",
      "\n",
      "4 |--- passengerClass_1st <= 0.50\n",
      "|   |--- sex_male <= 0.50\n",
      "|   |   |--- passengerClass_3rd <= 0.50\n",
      "|   |   |   |--- age <= 28.50\n",
      "|   |   |   |   |--- class: 1.0\n",
      "|   |   |   |--- age >  28.50\n",
      "|   |   |   |   |--- class: 1.0\n",
      "|   |   |--- passengerClass_3rd >  0.50\n",
      "|   |   |   |--- age <= 6.50\n",
      "|   |   |   |   |--- class: 1.0\n",
      "|   |   |   |--- age >  6.50\n",
      "|   |   |   |   |--- class: 0.0\n",
      "|   |--- sex_male >  0.50\n",
      "|   |   |--- age <= 9.50\n",
      "|   |   |   |--- passengerClass_3rd <= 0.50\n",
      "|   |   |   |   |--- class: 1.0\n",
      "|   |   |   |--- passengerClass_3rd >  0.50\n",
      "|   |   |   |   |--- class: 0.0\n",
      "|   |   |--- age >  9.50\n",
      "|   |   |   |--- passengerClass_2nd <= 0.50\n",
      "|   |   |   |   |--- class: 0.0\n",
      "|   |   |   |--- passengerClass_2nd >  0.50\n",
      "|   |   |   |   |--- class: 0.0\n",
      "|--- passengerClass_1st >  0.50\n",
      "|   |--- sex_male <= 0.50\n",
      "|   |   |--- age <= 61.50\n",
      "|   |   |   |--- age <= 35.50\n",
      "|   |   |   |   |--- class: 1.0\n",
      "|   |   |   |--- age >  35.50\n",
      "|   |   |   |   |--- class: 1.0\n",
      "|   |   |--- age >  61.50\n",
      "|   |   |   |--- age <= 63.50\n",
      "|   |   |   |   |--- class: 0.0\n",
      "|   |   |   |--- age >  63.50\n",
      "|   |   |   |   |--- class: 1.0\n",
      "|   |--- sex_male >  0.50\n",
      "|   |   |--- age <= 27.50\n",
      "|   |   |   |--- age <= 22.50\n",
      "|   |   |   |   |--- class: 0.0\n",
      "|   |   |   |--- age >  22.50\n",
      "|   |   |   |   |--- class: 1.0\n",
      "|   |   |--- age >  27.50\n",
      "|   |   |   |--- age <= 30.50\n",
      "|   |   |   |   |--- class: 0.0\n",
      "|   |   |   |--- age >  30.50\n",
      "|   |   |   |   |--- class: 0.0\n",
      "\n",
      "5 |--- passengerClass_3rd <= 0.50\n",
      "|   |--- passengerClass_1st <= 0.50\n",
      "|   |   |--- age <= 13.00\n",
      "|   |   |   |--- class: 1.0\n",
      "|   |   |--- age >  13.00\n",
      "|   |   |   |--- sex_male <= 0.50\n",
      "|   |   |   |   |--- class: 1.0\n",
      "|   |   |   |--- sex_male >  0.50\n",
      "|   |   |   |   |--- class: 0.0\n",
      "|   |--- passengerClass_1st >  0.50\n",
      "|   |   |--- age <= 17.50\n",
      "|   |   |   |--- class: 1.0\n",
      "|   |   |--- age >  17.50\n",
      "|   |   |   |--- sex_male <= 0.50\n",
      "|   |   |   |   |--- class: 1.0\n",
      "|   |   |   |--- sex_male >  0.50\n",
      "|   |   |   |   |--- class: 0.0\n",
      "|--- passengerClass_3rd >  0.50\n",
      "|   |--- sex_male <= 0.50\n",
      "|   |   |--- age <= 6.50\n",
      "|   |   |   |--- age <= 3.50\n",
      "|   |   |   |   |--- class: 1.0\n",
      "|   |   |   |--- age >  3.50\n",
      "|   |   |   |   |--- class: 1.0\n",
      "|   |   |--- age >  6.50\n",
      "|   |   |   |--- age <= 14.75\n",
      "|   |   |   |   |--- class: 0.0\n",
      "|   |   |   |--- age >  14.75\n",
      "|   |   |   |   |--- class: 1.0\n",
      "|   |--- sex_male >  0.50\n",
      "|   |   |--- age <= 0.92\n",
      "|   |   |   |--- age <= 0.38\n",
      "|   |   |   |   |--- class: 0.0\n",
      "|   |   |   |--- age >  0.38\n",
      "|   |   |   |   |--- class: 1.0\n",
      "|   |   |--- age >  0.92\n",
      "|   |   |   |--- age <= 32.50\n",
      "|   |   |   |   |--- class: 0.0\n",
      "|   |   |   |--- age >  32.50\n",
      "|   |   |   |   |--- class: 0.0\n",
      "\n"
     ]
    }
   ],
   "source": [
    "i = 1\n",
    "for tree in foret.estimators_ :\n",
    "    print (i,export_text(tree, feature_names=features_names, \n",
    "                spacing=3, decimals=2))\n",
    "    i += 1"
   ]
  },
  {
   "cell_type": "markdown",
   "id": "a851a37d-9830-4360-87f4-db63587ac8e1",
   "metadata": {},
   "source": [
    "### Comparaison\n",
    "Maintenant, on va essayer de créer pour les deux algorithmes, des modèles plus performants et on va les comparer. \n"
   ]
  },
  {
   "cell_type": "code",
   "execution_count": 346,
   "id": "d0cffd24-27cf-419e-8935-909d26228bec",
   "metadata": {},
   "outputs": [
    {
     "name": "stdout",
     "output_type": "stream",
     "text": [
      " age : 0.2601 \n",
      " sex_male : 0.5674 \n",
      " passengerClass_1st : 0.0362 \n",
      " passengerClass_2nd : 0.0029 \n",
      " passengerClass_3rd : 0.1334 \n"
     ]
    }
   ],
   "source": [
    "arbre2 = DecisionTreeClassifier(max_depth=(max_depth*2))\n",
    "arbre2.fit (X_train, Y_train)\n",
    "pred_arbre2 = arbre2.predict (X_test)\n",
    "\n",
    "\n",
    "for f,i in zip(features_names, arbre2.feature_importances_) :\n",
    "    print (\" {} : {:.4f} \".format(f,i))\n",
    "                               "
   ]
  },
  {
   "cell_type": "code",
   "execution_count": 347,
   "id": "1586709a-eef5-4881-af17-c104a39cc5e6",
   "metadata": {},
   "outputs": [
    {
     "name": "stdout",
     "output_type": "stream",
     "text": [
      " age : 0.3719 \n",
      " sex_male : 0.4617 \n",
      " passengerClass_1st : 0.0477 \n",
      " passengerClass_2nd : 0.0079 \n",
      " passengerClass_3rd : 0.1107 \n"
     ]
    }
   ],
   "source": [
    "foret2 = RandomForestClassifier (n_estimators=15, max_depth=(max_depth*2))\n",
    "foret2.fit(X_train, Y_train)\n",
    "pred_foret2 = foret2.predict(X_test)\n",
    "\n",
    "for f,i in zip(features_names, \n",
    "               foret2.feature_importances_) :\n",
    "    print (\" {} : {:.4f} \".format(f,i))"
   ]
  },
  {
   "cell_type": "code",
   "execution_count": 348,
   "id": "f494749d-7917-4a62-b091-08f8d3d1a165",
   "metadata": {},
   "outputs": [
    {
     "name": "stdout",
     "output_type": "stream",
     "text": [
      "              precision    recall  f1-score   support\n",
      "\n",
      "           0       0.81      0.86      0.83       243\n",
      "           1       0.75      0.67      0.71       150\n",
      "\n",
      "    accuracy                           0.79       393\n",
      "   macro avg       0.78      0.77      0.77       393\n",
      "weighted avg       0.79      0.79      0.79       393\n",
      "\n"
     ]
    }
   ],
   "source": [
    "print (classification_report(Y_test, pred_arbre2))"
   ]
  },
  {
   "cell_type": "code",
   "execution_count": 349,
   "id": "b21d9897-3457-4d31-ac6f-1fb12bc60266",
   "metadata": {},
   "outputs": [
    {
     "name": "stdout",
     "output_type": "stream",
     "text": [
      "              precision    recall  f1-score   support\n",
      "\n",
      "           0       0.80      0.86      0.83       243\n",
      "           1       0.75      0.65      0.70       150\n",
      "\n",
      "    accuracy                           0.78       393\n",
      "   macro avg       0.77      0.76      0.76       393\n",
      "weighted avg       0.78      0.78      0.78       393\n",
      "\n"
     ]
    }
   ],
   "source": [
    "print (classification_report(Y_test, pred_foret2))"
   ]
  },
  {
   "cell_type": "code",
   "execution_count": 350,
   "id": "1e0b6bbe-8581-489f-af82-413e71e22932",
   "metadata": {},
   "outputs": [
    {
     "data": {
      "text/plain": [
       "array([[209,  34],\n",
       "       [ 49, 101]])"
      ]
     },
     "execution_count": 350,
     "metadata": {},
     "output_type": "execute_result"
    }
   ],
   "source": [
    "confusion_matrix (Y_test, pred_arbre2)"
   ]
  },
  {
   "cell_type": "code",
   "execution_count": 351,
   "id": "b8255dd3-f11c-46b1-88f8-3b9b530e1d3f",
   "metadata": {},
   "outputs": [
    {
     "data": {
      "text/plain": [
       "array([[210,  33],\n",
       "       [ 52,  98]])"
      ]
     },
     "execution_count": 351,
     "metadata": {},
     "output_type": "execute_result"
    }
   ],
   "source": [
    "confusion_matrix (Y_test, pred_foret2)"
   ]
  },
  {
   "cell_type": "code",
   "execution_count": null,
   "id": "0bad5726-2e4c-44f8-8cb2-3f2f01b3d1d3",
   "metadata": {},
   "outputs": [],
   "source": []
  }
 ],
 "metadata": {
  "kernelspec": {
   "display_name": "Python 3",
   "language": "python",
   "name": "python3"
  },
  "language_info": {
   "codemirror_mode": {
    "name": "ipython",
    "version": 3
   },
   "file_extension": ".py",
   "mimetype": "text/x-python",
   "name": "python",
   "nbconvert_exporter": "python",
   "pygments_lexer": "ipython3",
   "version": "3.9.1"
  }
 },
 "nbformat": 4,
 "nbformat_minor": 5
}
