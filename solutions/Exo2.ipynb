{
 "cells": [
  {
   "cell_type": "markdown",
   "id": "962bd1a9-0240-4a29-89c7-35015d701f2d",
   "metadata": {},
   "source": [
    "# Exercice 2\n",
    "\n",
    "On va faire nos premiers pas avec une analyse simples des données.\n",
    "\n",
    "On commence par la lecture des données.  \n"
   ]
  },
  {
   "cell_type": "code",
   "execution_count": 1,
   "id": "2be5d0b3-8d1b-486f-a11e-604d813b1acf",
   "metadata": {},
   "outputs": [
    {
     "name": "stdout",
     "output_type": "stream",
     "text": [
      "<class 'pandas.core.frame.DataFrame'>\n",
      "Index: 47 entries, FA-2008-0010 to FA-2008-0005\n",
      "Data columns (total 5 columns):\n",
      " #   Column        Non-Null Count  Dtype  \n",
      "---  ------        --------------  -----  \n",
      " 0   DATE FACTURE  47 non-null     object \n",
      " 1   CODE CLIENT   47 non-null     object \n",
      " 2   SECTEUR       47 non-null     object \n",
      " 3   VENDEUR       47 non-null     object \n",
      " 4   MONTANT       47 non-null     float64\n",
      "dtypes: float64(1), object(4)\n",
      "memory usage: 2.2+ KB\n"
     ]
    }
   ],
   "source": [
    "import pandas as pnd\n",
    "\n",
    "ventes = pnd.read_csv('http://www.kirschpm.fr/cours/PythonDataScience/files/VentesPropre.csv',\n",
    "                       delimiter=';',header=[0],index_col=[0])\n",
    "\n",
    "ventes.info()"
   ]
  },
  {
   "cell_type": "code",
   "execution_count": 2,
   "id": "55bc603b-b315-407e-9648-97ae3e6dbd2e",
   "metadata": {},
   "outputs": [
    {
     "data": {
      "text/html": [
       "<div>\n",
       "<style scoped>\n",
       "    .dataframe tbody tr th:only-of-type {\n",
       "        vertical-align: middle;\n",
       "    }\n",
       "\n",
       "    .dataframe tbody tr th {\n",
       "        vertical-align: top;\n",
       "    }\n",
       "\n",
       "    .dataframe thead th {\n",
       "        text-align: right;\n",
       "    }\n",
       "</style>\n",
       "<table border=\"1\" class=\"dataframe\">\n",
       "  <thead>\n",
       "    <tr style=\"text-align: right;\">\n",
       "      <th></th>\n",
       "      <th>DATE FACTURE</th>\n",
       "      <th>CODE CLIENT</th>\n",
       "      <th>SECTEUR</th>\n",
       "      <th>VENDEUR</th>\n",
       "      <th>MONTANT</th>\n",
       "    </tr>\n",
       "    <tr>\n",
       "      <th>CODE FACTURE</th>\n",
       "      <th></th>\n",
       "      <th></th>\n",
       "      <th></th>\n",
       "      <th></th>\n",
       "      <th></th>\n",
       "    </tr>\n",
       "  </thead>\n",
       "  <tbody>\n",
       "    <tr>\n",
       "      <th>FA-2008-0010</th>\n",
       "      <td>2008-03-12</td>\n",
       "      <td>CLI009</td>\n",
       "      <td>AUTOMATISME</td>\n",
       "      <td>BOUVET</td>\n",
       "      <td>752.98</td>\n",
       "    </tr>\n",
       "    <tr>\n",
       "      <th>FA-2008-0006</th>\n",
       "      <td>2008-02-04</td>\n",
       "      <td>CLI038</td>\n",
       "      <td>AUTOMATISME</td>\n",
       "      <td>ENGUENT</td>\n",
       "      <td>374.84</td>\n",
       "    </tr>\n",
       "    <tr>\n",
       "      <th>FA-2008-0009</th>\n",
       "      <td>2008-03-03</td>\n",
       "      <td>CLI098</td>\n",
       "      <td>ELECTRICITE</td>\n",
       "      <td>BOUVET</td>\n",
       "      <td>935.47</td>\n",
       "    </tr>\n",
       "    <tr>\n",
       "      <th>FA-2008-0012</th>\n",
       "      <td>2008-03-31</td>\n",
       "      <td>CLI114</td>\n",
       "      <td>ELECTRICITE</td>\n",
       "      <td>DEVEAUX</td>\n",
       "      <td>752.98</td>\n",
       "    </tr>\n",
       "    <tr>\n",
       "      <th>FA-2008-0008</th>\n",
       "      <td>2008-02-22</td>\n",
       "      <td>CLI115</td>\n",
       "      <td>AUTOMATISME</td>\n",
       "      <td>BOUVET</td>\n",
       "      <td>677.36</td>\n",
       "    </tr>\n",
       "    <tr>\n",
       "      <th>FA-2008-0027</th>\n",
       "      <td>2008-07-09</td>\n",
       "      <td>CLI145</td>\n",
       "      <td>ELECTRICITE</td>\n",
       "      <td>BOUVET</td>\n",
       "      <td>425.81</td>\n",
       "    </tr>\n",
       "    <tr>\n",
       "      <th>FA-2008-0028</th>\n",
       "      <td>2008-07-09</td>\n",
       "      <td>CLI145</td>\n",
       "      <td>AUTOMATISME</td>\n",
       "      <td>ENGUENT</td>\n",
       "      <td>1607.89</td>\n",
       "    </tr>\n",
       "    <tr>\n",
       "      <th>FA-2008-0029</th>\n",
       "      <td>2008-07-09</td>\n",
       "      <td>CLI163</td>\n",
       "      <td>AUTOMATISME</td>\n",
       "      <td>BOUVET</td>\n",
       "      <td>1436.91</td>\n",
       "    </tr>\n",
       "    <tr>\n",
       "      <th>FA-2008-0017</th>\n",
       "      <td>2008-05-16</td>\n",
       "      <td>CLI204</td>\n",
       "      <td>AUTOMATISME</td>\n",
       "      <td>ENGUENT</td>\n",
       "      <td>2250.72</td>\n",
       "    </tr>\n",
       "    <tr>\n",
       "      <th>FA-2008-0031</th>\n",
       "      <td>2008-07-27</td>\n",
       "      <td>CLI204</td>\n",
       "      <td>ELECTRICITE</td>\n",
       "      <td>BOUVET</td>\n",
       "      <td>428.41</td>\n",
       "    </tr>\n",
       "  </tbody>\n",
       "</table>\n",
       "</div>"
      ],
      "text/plain": [
       "             DATE FACTURE CODE CLIENT      SECTEUR  VENDEUR  MONTANT\n",
       "CODE FACTURE                                                        \n",
       "FA-2008-0010   2008-03-12      CLI009  AUTOMATISME   BOUVET   752.98\n",
       "FA-2008-0006   2008-02-04      CLI038  AUTOMATISME  ENGUENT   374.84\n",
       "FA-2008-0009   2008-03-03      CLI098  ELECTRICITE   BOUVET   935.47\n",
       "FA-2008-0012   2008-03-31      CLI114  ELECTRICITE  DEVEAUX   752.98\n",
       "FA-2008-0008   2008-02-22      CLI115  AUTOMATISME   BOUVET   677.36\n",
       "FA-2008-0027   2008-07-09      CLI145  ELECTRICITE   BOUVET   425.81\n",
       "FA-2008-0028   2008-07-09      CLI145  AUTOMATISME  ENGUENT  1607.89\n",
       "FA-2008-0029   2008-07-09      CLI163  AUTOMATISME   BOUVET  1436.91\n",
       "FA-2008-0017   2008-05-16      CLI204  AUTOMATISME  ENGUENT  2250.72\n",
       "FA-2008-0031   2008-07-27      CLI204  ELECTRICITE   BOUVET   428.41"
      ]
     },
     "execution_count": 2,
     "metadata": {},
     "output_type": "execute_result"
    }
   ],
   "source": [
    "ventes.head(10)"
   ]
  },
  {
   "cell_type": "code",
   "execution_count": 3,
   "id": "739239a8-75e0-453b-b1d7-b9817cdb0a73",
   "metadata": {},
   "outputs": [
    {
     "data": {
      "text/html": [
       "<div>\n",
       "<style scoped>\n",
       "    .dataframe tbody tr th:only-of-type {\n",
       "        vertical-align: middle;\n",
       "    }\n",
       "\n",
       "    .dataframe tbody tr th {\n",
       "        vertical-align: top;\n",
       "    }\n",
       "\n",
       "    .dataframe thead th {\n",
       "        text-align: right;\n",
       "    }\n",
       "</style>\n",
       "<table border=\"1\" class=\"dataframe\">\n",
       "  <thead>\n",
       "    <tr style=\"text-align: right;\">\n",
       "      <th></th>\n",
       "      <th>DATE FACTURE</th>\n",
       "      <th>CODE CLIENT</th>\n",
       "      <th>SECTEUR</th>\n",
       "      <th>VENDEUR</th>\n",
       "      <th>MONTANT</th>\n",
       "    </tr>\n",
       "    <tr>\n",
       "      <th>CODE FACTURE</th>\n",
       "      <th></th>\n",
       "      <th></th>\n",
       "      <th></th>\n",
       "      <th></th>\n",
       "      <th></th>\n",
       "    </tr>\n",
       "  </thead>\n",
       "  <tbody>\n",
       "    <tr>\n",
       "      <th>FA-2008-0019</th>\n",
       "      <td>2008-06-12</td>\n",
       "      <td>CLI300</td>\n",
       "      <td>ELECTRICITE</td>\n",
       "      <td>BOUVET</td>\n",
       "      <td>1039.05</td>\n",
       "    </tr>\n",
       "    <tr>\n",
       "      <th>FA-2008-0033</th>\n",
       "      <td>2008-08-14</td>\n",
       "      <td>CLI300</td>\n",
       "      <td>AUTOMATISME</td>\n",
       "      <td>DEVEAUX</td>\n",
       "      <td>535.90</td>\n",
       "    </tr>\n",
       "    <tr>\n",
       "      <th>FA-2008-0042</th>\n",
       "      <td>2008-09-15</td>\n",
       "      <td>CLI300</td>\n",
       "      <td>AUTOMATISME</td>\n",
       "      <td>ENGUENT</td>\n",
       "      <td>3667.68</td>\n",
       "    </tr>\n",
       "    <tr>\n",
       "      <th>FA-2008-0014</th>\n",
       "      <td>2008-04-18</td>\n",
       "      <td>CLI312</td>\n",
       "      <td>AUTOMATISME</td>\n",
       "      <td>ENGUENT</td>\n",
       "      <td>917.38</td>\n",
       "    </tr>\n",
       "    <tr>\n",
       "      <th>FA-2008-0011</th>\n",
       "      <td>2008-03-21</td>\n",
       "      <td>CLI334</td>\n",
       "      <td>ELECTRICITE</td>\n",
       "      <td>BOUVET</td>\n",
       "      <td>348.55</td>\n",
       "    </tr>\n",
       "    <tr>\n",
       "      <th>FA-2008-0016</th>\n",
       "      <td>2008-05-07</td>\n",
       "      <td>CLI403</td>\n",
       "      <td>ELECTRICITE</td>\n",
       "      <td>BOUVET</td>\n",
       "      <td>1147.55</td>\n",
       "    </tr>\n",
       "    <tr>\n",
       "      <th>FA-2008-0030</th>\n",
       "      <td>2008-07-18</td>\n",
       "      <td>CLI403</td>\n",
       "      <td>ELECTRICITE</td>\n",
       "      <td>DEVEAUX</td>\n",
       "      <td>436.86</td>\n",
       "    </tr>\n",
       "    <tr>\n",
       "      <th>FA-2008-0039</th>\n",
       "      <td>2008-09-09</td>\n",
       "      <td>CLI403</td>\n",
       "      <td>AUTOMATISME</td>\n",
       "      <td>BOUVET</td>\n",
       "      <td>3521.80</td>\n",
       "    </tr>\n",
       "    <tr>\n",
       "      <th>FA-2008-0007</th>\n",
       "      <td>2008-02-13</td>\n",
       "      <td>CLI512</td>\n",
       "      <td>AUTOMATISME</td>\n",
       "      <td>ENGUENT</td>\n",
       "      <td>935.47</td>\n",
       "    </tr>\n",
       "    <tr>\n",
       "      <th>FA-2008-0005</th>\n",
       "      <td>2008-01-26</td>\n",
       "      <td>CLI520</td>\n",
       "      <td>ELECTRICITE</td>\n",
       "      <td>BOUVET</td>\n",
       "      <td>739.83</td>\n",
       "    </tr>\n",
       "  </tbody>\n",
       "</table>\n",
       "</div>"
      ],
      "text/plain": [
       "             DATE FACTURE CODE CLIENT      SECTEUR  VENDEUR  MONTANT\n",
       "CODE FACTURE                                                        \n",
       "FA-2008-0019   2008-06-12      CLI300  ELECTRICITE   BOUVET  1039.05\n",
       "FA-2008-0033   2008-08-14      CLI300  AUTOMATISME  DEVEAUX   535.90\n",
       "FA-2008-0042   2008-09-15      CLI300  AUTOMATISME  ENGUENT  3667.68\n",
       "FA-2008-0014   2008-04-18      CLI312  AUTOMATISME  ENGUENT   917.38\n",
       "FA-2008-0011   2008-03-21      CLI334  ELECTRICITE   BOUVET   348.55\n",
       "FA-2008-0016   2008-05-07      CLI403  ELECTRICITE   BOUVET  1147.55\n",
       "FA-2008-0030   2008-07-18      CLI403  ELECTRICITE  DEVEAUX   436.86\n",
       "FA-2008-0039   2008-09-09      CLI403  AUTOMATISME   BOUVET  3521.80\n",
       "FA-2008-0007   2008-02-13      CLI512  AUTOMATISME  ENGUENT   935.47\n",
       "FA-2008-0005   2008-01-26      CLI520  ELECTRICITE   BOUVET   739.83"
      ]
     },
     "execution_count": 3,
     "metadata": {},
     "output_type": "execute_result"
    }
   ],
   "source": [
    "ventes.tail(10)"
   ]
  },
  {
   "cell_type": "markdown",
   "id": "4d453548",
   "metadata": {},
   "source": [
    "On s'assure que les donnée sont bien formatées. \n",
    "Dans notre cas, on doit convertir les dates. "
   ]
  },
  {
   "cell_type": "code",
   "execution_count": 4,
   "id": "45a54d16-cdbf-4c42-b372-09eafe88d9a7",
   "metadata": {},
   "outputs": [
    {
     "name": "stdout",
     "output_type": "stream",
     "text": [
      "<class 'pandas.core.frame.DataFrame'>\n",
      "Index: 47 entries, FA-2008-0010 to FA-2008-0005\n",
      "Data columns (total 5 columns):\n",
      " #   Column        Non-Null Count  Dtype         \n",
      "---  ------        --------------  -----         \n",
      " 0   DATE FACTURE  47 non-null     datetime64[ns]\n",
      " 1   CODE CLIENT   47 non-null     object        \n",
      " 2   SECTEUR       47 non-null     object        \n",
      " 3   VENDEUR       47 non-null     object        \n",
      " 4   MONTANT       47 non-null     float64       \n",
      "dtypes: datetime64[ns](1), float64(1), object(3)\n",
      "memory usage: 2.2+ KB\n"
     ]
    }
   ],
   "source": [
    "ventes['DATE FACTURE'] = pnd.to_datetime(ventes['DATE FACTURE'], yearfirst=True)\n",
    "ventes.info()"
   ]
  },
  {
   "cell_type": "markdown",
   "id": "7fd43516",
   "metadata": {},
   "source": [
    "On va alors utiliser query pour récupérer des données et en faire quelques analyses. "
   ]
  },
  {
   "cell_type": "code",
   "execution_count": 5,
   "id": "268026b8",
   "metadata": {},
   "outputs": [
    {
     "data": {
      "text/html": [
       "<div>\n",
       "<style scoped>\n",
       "    .dataframe tbody tr th:only-of-type {\n",
       "        vertical-align: middle;\n",
       "    }\n",
       "\n",
       "    .dataframe tbody tr th {\n",
       "        vertical-align: top;\n",
       "    }\n",
       "\n",
       "    .dataframe thead th {\n",
       "        text-align: right;\n",
       "    }\n",
       "</style>\n",
       "<table border=\"1\" class=\"dataframe\">\n",
       "  <thead>\n",
       "    <tr style=\"text-align: right;\">\n",
       "      <th></th>\n",
       "      <th>DATE FACTURE</th>\n",
       "      <th>CODE CLIENT</th>\n",
       "      <th>SECTEUR</th>\n",
       "      <th>VENDEUR</th>\n",
       "      <th>MONTANT</th>\n",
       "    </tr>\n",
       "    <tr>\n",
       "      <th>CODE FACTURE</th>\n",
       "      <th></th>\n",
       "      <th></th>\n",
       "      <th></th>\n",
       "      <th></th>\n",
       "      <th></th>\n",
       "    </tr>\n",
       "  </thead>\n",
       "  <tbody>\n",
       "    <tr>\n",
       "      <th>FA-2008-0035</th>\n",
       "      <td>2008-09-01</td>\n",
       "      <td>CLI206</td>\n",
       "      <td>AUTOMATISME</td>\n",
       "      <td>DEVEAUX</td>\n",
       "      <td>3471.13</td>\n",
       "    </tr>\n",
       "    <tr>\n",
       "      <th>FA-2008-0041</th>\n",
       "      <td>2008-09-13</td>\n",
       "      <td>CLI222</td>\n",
       "      <td>AUTOMATISME</td>\n",
       "      <td>DEVEAUX</td>\n",
       "      <td>4374.79</td>\n",
       "    </tr>\n",
       "    <tr>\n",
       "      <th>FA-2008-0042</th>\n",
       "      <td>2008-09-15</td>\n",
       "      <td>CLI300</td>\n",
       "      <td>AUTOMATISME</td>\n",
       "      <td>ENGUENT</td>\n",
       "      <td>3667.68</td>\n",
       "    </tr>\n",
       "    <tr>\n",
       "      <th>FA-2008-0039</th>\n",
       "      <td>2008-09-09</td>\n",
       "      <td>CLI403</td>\n",
       "      <td>AUTOMATISME</td>\n",
       "      <td>BOUVET</td>\n",
       "      <td>3521.80</td>\n",
       "    </tr>\n",
       "  </tbody>\n",
       "</table>\n",
       "</div>"
      ],
      "text/plain": [
       "             DATE FACTURE CODE CLIENT      SECTEUR  VENDEUR  MONTANT\n",
       "CODE FACTURE                                                        \n",
       "FA-2008-0035   2008-09-01      CLI206  AUTOMATISME  DEVEAUX  3471.13\n",
       "FA-2008-0041   2008-09-13      CLI222  AUTOMATISME  DEVEAUX  4374.79\n",
       "FA-2008-0042   2008-09-15      CLI300  AUTOMATISME  ENGUENT  3667.68\n",
       "FA-2008-0039   2008-09-09      CLI403  AUTOMATISME   BOUVET  3521.80"
      ]
     },
     "execution_count": 5,
     "metadata": {},
     "output_type": "execute_result"
    }
   ],
   "source": [
    "ventes.query(\"MONTANT > 2000 and `DATE FACTURE` >= '2008-09-01' \")"
   ]
  },
  {
   "cell_type": "code",
   "execution_count": 6,
   "id": "0a07494c",
   "metadata": {},
   "outputs": [
    {
     "data": {
      "text/html": [
       "<div>\n",
       "<style scoped>\n",
       "    .dataframe tbody tr th:only-of-type {\n",
       "        vertical-align: middle;\n",
       "    }\n",
       "\n",
       "    .dataframe tbody tr th {\n",
       "        vertical-align: top;\n",
       "    }\n",
       "\n",
       "    .dataframe thead th {\n",
       "        text-align: right;\n",
       "    }\n",
       "</style>\n",
       "<table border=\"1\" class=\"dataframe\">\n",
       "  <thead>\n",
       "    <tr style=\"text-align: right;\">\n",
       "      <th></th>\n",
       "      <th>DATE FACTURE</th>\n",
       "      <th>CODE CLIENT</th>\n",
       "      <th>SECTEUR</th>\n",
       "      <th>VENDEUR</th>\n",
       "      <th>MONTANT</th>\n",
       "    </tr>\n",
       "    <tr>\n",
       "      <th>CODE FACTURE</th>\n",
       "      <th></th>\n",
       "      <th></th>\n",
       "      <th></th>\n",
       "      <th></th>\n",
       "      <th></th>\n",
       "    </tr>\n",
       "  </thead>\n",
       "  <tbody>\n",
       "    <tr>\n",
       "      <th>FA-2008-0012</th>\n",
       "      <td>2008-03-31</td>\n",
       "      <td>CLI114</td>\n",
       "      <td>ELECTRICITE</td>\n",
       "      <td>DEVEAUX</td>\n",
       "      <td>752.98</td>\n",
       "    </tr>\n",
       "    <tr>\n",
       "      <th>FA-2008-0020</th>\n",
       "      <td>2008-06-21</td>\n",
       "      <td>CLI206</td>\n",
       "      <td>AUTOMATISME</td>\n",
       "      <td>DEVEAUX</td>\n",
       "      <td>3659.69</td>\n",
       "    </tr>\n",
       "    <tr>\n",
       "      <th>FA-2008-0035</th>\n",
       "      <td>2008-09-01</td>\n",
       "      <td>CLI206</td>\n",
       "      <td>AUTOMATISME</td>\n",
       "      <td>DEVEAUX</td>\n",
       "      <td>3471.13</td>\n",
       "    </tr>\n",
       "    <tr>\n",
       "      <th>FA-2008-0045</th>\n",
       "      <td>2008-09-23</td>\n",
       "      <td>CLI206</td>\n",
       "      <td>AUTOMATISME</td>\n",
       "      <td>DEVEAUX</td>\n",
       "      <td>750.88</td>\n",
       "    </tr>\n",
       "    <tr>\n",
       "      <th>FA-2008-0024</th>\n",
       "      <td>2008-06-30</td>\n",
       "      <td>CLI209</td>\n",
       "      <td>AUTOMATISME</td>\n",
       "      <td>DEVEAUX</td>\n",
       "      <td>9367.87</td>\n",
       "    </tr>\n",
       "    <tr>\n",
       "      <th>FA-2008-0041</th>\n",
       "      <td>2008-09-13</td>\n",
       "      <td>CLI222</td>\n",
       "      <td>AUTOMATISME</td>\n",
       "      <td>DEVEAUX</td>\n",
       "      <td>4374.79</td>\n",
       "    </tr>\n",
       "    <tr>\n",
       "      <th>FA-2008-0004</th>\n",
       "      <td>2008-01-17</td>\n",
       "      <td>CLI235</td>\n",
       "      <td>AUTOMATISME</td>\n",
       "      <td>DEVEAUX</td>\n",
       "      <td>606.66</td>\n",
       "    </tr>\n",
       "    <tr>\n",
       "      <th>FA-2008-0033</th>\n",
       "      <td>2008-08-14</td>\n",
       "      <td>CLI300</td>\n",
       "      <td>AUTOMATISME</td>\n",
       "      <td>DEVEAUX</td>\n",
       "      <td>535.90</td>\n",
       "    </tr>\n",
       "    <tr>\n",
       "      <th>FA-2008-0030</th>\n",
       "      <td>2008-07-18</td>\n",
       "      <td>CLI403</td>\n",
       "      <td>ELECTRICITE</td>\n",
       "      <td>DEVEAUX</td>\n",
       "      <td>436.86</td>\n",
       "    </tr>\n",
       "  </tbody>\n",
       "</table>\n",
       "</div>"
      ],
      "text/plain": [
       "             DATE FACTURE CODE CLIENT      SECTEUR  VENDEUR  MONTANT\n",
       "CODE FACTURE                                                        \n",
       "FA-2008-0012   2008-03-31      CLI114  ELECTRICITE  DEVEAUX   752.98\n",
       "FA-2008-0020   2008-06-21      CLI206  AUTOMATISME  DEVEAUX  3659.69\n",
       "FA-2008-0035   2008-09-01      CLI206  AUTOMATISME  DEVEAUX  3471.13\n",
       "FA-2008-0045   2008-09-23      CLI206  AUTOMATISME  DEVEAUX   750.88\n",
       "FA-2008-0024   2008-06-30      CLI209  AUTOMATISME  DEVEAUX  9367.87\n",
       "FA-2008-0041   2008-09-13      CLI222  AUTOMATISME  DEVEAUX  4374.79\n",
       "FA-2008-0004   2008-01-17      CLI235  AUTOMATISME  DEVEAUX   606.66\n",
       "FA-2008-0033   2008-08-14      CLI300  AUTOMATISME  DEVEAUX   535.90\n",
       "FA-2008-0030   2008-07-18      CLI403  ELECTRICITE  DEVEAUX   436.86"
      ]
     },
     "execution_count": 6,
     "metadata": {},
     "output_type": "execute_result"
    }
   ],
   "source": [
    "ventes.query(\"VENDEUR == 'DEVEAUX' \")"
   ]
  },
  {
   "cell_type": "code",
   "execution_count": 7,
   "id": "bf857c3e",
   "metadata": {},
   "outputs": [
    {
     "data": {
      "text/plain": [
       "MONTANT    2661.862222\n",
       "dtype: float64"
      ]
     },
     "execution_count": 7,
     "metadata": {},
     "output_type": "execute_result"
    }
   ],
   "source": [
    "ventes.query(\"`VENDEUR` == 'DEVEAUX' \").mean(numeric_only=True)"
   ]
  },
  {
   "cell_type": "code",
   "execution_count": 8,
   "id": "0e9dd0c9",
   "metadata": {},
   "outputs": [
    {
     "data": {
      "text/html": [
       "<div>\n",
       "<style scoped>\n",
       "    .dataframe tbody tr th:only-of-type {\n",
       "        vertical-align: middle;\n",
       "    }\n",
       "\n",
       "    .dataframe tbody tr th {\n",
       "        vertical-align: top;\n",
       "    }\n",
       "\n",
       "    .dataframe thead th {\n",
       "        text-align: right;\n",
       "    }\n",
       "</style>\n",
       "<table border=\"1\" class=\"dataframe\">\n",
       "  <thead>\n",
       "    <tr style=\"text-align: right;\">\n",
       "      <th></th>\n",
       "      <th>MONTANT</th>\n",
       "    </tr>\n",
       "    <tr>\n",
       "      <th>VENDEUR</th>\n",
       "      <th></th>\n",
       "    </tr>\n",
       "  </thead>\n",
       "  <tbody>\n",
       "    <tr>\n",
       "      <th>BOUVET</th>\n",
       "      <td>840.522273</td>\n",
       "    </tr>\n",
       "    <tr>\n",
       "      <th>DEVEAUX</th>\n",
       "      <td>2661.862222</td>\n",
       "    </tr>\n",
       "    <tr>\n",
       "      <th>ENGUENT</th>\n",
       "      <td>2344.361875</td>\n",
       "    </tr>\n",
       "  </tbody>\n",
       "</table>\n",
       "</div>"
      ],
      "text/plain": [
       "             MONTANT\n",
       "VENDEUR             \n",
       "BOUVET    840.522273\n",
       "DEVEAUX  2661.862222\n",
       "ENGUENT  2344.361875"
      ]
     },
     "execution_count": 8,
     "metadata": {},
     "output_type": "execute_result"
    }
   ],
   "source": [
    "ventes.groupby(by='VENDEUR').mean()\n"
   ]
  },
  {
   "cell_type": "code",
   "execution_count": 12,
   "id": "12c57fc1-c5bb-44c6-a97d-d2bee501ec39",
   "metadata": {},
   "outputs": [
    {
     "data": {
      "text/plain": [
       "VENDEUR\n",
       "BOUVET     22\n",
       "DEVEAUX     9\n",
       "ENGUENT    16\n",
       "dtype: int64"
      ]
     },
     "execution_count": 12,
     "metadata": {},
     "output_type": "execute_result"
    }
   ],
   "source": [
    "ventes.groupby(by='VENDEUR').size()"
   ]
  },
  {
   "cell_type": "code",
   "execution_count": 13,
   "id": "6f6b3057",
   "metadata": {},
   "outputs": [
    {
     "data": {
      "text/html": [
       "<div>\n",
       "<style scoped>\n",
       "    .dataframe tbody tr th:only-of-type {\n",
       "        vertical-align: middle;\n",
       "    }\n",
       "\n",
       "    .dataframe tbody tr th {\n",
       "        vertical-align: top;\n",
       "    }\n",
       "\n",
       "    .dataframe thead th {\n",
       "        text-align: right;\n",
       "    }\n",
       "</style>\n",
       "<table border=\"1\" class=\"dataframe\">\n",
       "  <thead>\n",
       "    <tr style=\"text-align: right;\">\n",
       "      <th></th>\n",
       "      <th>MONTANT</th>\n",
       "    </tr>\n",
       "    <tr>\n",
       "      <th>SECTEUR</th>\n",
       "      <th></th>\n",
       "    </tr>\n",
       "  </thead>\n",
       "  <tbody>\n",
       "    <tr>\n",
       "      <th>AUTOMATISME</th>\n",
       "      <td>69800.65</td>\n",
       "    </tr>\n",
       "    <tr>\n",
       "      <th>ELECTRICITE</th>\n",
       "      <td>10157.39</td>\n",
       "    </tr>\n",
       "  </tbody>\n",
       "</table>\n",
       "</div>"
      ],
      "text/plain": [
       "              MONTANT\n",
       "SECTEUR              \n",
       "AUTOMATISME  69800.65\n",
       "ELECTRICITE  10157.39"
      ]
     },
     "execution_count": 13,
     "metadata": {},
     "output_type": "execute_result"
    }
   ],
   "source": [
    "ventes.groupby(by='SECTEUR').sum()"
   ]
  },
  {
   "cell_type": "markdown",
   "id": "44ddb5d7",
   "metadata": {},
   "source": [
    "Visualisation des données"
   ]
  },
  {
   "cell_type": "code",
   "execution_count": 14,
   "id": "ff3aa128",
   "metadata": {},
   "outputs": [],
   "source": [
    "import matplotlib.pyplot as plt\n",
    "%matplotlib inline"
   ]
  },
  {
   "cell_type": "code",
   "execution_count": 15,
   "id": "8cc5d15f",
   "metadata": {},
   "outputs": [
    {
     "data": {
      "text/plain": [
       "<AxesSubplot:title={'center':'Nb de ventes par vendeur'}, xlabel='Vendeurs', ylabel='Ventes'>"
      ]
     },
     "execution_count": 15,
     "metadata": {},
     "output_type": "execute_result"
    },
    {
     "data": {
      "image/png": "[encoded data removed]",
      "text/plain": [
       "<Figure size 432x288 with 1 Axes>"
      ]
     },
     "metadata": {
      "needs_background": "light"
     },
     "output_type": "display_data"
    }
   ],
   "source": [
    "ventes.groupby(by='VENDEUR').size().plot(kind='bar',\n",
    "                                         title='Nb de ventes par vendeur',\n",
    "                                         ylabel='Ventes', xlabel='Vendeurs' )"
   ]
  },
  {
   "cell_type": "code",
   "execution_count": 16,
   "id": "1aa37549",
   "metadata": {},
   "outputs": [
    {
     "data": {
      "text/plain": [
       "<AxesSubplot:title={'center':'Nb de ventes par secteur'}, ylabel='Secteur'>"
      ]
     },
     "execution_count": 16,
     "metadata": {},
     "output_type": "execute_result"
    },
    {
     "data": {
      "image/png": "[encoded data removed]",
      "text/plain": [
       "<Figure size 432x288 with 1 Axes>"
      ]
     },
     "metadata": {},
     "output_type": "display_data"
    }
   ],
   "source": [
    "ventes.groupby(by='SECTEUR').size().plot(kind='pie',\n",
    "                                         title='Nb de ventes par secteur',\n",
    "                                         ylabel='Secteur' )"
   ]
  },
  {
   "cell_type": "code",
   "execution_count": 17,
   "id": "6702b834",
   "metadata": {},
   "outputs": [
    {
     "data": {
      "text/plain": [
       "<AxesSubplot:title={'center':'MONTANT'}, xlabel='VENDEUR'>"
      ]
     },
     "execution_count": 17,
     "metadata": {},
     "output_type": "execute_result"
    },
    {
     "data": {
      "image/png": "[encoded data removed]",
      "text/plain": [
       "<Figure size 432x288 with 1 Axes>"
      ]
     },
     "metadata": {
      "needs_background": "light"
     },
     "output_type": "display_data"
    }
   ],
   "source": [
    "ventes.boxplot(column='MONTANT',by='VENDEUR')\n"
   ]
  },
  {
   "cell_type": "code",
   "execution_count": 18,
   "id": "9b636a4b",
   "metadata": {},
   "outputs": [
    {
     "name": "stdout",
     "output_type": "stream",
     "text": [
      "             MONTANT\n",
      "VENDEUR             \n",
      "BOUVET    840.522273\n",
      "DEVEAUX  2661.862222\n",
      "ENGUENT  2344.361875\n"
     ]
    }
   ],
   "source": [
    "moyennes = ventes.groupby(by='VENDEUR').mean()\n",
    "print(moyennes)"
   ]
  },
  {
   "cell_type": "code",
   "execution_count": 19,
   "id": "4867954f",
   "metadata": {},
   "outputs": [
    {
     "data": {
      "text/plain": [
       "<BarContainer object of 3 artists>"
      ]
     },
     "execution_count": 19,
     "metadata": {},
     "output_type": "execute_result"
    },
    {
     "data": {
      "image/png": "[encoded data removed]",
      "text/plain": [
       "<Figure size 576x360 with 1 Axes>"
      ]
     },
     "metadata": {
      "needs_background": "light"
     },
     "output_type": "display_data"
    }
   ],
   "source": [
    "plt.figure(figsize=(8,5))\n",
    "plt.title('Moyenne ventes par vendeur')\n",
    "plt.xlabel('Vendeurs')\n",
    "plt.ylabel('Moyenne ventes')\n",
    "plt.bar(moyennes.index, moyennes['MONTANT'], \n",
    "        color=['skyblue', 'lavender', 'steelblue'], edgecolor='blue')"
   ]
  }
 ],
 "metadata": {
  "interpreter": {
   "hash": "aee8b7b246df8f9039afb4144a1f6fd8d2ca17a180786b69acc140d282b71a49"
  },
  "kernelspec": {
   "display_name": "Python 3",
   "language": "python",
   "name": "python3"
  },
  "language_info": {
   "codemirror_mode": {
    "name": "ipython",
    "version": 3
   },
   "file_extension": ".py",
   "mimetype": "text/x-python",
   "name": "python",
   "nbconvert_exporter": "python",
   "pygments_lexer": "ipython3",
   "version": "3.9.1"
  }
 },
 "nbformat": 4,
 "nbformat_minor": 5
}
