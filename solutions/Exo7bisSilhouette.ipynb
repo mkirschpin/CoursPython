{
 "cells": [
  {
   "cell_type": "markdown",
   "metadata": {
    "id": "hrvwI3lfXQcA"
   },
   "source": [
    "# Exercice Clustering\n",
    "\n",
    "Dans cet exercice, nous allons utiliser l'algorithme K-means pour classer les fleurs du dataset Iris.  Nous avons deja utilisé ce dataset lorsque nous avons etudié la classification (dans le cadre de l'apprentissage supervisé)."
   ]
  },
  {
   "cell_type": "markdown",
   "metadata": {
    "id": "RZk-Iz6cX7sS"
   },
   "source": [
    "On commence par importer le dataset et en étudier la description. "
   ]
  },
  {
   "cell_type": "code",
   "execution_count": null,
   "metadata": {
    "colab": {
     "base_uri": "https://localhost:8080/"
    },
    "executionInfo": {
     "elapsed": 189,
     "status": "ok",
     "timestamp": 1639482959678,
     "user": {
      "displayName": "Luiz Angelo Steffenel",
      "photoUrl": "https://lh3.googleusercontent.com/a-/AOh14GiRw_QvxqVf52KLHLArSjf7Dy7EOg9w8nrgtxdNaA=s64",
      "userId": "04276833772224581383"
     },
     "user_tz": -60
    },
    "id": "Aqvux0FlXkyT",
    "outputId": "898a29f2-8bf6-468a-8e21-36c749519df3"
   },
   "outputs": [],
   "source": [
    "from sklearn.datasets import load_iris\n",
    "iris = load_iris()\n",
    "print(iris.DESCR)\n"
   ]
  },
  {
   "cell_type": "markdown",
   "metadata": {
    "id": "RZk-Iz6cX7sS",
    "tags": []
   },
   "source": [
    "Ce dataset possède des features et une colonne target, qui indique l'espère de l'iris correspondant. Nous affichons ci-dessous le nom des features et le nom des targets (même si la colonne target ne sera pas utilisée pour la construction des clusters).\n"
   ]
  },
  {
   "cell_type": "code",
   "execution_count": null,
   "metadata": {
    "colab": {
     "base_uri": "https://localhost:8080/"
    },
    "executionInfo": {
     "elapsed": 6,
     "status": "ok",
     "timestamp": 1639482959909,
     "user": {
      "displayName": "Luiz Angelo Steffenel",
      "photoUrl": "https://lh3.googleusercontent.com/a-/AOh14GiRw_QvxqVf52KLHLArSjf7Dy7EOg9w8nrgtxdNaA=s64",
      "userId": "04276833772224581383"
     },
     "user_tz": -60
    },
    "id": "X9L1YUMYYYst",
    "outputId": "ff43cf37-d989-4c6e-e787-46cfe640d9a1"
   },
   "outputs": [],
   "source": [
    "print(iris.feature_names)\n",
    "print(iris.target_names)"
   ]
  },
  {
   "cell_type": "markdown",
   "metadata": {
    "id": "IOgLFTcSY91V"
   },
   "source": [
    "On crée un nouveau DataFrame comprenant les données iris et on ajoute une colonne 'species' qui indique l'espèce d'Iris. Cette colonne ne sera utilisée que pour comprendre les résultats obtenus mais en aucun cas pour construire le modèle puisqu'on est dans de l'apprentissage non supervisé."
   ]
  },
  {
   "cell_type": "code",
   "execution_count": null,
   "metadata": {
    "colab": {
     "base_uri": "https://localhost:8080/"
    },
    "executionInfo": {
     "elapsed": 10,
     "status": "ok",
     "timestamp": 1639483109984,
     "user": {
      "displayName": "Manuele Kirsch Pinheiro",
      "photoUrl": "https://lh3.googleusercontent.com/a-/AOh14GiB1VpoSkIZ93kDY4OZeTGp48VkTQBel51wZneBzQ=s64",
      "userId": "10468023029717605317"
     },
     "user_tz": -60
    },
    "id": "jqedR82rYuJJ",
    "outputId": "da966389-9361-4253-de46-fe5b094c2e70"
   },
   "outputs": [],
   "source": [
    "import pandas as pnd\n",
    "iris_df = pnd.DataFrame(iris.data, columns=iris.feature_names)\n",
    "iris_df['target'] = iris.target\n",
    "iris_df.info()"
   ]
  },
  {
   "cell_type": "code",
   "execution_count": null,
   "metadata": {
    "colab": {
     "base_uri": "https://localhost:8080/",
     "height": 204
    },
    "executionInfo": {
     "elapsed": 244,
     "status": "ok",
     "timestamp": 1639483143401,
     "user": {
      "displayName": "Manuele Kirsch Pinheiro",
      "photoUrl": "https://lh3.googleusercontent.com/a-/AOh14GiB1VpoSkIZ93kDY4OZeTGp48VkTQBel51wZneBzQ=s64",
      "userId": "10468023029717605317"
     },
     "user_tz": -60
    },
    "id": "HrXEHsziZKWZ",
    "outputId": "fd3afbdf-5640-4036-dcbd-117a91f18edf"
   },
   "outputs": [],
   "source": [
    "iris_df.head()"
   ]
  },
  {
   "cell_type": "markdown",
   "metadata": {
    "id": "rRPcXgSDcw82"
   },
   "source": [
    "Comme le tableau inclut plusieurs *features*, nous pouvons les visualiser par paires avec matplotlib. Ici dans l'exemple, on voit les colonnes \"petal length\" et \"sepal width\"."
   ]
  },
  {
   "cell_type": "code",
   "execution_count": null,
   "metadata": {
    "colab": {
     "base_uri": "https://localhost:8080/",
     "height": 609
    },
    "executionInfo": {
     "elapsed": 339,
     "status": "ok",
     "timestamp": 1639483157707,
     "user": {
      "displayName": "Manuele Kirsch Pinheiro",
      "photoUrl": "https://lh3.googleusercontent.com/a-/AOh14GiB1VpoSkIZ93kDY4OZeTGp48VkTQBel51wZneBzQ=s64",
      "userId": "10468023029717605317"
     },
     "user_tz": -60
    },
    "id": "tNEEg6jOwOdl",
    "outputId": "8109fb8e-36cb-43a4-fedd-bad6601354a9"
   },
   "outputs": [],
   "source": [
    "import matplotlib.pyplot as plt\n",
    "%matplotlib inline\n",
    "\n",
    "plt.figure(figsize=[10,10])\n",
    "\n",
    "plt.scatter(iris_df['sepal length (cm)'], iris_df['sepal width (cm)'], c=iris_df['target'])\n"
   ]
  },
  {
   "cell_type": "markdown",
   "metadata": {
    "id": "x0xmXo_rx1kz"
   },
   "source": [
    "Cependant, il y a beaucoup de combinaisons possibles. On peut afficher toute la matrice de combinaisons avec `scatter_matrix`"
   ]
  },
  {
   "cell_type": "code",
   "execution_count": null,
   "metadata": {
    "colab": {
     "base_uri": "https://localhost:8080/",
     "height": 625
    },
    "executionInfo": {
     "elapsed": 2183,
     "status": "ok",
     "timestamp": 1639483198461,
     "user": {
      "displayName": "Manuele Kirsch Pinheiro",
      "photoUrl": "https://lh3.googleusercontent.com/a-/AOh14GiB1VpoSkIZ93kDY4OZeTGp48VkTQBel51wZneBzQ=s64",
      "userId": "10468023029717605317"
     },
     "user_tz": -60
    },
    "id": "I9ssAItdbI_7",
    "outputId": "bb2d8ea7-0474-4655-ef73-db96aa874a25"
   },
   "outputs": [],
   "source": [
    "pnd.plotting.scatter_matrix(iris_df, figsize=(10,10), c=iris.target)\n",
    "plt.plot()"
   ]
  },
  {
   "cell_type": "markdown",
   "metadata": {
    "colab": {
     "base_uri": "https://localhost:8080/",
     "height": 625
    },
    "executionInfo": {
     "elapsed": 2183,
     "status": "ok",
     "timestamp": 1639483198461,
     "user": {
      "displayName": "Manuele Kirsch Pinheiro",
      "photoUrl": "https://lh3.googleusercontent.com/a-/AOh14GiB1VpoSkIZ93kDY4OZeTGp48VkTQBel51wZneBzQ=s64",
      "userId": "10468023029717605317"
     },
     "user_tz": -60
    },
    "id": "I9ssAItdbI_7",
    "outputId": "bb2d8ea7-0474-4655-ef73-db96aa874a25"
   },
   "source": [
    "Une autre librairie fournit un affichage un peu différent :"
   ]
  },
  {
   "cell_type": "code",
   "execution_count": null,
   "metadata": {
    "colab": {
     "base_uri": "https://localhost:8080/",
     "height": 625
    },
    "executionInfo": {
     "elapsed": 2183,
     "status": "ok",
     "timestamp": 1639483198461,
     "user": {
      "displayName": "Manuele Kirsch Pinheiro",
      "photoUrl": "https://lh3.googleusercontent.com/a-/AOh14GiB1VpoSkIZ93kDY4OZeTGp48VkTQBel51wZneBzQ=s64",
      "userId": "10468023029717605317"
     },
     "user_tz": -60
    },
    "id": "I9ssAItdbI_7",
    "outputId": "bb2d8ea7-0474-4655-ef73-db96aa874a25"
   },
   "outputs": [],
   "source": [
    "import seaborn as sns\n",
    "grid = sns.pairplot(data=iris_df, vars=iris_df.columns[0:4],\n",
    "     hue='target')"
   ]
  },
  {
   "cell_type": "markdown",
   "metadata": {
    "id": "gHMg6ZXSeFwc"
   },
   "source": [
    "## Création du modèle\n",
    "\n",
    "Maintenant qu'on a le DataFrame avec les données, on peut créer notre modèle K-Means. \n",
    "\n",
    "On choisit le nombre de clusters égal à 3 et on calcule le modèle sur le dataframe auquel on a supprimé la colonne target car elle n'est pas utilisée lors de l'apprentissage non supervisé."
   ]
  },
  {
   "cell_type": "code",
   "execution_count": null,
   "metadata": {
    "colab": {
     "base_uri": "https://localhost:8080/"
    },
    "executionInfo": {
     "elapsed": 242,
     "status": "ok",
     "timestamp": 1639483238097,
     "user": {
      "displayName": "Manuele Kirsch Pinheiro",
      "photoUrl": "https://lh3.googleusercontent.com/a-/AOh14GiB1VpoSkIZ93kDY4OZeTGp48VkTQBel51wZneBzQ=s64",
      "userId": "10468023029717605317"
     },
     "user_tz": -60
    },
    "id": "DawtiPiybMQ8",
    "outputId": "a5a2c65f-bcf3-481c-8ffb-0b78f776007c"
   },
   "outputs": [],
   "source": [
    "from sklearn.cluster import KMeans\n",
    "kmeans = KMeans(n_clusters=3, random_state=11)\n",
    "kmeans.fit( iris_df.drop(['target'], axis='columns') )"
   ]
  },
  {
   "cell_type": "code",
   "execution_count": null,
   "metadata": {
    "colab": {
     "base_uri": "https://localhost:8080/"
    },
    "executionInfo": {
     "elapsed": 240,
     "status": "ok",
     "timestamp": 1639483241556,
     "user": {
      "displayName": "Manuele Kirsch Pinheiro",
      "photoUrl": "https://lh3.googleusercontent.com/a-/AOh14GiB1VpoSkIZ93kDY4OZeTGp48VkTQBel51wZneBzQ=s64",
      "userId": "10468023029717605317"
     },
     "user_tz": -60
    },
    "id": "oqO50sswecDb",
    "outputId": "2cc5e727-b075-482a-9a2e-ef26a178526a"
   },
   "outputs": [],
   "source": [
    "print(kmeans.labels_)"
   ]
  },
  {
   "cell_type": "markdown",
   "metadata": {
    "id": "9HHyuk8EozdA"
   },
   "source": [
    "On peut observer que certains \"0\" et \"2\" sont melangés (alors que les fleurs sont ordonnées par espèce). \n",
    "\n",
    "Affichons les espèces qui étaient indiquées par la colonne 'target' :"
   ]
  },
  {
   "cell_type": "code",
   "execution_count": null,
   "metadata": {},
   "outputs": [],
   "source": [
    "print(iris.target)"
   ]
  },
  {
   "cell_type": "markdown",
   "metadata": {
    "id": "9HHyuk8EozdA"
   },
   "source": [
    "On peut également comparer visuellement les labels obtenus par k-means et les valeurs de 'target'.\n",
    "\n",
    "Nous affichons d'abord les points colorés selon des labels identifiés par le modèle :"
   ]
  },
  {
   "cell_type": "code",
   "execution_count": null,
   "metadata": {},
   "outputs": [],
   "source": [
    "plt.scatter(iris_df['petal length (cm)'], iris_df['sepal width (cm)'], c=kmeans.labels_)\n",
    "plt.show()"
   ]
  },
  {
   "cell_type": "markdown",
   "metadata": {},
   "source": [
    "Pour comparer, nous affichons maintenant les couleurs correspondant aux labels originaux (non fournis lors de l'entraînement) :"
   ]
  },
  {
   "cell_type": "code",
   "execution_count": null,
   "metadata": {},
   "outputs": [],
   "source": [
    "plt.scatter(iris_df['petal length (cm)'], iris_df['sepal width (cm)'], c=iris_df['target'])\n",
    "plt.show()"
   ]
  },
  {
   "cell_type": "code",
   "execution_count": null,
   "metadata": {},
   "outputs": [],
   "source": [
    "#librairie pour évaluation des partitions\n",
    "from sklearn import metrics\n",
    "import numpy as np\n",
    "\n",
    "#utilisation de la métrique \"silhouette\"\n",
    "#faire varier le nombre de clusters de 2 à 10\n",
    "res = np.arange(9,dtype=\"double\")\n",
    "for k in np.arange(9):\n",
    "    km = KMeans(n_clusters=k+2)\n",
    "    km.fit( iris_df.drop(['target'], axis='columns') )\n",
    "    res[k] = metrics.silhouette_score(iris_df.drop(['target'], axis='columns'),km.labels_)\n",
    "print(res)\n",
    "\n",
    "#graphique\n",
    "import matplotlib.pyplot as plt\n",
    "plt.title(\"Silhouette\")\n",
    "plt.xlabel(\"# of clusters\")\n",
    "plt.plot(np.arange(2,11,1),res)\n",
    "plt.show()"
   ]
  },
  {
   "cell_type": "code",
   "execution_count": null,
   "metadata": {},
   "outputs": [],
   "source": []
  }
 ],
 "metadata": {
  "colab": {
   "collapsed_sections": [],
   "name": "Exo7.ipynb",
   "provenance": []
  },
  "kernelspec": {
   "display_name": "Python 3",
   "language": "python",
   "name": "python3"
  },
  "language_info": {
   "codemirror_mode": {
    "name": "ipython",
    "version": 3
   },
   "file_extension": ".py",
   "mimetype": "text/x-python",
   "name": "python",
   "nbconvert_exporter": "python",
   "pygments_lexer": "ipython3",
   "version": "3.8.11"
  }
 },
 "nbformat": 4,
 "nbformat_minor": 4
}
