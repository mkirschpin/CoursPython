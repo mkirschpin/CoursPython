{
 "cells": [
  {
   "cell_type": "markdown",
   "id": "60b7fa27-3ce3-45cd-bd88-70a38d27ba04",
   "metadata": {},
   "source": [
    "# Exercice 3 - Introduction arbres de décision\n",
    "\n",
    "## Premier exemple d'arbre de décision\n",
    "\n",
    "### Construction du dataset \n",
    "\n",
    "- Créer le DataFrame de training : *dfUmbrella = pnd.DataFrame ( { 'Chance Rain':[0.1, 0.9, 0.3, 0.1, 0.8], 'UV Index': [11, 1, 3, 2, 2] , 'Umbrella' : [True, True, False, False, True] } )*\n",
    "- Identifier dans deux variables les features et le target\n",
    "- Créer le DataFrame de test : *x_test = pnd.DataFrame ( { 'Chance Rain':[0.5, 0.2], 'UV Index': [5, 8] } )* \n",
    "\n"
   ]
  },
  {
   "cell_type": "code",
   "execution_count": 8,
   "id": "8d23589e",
   "metadata": {},
   "outputs": [],
   "source": [
    "import pandas as pnd"
   ]
  },
  {
   "cell_type": "code",
   "execution_count": 9,
   "id": "1f95692c",
   "metadata": {},
   "outputs": [
    {
     "data": {
      "text/html": [
       "<div>\n",
       "<style scoped>\n",
       "    .dataframe tbody tr th:only-of-type {\n",
       "        vertical-align: middle;\n",
       "    }\n",
       "\n",
       "    .dataframe tbody tr th {\n",
       "        vertical-align: top;\n",
       "    }\n",
       "\n",
       "    .dataframe thead th {\n",
       "        text-align: right;\n",
       "    }\n",
       "</style>\n",
       "<table border=\"1\" class=\"dataframe\">\n",
       "  <thead>\n",
       "    <tr style=\"text-align: right;\">\n",
       "      <th></th>\n",
       "      <th>Chance Rain</th>\n",
       "      <th>UV Index</th>\n",
       "      <th>Umbrella</th>\n",
       "    </tr>\n",
       "  </thead>\n",
       "  <tbody>\n",
       "    <tr>\n",
       "      <th>0</th>\n",
       "      <td>0.1</td>\n",
       "      <td>11</td>\n",
       "      <td>True</td>\n",
       "    </tr>\n",
       "    <tr>\n",
       "      <th>1</th>\n",
       "      <td>0.9</td>\n",
       "      <td>1</td>\n",
       "      <td>True</td>\n",
       "    </tr>\n",
       "    <tr>\n",
       "      <th>2</th>\n",
       "      <td>0.3</td>\n",
       "      <td>3</td>\n",
       "      <td>False</td>\n",
       "    </tr>\n",
       "    <tr>\n",
       "      <th>3</th>\n",
       "      <td>0.1</td>\n",
       "      <td>2</td>\n",
       "      <td>False</td>\n",
       "    </tr>\n",
       "    <tr>\n",
       "      <th>4</th>\n",
       "      <td>0.8</td>\n",
       "      <td>2</td>\n",
       "      <td>True</td>\n",
       "    </tr>\n",
       "  </tbody>\n",
       "</table>\n",
       "</div>"
      ],
      "text/plain": [
       "   Chance Rain  UV Index  Umbrella\n",
       "0          0.1        11      True\n",
       "1          0.9         1      True\n",
       "2          0.3         3     False\n",
       "3          0.1         2     False\n",
       "4          0.8         2      True"
      ]
     },
     "execution_count": 9,
     "metadata": {},
     "output_type": "execute_result"
    }
   ],
   "source": [
    "dfUmbrella = pnd.DataFrame ( { 'Chance Rain':[0.1, 0.9, 0.3, 0.1, 0.8], \n",
    "                                'UV Index': [11, 1, 3, 2, 2] , \n",
    "                                'Umbrella' : [True, True, False, False, True] } )\n",
    "\n",
    "dfUmbrella"
   ]
  },
  {
   "cell_type": "code",
   "execution_count": 10,
   "id": "4fb89808",
   "metadata": {},
   "outputs": [
    {
     "name": "stdout",
     "output_type": "stream",
     "text": [
      "['Chance Rain', 'UV Index'] Umbrella\n"
     ]
    }
   ],
   "source": [
    "feature_names = ['Chance Rain', 'UV Index']\n",
    "target = 'Umbrella'\n",
    "\n",
    "print (feature_names, target)"
   ]
  },
  {
   "cell_type": "code",
   "execution_count": 11,
   "id": "48deddf7",
   "metadata": {},
   "outputs": [
    {
     "data": {
      "text/html": [
       "<div>\n",
       "<style scoped>\n",
       "    .dataframe tbody tr th:only-of-type {\n",
       "        vertical-align: middle;\n",
       "    }\n",
       "\n",
       "    .dataframe tbody tr th {\n",
       "        vertical-align: top;\n",
       "    }\n",
       "\n",
       "    .dataframe thead th {\n",
       "        text-align: right;\n",
       "    }\n",
       "</style>\n",
       "<table border=\"1\" class=\"dataframe\">\n",
       "  <thead>\n",
       "    <tr style=\"text-align: right;\">\n",
       "      <th></th>\n",
       "      <th>Chance Rain</th>\n",
       "      <th>UV Index</th>\n",
       "    </tr>\n",
       "  </thead>\n",
       "  <tbody>\n",
       "    <tr>\n",
       "      <th>0</th>\n",
       "      <td>0.5</td>\n",
       "      <td>5</td>\n",
       "    </tr>\n",
       "    <tr>\n",
       "      <th>1</th>\n",
       "      <td>0.2</td>\n",
       "      <td>8</td>\n",
       "    </tr>\n",
       "  </tbody>\n",
       "</table>\n",
       "</div>"
      ],
      "text/plain": [
       "   Chance Rain  UV Index\n",
       "0          0.5         5\n",
       "1          0.2         8"
      ]
     },
     "execution_count": 11,
     "metadata": {},
     "output_type": "execute_result"
    }
   ],
   "source": [
    "x_test = pnd.DataFrame ({ 'Chance Rain':[0.5, 0.2], \n",
    "                            'UV Index': [5, 8] } ) \n",
    "x_test"
   ]
  },
  {
   "cell_type": "markdown",
   "id": "57391f44",
   "metadata": {},
   "source": [
    "### Première arbre de décision\n",
    "\n",
    "- Créer son objet ***DecisionTreeClassifier***\n",
    "- Entrainer son modèle (***fit***)\n",
    "- Tester son modèle (***predict***)\n"
   ]
  },
  {
   "cell_type": "code",
   "execution_count": 12,
   "id": "b6c68204",
   "metadata": {},
   "outputs": [
    {
     "name": "stdout",
     "output_type": "stream",
     "text": [
      "[False  True]\n"
     ]
    }
   ],
   "source": [
    "from sklearn.tree import DecisionTreeClassifier\n",
    "\n",
    "clf = DecisionTreeClassifier()\n",
    "\n",
    "clf.fit (dfUmbrella[feature_names], dfUmbrella[target])\n",
    "\n",
    "y_pred = clf.predict(x_test)\n",
    "\n",
    "print (y_pred)"
   ]
  },
  {
   "cell_type": "markdown",
   "id": "56b74237",
   "metadata": {},
   "source": [
    "### Visualisation de l'arbre\n",
    "\n",
    "- Utiliser export_text pour visualiser \u000b\n",
    "l’arbre de décision réalisée\n",
    "- Utiliser plot_tree pour produire une image de l’arbre \n",
    "- Afficher l’importance des features utilisées \n"
   ]
  },
  {
   "cell_type": "code",
   "execution_count": 13,
   "id": "ea0b7da9",
   "metadata": {},
   "outputs": [
    {
     "name": "stdout",
     "output_type": "stream",
     "text": [
      "|--- Chance Rain <= 0.55\n",
      "|   |--- UV Index <= 7.00\n",
      "|   |   |--- class: False\n",
      "|   |--- UV Index >  7.00\n",
      "|   |   |--- class: True\n",
      "|--- Chance Rain >  0.55\n",
      "|   |--- class: True\n",
      "\n"
     ]
    }
   ],
   "source": [
    "from sklearn.tree import export_text\n",
    "\n",
    "texte = export_text(clf, feature_names=feature_names, spacing=3, decimals=2)\n",
    "print (texte)"
   ]
  },
  {
   "cell_type": "code",
   "execution_count": 14,
   "id": "62b5bfb0",
   "metadata": {},
   "outputs": [
    {
     "data": {
      "text/plain": [
       "[Text(401.76000000000005, 362.4, 'Chance Rain <= 0.55\\ngini = 0.48\\nsamples = 5\\nvalue = [2, 3]\\nclass = Oui'),\n",
       " Text(267.84000000000003, 217.44, 'UV Index <= 7.0\\ngini = 0.444\\nsamples = 3\\nvalue = [2, 1]\\nclass = Non'),\n",
       " Text(133.92000000000002, 72.47999999999996, 'gini = 0.0\\nsamples = 2\\nvalue = [2, 0]\\nclass = Non'),\n",
       " Text(401.76000000000005, 72.47999999999996, 'gini = 0.0\\nsamples = 1\\nvalue = [0, 1]\\nclass = Oui'),\n",
       " Text(535.6800000000001, 217.44, 'gini = 0.0\\nsamples = 2\\nvalue = [0, 2]\\nclass = Oui')]"
      ]
     },
     "execution_count": 14,
     "metadata": {},
     "output_type": "execute_result"
    },
    {
     "data": {
      "image/png": "[encoded data removed]",
      "text/plain": [
       "<Figure size 864x576 with 1 Axes>"
      ]
     },
     "metadata": {
      "needs_background": "light"
     },
     "output_type": "display_data"
    }
   ],
   "source": [
    "from sklearn.tree import plot_tree\n",
    "import matplotlib.pyplot as plt\n",
    "\n",
    "%matplotlib inline\n",
    "plt.figure(figsize=(12,8))\n",
    "\n",
    "plot_tree(clf, feature_names=feature_names, class_names=['Non', 'Oui'], fontsize=10)"
   ]
  },
  {
   "cell_type": "code",
   "execution_count": 15,
   "id": "c0a7b771",
   "metadata": {},
   "outputs": [
    {
     "data": {
      "text/html": [
       "<div>\n",
       "<style scoped>\n",
       "    .dataframe tbody tr th:only-of-type {\n",
       "        vertical-align: middle;\n",
       "    }\n",
       "\n",
       "    .dataframe tbody tr th {\n",
       "        vertical-align: top;\n",
       "    }\n",
       "\n",
       "    .dataframe thead th {\n",
       "        text-align: right;\n",
       "    }\n",
       "</style>\n",
       "<table border=\"1\" class=\"dataframe\">\n",
       "  <thead>\n",
       "    <tr style=\"text-align: right;\">\n",
       "      <th></th>\n",
       "      <th>feature_names</th>\n",
       "      <th>importance</th>\n",
       "    </tr>\n",
       "  </thead>\n",
       "  <tbody>\n",
       "    <tr>\n",
       "      <th>0</th>\n",
       "      <td>Chance Rain</td>\n",
       "      <td>0.444444</td>\n",
       "    </tr>\n",
       "    <tr>\n",
       "      <th>1</th>\n",
       "      <td>UV Index</td>\n",
       "      <td>0.555556</td>\n",
       "    </tr>\n",
       "  </tbody>\n",
       "</table>\n",
       "</div>"
      ],
      "text/plain": [
       "  feature_names  importance\n",
       "0   Chance Rain    0.444444\n",
       "1      UV Index    0.555556"
      ]
     },
     "execution_count": 15,
     "metadata": {},
     "output_type": "execute_result"
    }
   ],
   "source": [
    "importance = pnd.DataFrame ( {  'feature_names' : feature_names , \n",
    "                                'importance' : clf.feature_importances_ })\n",
    "importance"
   ]
  },
  {
   "cell_type": "code",
   "execution_count": null,
   "id": "2c89684c-8127-41dd-99cb-d4df84f19df8",
   "metadata": {},
   "outputs": [],
   "source": []
  }
 ],
 "metadata": {
  "interpreter": {
   "hash": "aee8b7b246df8f9039afb4144a1f6fd8d2ca17a180786b69acc140d282b71a49"
  },
  "kernelspec": {
   "display_name": "Python 3.9.1 64-bit",
   "name": "python3"
  },
  "language_info": {
   "codemirror_mode": {
    "name": "ipython",
    "version": 3
   },
   "file_extension": ".py",
   "mimetype": "text/x-python",
   "name": "python",
   "nbconvert_exporter": "python",
   "pygments_lexer": "ipython3",
   "version": "3.9.1"
  }
 },
 "nbformat": 4,
 "nbformat_minor": 5
}
