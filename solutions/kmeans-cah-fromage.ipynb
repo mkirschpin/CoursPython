{
 "cells": [
  {
   "cell_type": "markdown",
   "id": "88146031-b220-46a0-8509-392231c6783c",
   "metadata": {},
   "source": [
    "K-means"
   ]
  },
  {
   "cell_type": "markdown",
   "id": "9dc48ae3-304e-4df5-83d0-570803845e31",
   "metadata": {},
   "source": [
    "On utilise un dataset \"Fromage\" disponible sur le site de Marie Chavent à Bordeaux."
   ]
  },
  {
   "cell_type": "code",
   "execution_count": null,
   "id": "0624f70f-35b0-4699-b9c0-d18f1b861135",
   "metadata": {},
   "outputs": [],
   "source": [
    "import pandas as pnd\n",
    "\n",
    "fromage = pnd.read_csv('fromage.csv', delimiter=';',  header=[0],index_col=[0])\n",
    "fromage.info()"
   ]
  },
  {
   "cell_type": "code",
   "execution_count": null,
   "id": "0b09f6c9-f2e4-402c-8633-d6312663482d",
   "metadata": {},
   "outputs": [],
   "source": [
    "fromage.head()"
   ]
  },
  {
   "cell_type": "code",
   "execution_count": null,
   "id": "c9c36681-de8a-484a-af7f-42a69e3c530f",
   "metadata": {},
   "outputs": [],
   "source": [
    "%matplotlib inline"
   ]
  },
  {
   "cell_type": "code",
   "execution_count": null,
   "id": "56702046-4a09-45c6-9006-fbb9d3ae6ed6",
   "metadata": {},
   "outputs": [],
   "source": [
    "import seaborn as sns\n",
    "grid = sns.pairplot(data=fromage, vars=fromage.columns[0:8])"
   ]
  },
  {
   "cell_type": "code",
   "execution_count": null,
   "id": "7fcb9b83-e767-4414-94f0-c56fbaf26718",
   "metadata": {},
   "outputs": [],
   "source": [
    "from sklearn.cluster import KMeans\n",
    "kmeansf = KMeans(n_clusters=4, random_state=11)\n",
    "kmeansf.fit(fromage)"
   ]
  },
  {
   "cell_type": "code",
   "execution_count": null,
   "id": "8ff6be27-704b-4bad-a458-b011805c44ad",
   "metadata": {},
   "outputs": [],
   "source": [
    "print(kmeansf.labels_)"
   ]
  },
  {
   "cell_type": "code",
   "execution_count": null,
   "id": "db01b75f-c27f-49bd-9921-d3b7f91b3ba0",
   "metadata": {},
   "outputs": [],
   "source": [
    "import numpy as np\n",
    "idk = np.argsort(kmeansf.labels_)"
   ]
  },
  {
   "cell_type": "code",
   "execution_count": null,
   "id": "188c1641-4fa7-4b8e-b5a1-3119453c4114",
   "metadata": {},
   "outputs": [],
   "source": [
    "print(pnd.DataFrame(fromage.index[idk],kmeansf.labels_[idk]))"
   ]
  },
  {
   "cell_type": "code",
   "execution_count": null,
   "id": "4ca036e2-fa5c-4ac5-b4e5-0853b8f7ab0e",
   "metadata": {},
   "outputs": [],
   "source": [
    "#librairie pour évaluation des partitions\n",
    "from sklearn import metrics\n",
    "import numpy as np\n",
    "\n",
    "#utilisation de la métrique \"silhouette\"\n",
    "#faire varier le nombre de clusters de 2 à 10\n",
    "res = np.arange(9,dtype=\"double\")\n",
    "for k in np.arange(9):\n",
    "    km = KMeans(n_clusters=k+2)\n",
    "    km.fit(fromage)\n",
    "    res[k] = metrics.silhouette_score(fromage,km.labels_)\n",
    "print(res)\n",
    "\n",
    "#graphique\n",
    "import matplotlib.pyplot as plt\n",
    "plt.title(\"Silhouette\")\n",
    "plt.xlabel(\"# of clusters\")\n",
    "plt.plot(np.arange(2,11,1),res)\n",
    "plt.show()"
   ]
  },
  {
   "cell_type": "code",
   "execution_count": null,
   "id": "12fa099c-8748-4b16-8d3f-d1cc0d40e4b7",
   "metadata": {
    "tags": []
   },
   "outputs": [],
   "source": [
    "from matplotlib import pyplot as plt\n",
    "from scipy.cluster.hierarchy import dendrogram, linkage, fcluster"
   ]
  },
  {
   "cell_type": "code",
   "execution_count": null,
   "id": "8b47024e-2d98-4ebb-9667-6134123291a8",
   "metadata": {},
   "outputs": [],
   "source": []
  },
  {
   "cell_type": "code",
   "execution_count": null,
   "id": "6616eee3-3d26-4cef-98bd-48e52b07c060",
   "metadata": {},
   "outputs": [],
   "source": [
    "Z = linkage(fromage,method='ward',metric='euclidean')"
   ]
  },
  {
   "cell_type": "code",
   "execution_count": null,
   "id": "e365ea4c-9a64-4d48-9757-06fc1a88904c",
   "metadata": {},
   "outputs": [],
   "source": [
    "plt.title(\"CAH\")\n",
    "dendrogram(Z,labels=fromage.index,orientation='left',color_threshold=300)\n",
    "plt.show()"
   ]
  },
  {
   "cell_type": "code",
   "execution_count": null,
   "id": "5624d4d8-07fc-43d8-9bb3-4ee0c2d1fc5d",
   "metadata": {},
   "outputs": [],
   "source": [
    "groupes_cah = fcluster(Z,t=300,criterion='distance')\n",
    "print(groupes_cah)"
   ]
  },
  {
   "cell_type": "code",
   "execution_count": null,
   "id": "dab52b1e-3efc-4afc-890c-38f8fe8877e9",
   "metadata": {},
   "outputs": [],
   "source": [
    "import numpy as np\n",
    "idg = np.argsort(groupes_cah)"
   ]
  },
  {
   "cell_type": "code",
   "execution_count": null,
   "id": "b6b5f95a-1100-46af-96b7-58c7ea19b43c",
   "metadata": {},
   "outputs": [],
   "source": [
    "print(pnd.DataFrame(fromage.index[idg],groupes_cah[idg]))"
   ]
  },
  {
   "cell_type": "code",
   "execution_count": null,
   "id": "4d4277d6-6aaa-4686-aedc-87d70bc1a660",
   "metadata": {},
   "outputs": [],
   "source": [
    "pnd.crosstab(groupes_cah,kmeansf.labels_)"
   ]
  },
  {
   "cell_type": "code",
   "execution_count": null,
   "id": "d0b8bcb2-7b4f-4831-a076-bd0976d914c3",
   "metadata": {},
   "outputs": [],
   "source": []
  }
 ],
 "metadata": {
  "kernelspec": {
   "display_name": "Python 3",
   "language": "python",
   "name": "python3"
  },
  "language_info": {
   "codemirror_mode": {
    "name": "ipython",
    "version": 3
   },
   "file_extension": ".py",
   "mimetype": "text/x-python",
   "name": "python",
   "nbconvert_exporter": "python",
   "pygments_lexer": "ipython3",
   "version": "3.8.11"
  }
 },
 "nbformat": 4,
 "nbformat_minor": 5
}
