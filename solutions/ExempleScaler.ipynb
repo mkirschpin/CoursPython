{
 "cells": [
  {
   "cell_type": "markdown",
   "metadata": {},
   "source": [
    "# Exemple Normalisation\n",
    "\n",
    "Il est souvent nécessaire de normaliser les données, avant d'éviter des écarts trop importants entre les valeurs des *features* qui peuvent impacter certains algorithmes, notamment ceux basés sur les calculs des distances,  comme la Régression Lineaire ou le K-Means. \n",
    "\n",
    "Les Scalers permettent de réaliser cette normalisation. \n",
    "\n",
    "Pour les tester, on va utiliser le dataset *\"teleCust1000t.csv\"*, utilisé par IBM dans sa formation *\"Machine Learning with Python\"*. Ce fichier contient plusieurs informations sur des clients d'une compagnie Telecom, dont notamment une indication sur la région et l'adresse d'habitation du client, ainsi que le nombre de résidents (*region, address, reside*), son état civil avec son âge, genre et si marié ou pas (*age, gender, marital*), s'il est employé ou retraité (*employ, retire*) et ses revenus moyens (*income*). La colonne *\"custcat\"* représente la catégorie du client. \n",
    "\n"
   ]
  },
  {
   "cell_type": "code",
   "execution_count": 1,
   "metadata": {},
   "outputs": [],
   "source": [
    "import pandas as pnd\n",
    "from sklearn.model_selection import train_test_split\n",
    "from sklearn.linear_model import LinearRegression\n",
    "\n",
    "from sklearn.preprocessing import StandardScaler, MinMaxScaler\n",
    "from sklearn.pipeline import Pipeline"
   ]
  },
  {
   "cell_type": "markdown",
   "metadata": {},
   "source": [
    "## Lecture des données"
   ]
  },
  {
   "cell_type": "code",
   "execution_count": 2,
   "metadata": {},
   "outputs": [
    {
     "name": "stdout",
     "output_type": "stream",
     "text": [
      "<class 'pandas.core.frame.DataFrame'>\n",
      "RangeIndex: 1000 entries, 0 to 999\n",
      "Data columns (total 12 columns):\n",
      " #   Column   Non-Null Count  Dtype  \n",
      "---  ------   --------------  -----  \n",
      " 0   region   1000 non-null   int64  \n",
      " 1   tenure   1000 non-null   int64  \n",
      " 2   age      1000 non-null   int64  \n",
      " 3   marital  1000 non-null   int64  \n",
      " 4   address  1000 non-null   int64  \n",
      " 5   income   1000 non-null   float64\n",
      " 6   ed       1000 non-null   int64  \n",
      " 7   employ   1000 non-null   int64  \n",
      " 8   retire   1000 non-null   float64\n",
      " 9   gender   1000 non-null   int64  \n",
      " 10  reside   1000 non-null   int64  \n",
      " 11  custcat  1000 non-null   int64  \n",
      "dtypes: float64(2), int64(10)\n",
      "memory usage: 93.9 KB\n"
     ]
    }
   ],
   "source": [
    "df_cust = pnd.read_csv('./files/teleCust1000t.csv', delimiter=',', header=[0])\n",
    "\n",
    "df_cust.info()"
   ]
  },
  {
   "cell_type": "markdown",
   "metadata": {},
   "source": [
    "La méthode ***describe*** nous montre un grand écart entre les valeurs de la colonne ***income***, dont les valeurs peuvent monter à *1668,00* et les autres colonnes, dont la valeur max est *77,00*.  "
   ]
  },
  {
   "cell_type": "code",
   "execution_count": 3,
   "metadata": {},
   "outputs": [
    {
     "data": {
      "text/html": [
       "<div>\n",
       "<style scoped>\n",
       "    .dataframe tbody tr th:only-of-type {\n",
       "        vertical-align: middle;\n",
       "    }\n",
       "\n",
       "    .dataframe tbody tr th {\n",
       "        vertical-align: top;\n",
       "    }\n",
       "\n",
       "    .dataframe thead th {\n",
       "        text-align: right;\n",
       "    }\n",
       "</style>\n",
       "<table border=\"1\" class=\"dataframe\">\n",
       "  <thead>\n",
       "    <tr style=\"text-align: right;\">\n",
       "      <th></th>\n",
       "      <th>region</th>\n",
       "      <th>tenure</th>\n",
       "      <th>age</th>\n",
       "      <th>marital</th>\n",
       "      <th>address</th>\n",
       "      <th>income</th>\n",
       "      <th>ed</th>\n",
       "      <th>employ</th>\n",
       "      <th>retire</th>\n",
       "      <th>gender</th>\n",
       "      <th>reside</th>\n",
       "      <th>custcat</th>\n",
       "    </tr>\n",
       "  </thead>\n",
       "  <tbody>\n",
       "    <tr>\n",
       "      <th>count</th>\n",
       "      <td>1000.0000</td>\n",
       "      <td>1000.000000</td>\n",
       "      <td>1000.000000</td>\n",
       "      <td>1000.000000</td>\n",
       "      <td>1000.000000</td>\n",
       "      <td>1000.000000</td>\n",
       "      <td>1000.000000</td>\n",
       "      <td>1000.000000</td>\n",
       "      <td>1000.000000</td>\n",
       "      <td>1000.000000</td>\n",
       "      <td>1000.000000</td>\n",
       "      <td>1000.000000</td>\n",
       "    </tr>\n",
       "    <tr>\n",
       "      <th>mean</th>\n",
       "      <td>2.0220</td>\n",
       "      <td>35.526000</td>\n",
       "      <td>41.684000</td>\n",
       "      <td>0.495000</td>\n",
       "      <td>11.551000</td>\n",
       "      <td>77.535000</td>\n",
       "      <td>2.671000</td>\n",
       "      <td>10.987000</td>\n",
       "      <td>0.047000</td>\n",
       "      <td>0.517000</td>\n",
       "      <td>2.331000</td>\n",
       "      <td>2.487000</td>\n",
       "    </tr>\n",
       "    <tr>\n",
       "      <th>std</th>\n",
       "      <td>0.8162</td>\n",
       "      <td>21.359812</td>\n",
       "      <td>12.558816</td>\n",
       "      <td>0.500225</td>\n",
       "      <td>10.086681</td>\n",
       "      <td>107.044165</td>\n",
       "      <td>1.222397</td>\n",
       "      <td>10.082087</td>\n",
       "      <td>0.211745</td>\n",
       "      <td>0.499961</td>\n",
       "      <td>1.435793</td>\n",
       "      <td>1.120306</td>\n",
       "    </tr>\n",
       "    <tr>\n",
       "      <th>min</th>\n",
       "      <td>1.0000</td>\n",
       "      <td>1.000000</td>\n",
       "      <td>18.000000</td>\n",
       "      <td>0.000000</td>\n",
       "      <td>0.000000</td>\n",
       "      <td>9.000000</td>\n",
       "      <td>1.000000</td>\n",
       "      <td>0.000000</td>\n",
       "      <td>0.000000</td>\n",
       "      <td>0.000000</td>\n",
       "      <td>1.000000</td>\n",
       "      <td>1.000000</td>\n",
       "    </tr>\n",
       "    <tr>\n",
       "      <th>25%</th>\n",
       "      <td>1.0000</td>\n",
       "      <td>17.000000</td>\n",
       "      <td>32.000000</td>\n",
       "      <td>0.000000</td>\n",
       "      <td>3.000000</td>\n",
       "      <td>29.000000</td>\n",
       "      <td>2.000000</td>\n",
       "      <td>3.000000</td>\n",
       "      <td>0.000000</td>\n",
       "      <td>0.000000</td>\n",
       "      <td>1.000000</td>\n",
       "      <td>1.000000</td>\n",
       "    </tr>\n",
       "    <tr>\n",
       "      <th>50%</th>\n",
       "      <td>2.0000</td>\n",
       "      <td>34.000000</td>\n",
       "      <td>40.000000</td>\n",
       "      <td>0.000000</td>\n",
       "      <td>9.000000</td>\n",
       "      <td>47.000000</td>\n",
       "      <td>3.000000</td>\n",
       "      <td>8.000000</td>\n",
       "      <td>0.000000</td>\n",
       "      <td>1.000000</td>\n",
       "      <td>2.000000</td>\n",
       "      <td>3.000000</td>\n",
       "    </tr>\n",
       "    <tr>\n",
       "      <th>75%</th>\n",
       "      <td>3.0000</td>\n",
       "      <td>54.000000</td>\n",
       "      <td>51.000000</td>\n",
       "      <td>1.000000</td>\n",
       "      <td>18.000000</td>\n",
       "      <td>83.000000</td>\n",
       "      <td>4.000000</td>\n",
       "      <td>17.000000</td>\n",
       "      <td>0.000000</td>\n",
       "      <td>1.000000</td>\n",
       "      <td>3.000000</td>\n",
       "      <td>3.000000</td>\n",
       "    </tr>\n",
       "    <tr>\n",
       "      <th>max</th>\n",
       "      <td>3.0000</td>\n",
       "      <td>72.000000</td>\n",
       "      <td>77.000000</td>\n",
       "      <td>1.000000</td>\n",
       "      <td>55.000000</td>\n",
       "      <td>1668.000000</td>\n",
       "      <td>5.000000</td>\n",
       "      <td>47.000000</td>\n",
       "      <td>1.000000</td>\n",
       "      <td>1.000000</td>\n",
       "      <td>8.000000</td>\n",
       "      <td>4.000000</td>\n",
       "    </tr>\n",
       "  </tbody>\n",
       "</table>\n",
       "</div>"
      ],
      "text/plain": [
       "          region       tenure          age      marital      address  \\\n",
       "count  1000.0000  1000.000000  1000.000000  1000.000000  1000.000000   \n",
       "mean      2.0220    35.526000    41.684000     0.495000    11.551000   \n",
       "std       0.8162    21.359812    12.558816     0.500225    10.086681   \n",
       "min       1.0000     1.000000    18.000000     0.000000     0.000000   \n",
       "25%       1.0000    17.000000    32.000000     0.000000     3.000000   \n",
       "50%       2.0000    34.000000    40.000000     0.000000     9.000000   \n",
       "75%       3.0000    54.000000    51.000000     1.000000    18.000000   \n",
       "max       3.0000    72.000000    77.000000     1.000000    55.000000   \n",
       "\n",
       "            income           ed       employ       retire       gender  \\\n",
       "count  1000.000000  1000.000000  1000.000000  1000.000000  1000.000000   \n",
       "mean     77.535000     2.671000    10.987000     0.047000     0.517000   \n",
       "std     107.044165     1.222397    10.082087     0.211745     0.499961   \n",
       "min       9.000000     1.000000     0.000000     0.000000     0.000000   \n",
       "25%      29.000000     2.000000     3.000000     0.000000     0.000000   \n",
       "50%      47.000000     3.000000     8.000000     0.000000     1.000000   \n",
       "75%      83.000000     4.000000    17.000000     0.000000     1.000000   \n",
       "max    1668.000000     5.000000    47.000000     1.000000     1.000000   \n",
       "\n",
       "            reside      custcat  \n",
       "count  1000.000000  1000.000000  \n",
       "mean      2.331000     2.487000  \n",
       "std       1.435793     1.120306  \n",
       "min       1.000000     1.000000  \n",
       "25%       1.000000     1.000000  \n",
       "50%       2.000000     3.000000  \n",
       "75%       3.000000     3.000000  \n",
       "max       8.000000     4.000000  "
      ]
     },
     "execution_count": 3,
     "metadata": {},
     "output_type": "execute_result"
    }
   ],
   "source": [
    "df_cust.describe()"
   ]
  },
  {
   "cell_type": "markdown",
   "metadata": {},
   "source": [
    "## Séparation des données en train et test\n",
    " \n",
    "On va essayer de normaliser ces valeurs pour pouvoir les utiliser dans un algoritme de Regression Lineaire.  \n",
    "\n",
    "Avant de normaliser les données, on va les séparer en test et train, X et Y, pour la prédiction. "
   ]
  },
  {
   "cell_type": "code",
   "execution_count": 4,
   "metadata": {},
   "outputs": [
    {
     "data": {
      "text/html": [
       "<div>\n",
       "<style scoped>\n",
       "    .dataframe tbody tr th:only-of-type {\n",
       "        vertical-align: middle;\n",
       "    }\n",
       "\n",
       "    .dataframe tbody tr th {\n",
       "        vertical-align: top;\n",
       "    }\n",
       "\n",
       "    .dataframe thead th {\n",
       "        text-align: right;\n",
       "    }\n",
       "</style>\n",
       "<table border=\"1\" class=\"dataframe\">\n",
       "  <thead>\n",
       "    <tr style=\"text-align: right;\">\n",
       "      <th></th>\n",
       "      <th>region</th>\n",
       "      <th>tenure</th>\n",
       "      <th>age</th>\n",
       "      <th>marital</th>\n",
       "      <th>address</th>\n",
       "      <th>income</th>\n",
       "      <th>ed</th>\n",
       "      <th>employ</th>\n",
       "      <th>retire</th>\n",
       "      <th>gender</th>\n",
       "      <th>reside</th>\n",
       "    </tr>\n",
       "  </thead>\n",
       "  <tbody>\n",
       "    <tr>\n",
       "      <th>412</th>\n",
       "      <td>2</td>\n",
       "      <td>10</td>\n",
       "      <td>34</td>\n",
       "      <td>0</td>\n",
       "      <td>1</td>\n",
       "      <td>52.0</td>\n",
       "      <td>5</td>\n",
       "      <td>3</td>\n",
       "      <td>0.0</td>\n",
       "      <td>1</td>\n",
       "      <td>1</td>\n",
       "    </tr>\n",
       "    <tr>\n",
       "      <th>496</th>\n",
       "      <td>3</td>\n",
       "      <td>18</td>\n",
       "      <td>31</td>\n",
       "      <td>1</td>\n",
       "      <td>12</td>\n",
       "      <td>24.0</td>\n",
       "      <td>3</td>\n",
       "      <td>4</td>\n",
       "      <td>0.0</td>\n",
       "      <td>0</td>\n",
       "      <td>4</td>\n",
       "    </tr>\n",
       "    <tr>\n",
       "      <th>204</th>\n",
       "      <td>1</td>\n",
       "      <td>38</td>\n",
       "      <td>31</td>\n",
       "      <td>1</td>\n",
       "      <td>7</td>\n",
       "      <td>187.0</td>\n",
       "      <td>4</td>\n",
       "      <td>6</td>\n",
       "      <td>0.0</td>\n",
       "      <td>0</td>\n",
       "      <td>3</td>\n",
       "    </tr>\n",
       "    <tr>\n",
       "      <th>94</th>\n",
       "      <td>3</td>\n",
       "      <td>3</td>\n",
       "      <td>20</td>\n",
       "      <td>1</td>\n",
       "      <td>1</td>\n",
       "      <td>17.0</td>\n",
       "      <td>2</td>\n",
       "      <td>0</td>\n",
       "      <td>0.0</td>\n",
       "      <td>1</td>\n",
       "      <td>4</td>\n",
       "    </tr>\n",
       "    <tr>\n",
       "      <th>447</th>\n",
       "      <td>1</td>\n",
       "      <td>64</td>\n",
       "      <td>39</td>\n",
       "      <td>0</td>\n",
       "      <td>5</td>\n",
       "      <td>37.0</td>\n",
       "      <td>1</td>\n",
       "      <td>9</td>\n",
       "      <td>0.0</td>\n",
       "      <td>0</td>\n",
       "      <td>1</td>\n",
       "    </tr>\n",
       "  </tbody>\n",
       "</table>\n",
       "</div>"
      ],
      "text/plain": [
       "     region  tenure  age  marital  address  income  ed  employ  retire  \\\n",
       "412       2      10   34        0        1    52.0   5       3     0.0   \n",
       "496       3      18   31        1       12    24.0   3       4     0.0   \n",
       "204       1      38   31        1        7   187.0   4       6     0.0   \n",
       "94        3       3   20        1        1    17.0   2       0     0.0   \n",
       "447       1      64   39        0        5    37.0   1       9     0.0   \n",
       "\n",
       "     gender  reside  \n",
       "412       1       1  \n",
       "496       0       4  \n",
       "204       0       3  \n",
       "94        1       4  \n",
       "447       0       1  "
      ]
     },
     "execution_count": 4,
     "metadata": {},
     "output_type": "execute_result"
    }
   ],
   "source": [
    "df_train, df_test = train_test_split (df_cust, test_size=0.3)\n",
    "\n",
    "x_train = df_train.drop(columns=['custcat'])\n",
    "y_train = df_train['custcat']\n",
    "\n",
    "x_test = df_test.drop(columns=['custcat'])\n",
    "y_test = df_test['custcat']\n",
    "\n",
    "x_train.head()"
   ]
  },
  {
   "cell_type": "markdown",
   "metadata": {},
   "source": [
    "## Normalisation des données"
   ]
  },
  {
   "cell_type": "code",
   "execution_count": 5,
   "metadata": {},
   "outputs": [
    {
     "name": "stdout",
     "output_type": "stream",
     "text": [
      "[[ 1.1743368   1.23396465  1.67315293 -0.94711085  3.08289229  2.42818846\n",
      "  -0.55227248  1.8758309  -0.22941573 -1.03785902 -0.90054049]\n",
      " [-1.28316921  0.49025243  0.48531617  1.05584261  0.02466314  1.64725588\n",
      "   0.28631914  1.38404002 -0.22941573 -1.03785902  2.60156141]\n",
      " [ 1.1743368   1.23396465 -0.54414237  1.05584261 -0.96186239 -0.44748093\n",
      "  -0.55227248 -0.28804894 -0.22941573  0.96352201 -0.20012011]\n",
      " [ 1.1743368  -0.20697776 -1.49441178  1.05584261 -1.06051495 -0.41991861\n",
      "   0.28631914 -0.97655616 -0.22941573  0.96352201 -0.20012011]\n",
      " [-0.0544162   0.25784237  0.24774881 -0.94711085  0.22196824 -0.47504326\n",
      "   0.28631914 -0.48476529 -0.22941573 -1.03785902 -0.90054049]\n",
      " [-1.28316921 -0.3464238  -0.7025206   1.05584261 -0.86320984 -0.57610512\n",
      "   1.12491075 -0.97655616 -0.22941573 -1.03785902  0.50030027]\n",
      " [-1.28316921 -0.06753172  0.80207264  1.05584261 -0.96186239  0.26913956\n",
      "  -0.55227248  0.79389098 -0.22941573 -1.03785902 -0.20012011]\n",
      " [-1.28316921 -0.02104971  0.6436944   1.05584261  1.40579888  0.58151259\n",
      "  -0.55227248  0.99060733 -0.22941573  0.96352201  1.20072065]\n",
      " [-0.0544162   1.32692867  0.48531617  1.05584261  0.12331569  0.13132792\n",
      "  -0.55227248  1.28568185 -0.22941573 -1.03785902 -0.20012011]\n",
      " [ 1.1743368  -1.22958206 -1.33603355 -0.94711085 -0.86320984 -0.45666837\n",
      "  -1.39086409 -0.68148164 -0.22941573  0.96352201 -0.90054049]]\n"
     ]
    }
   ],
   "source": [
    "# création de l'object Scaler\n",
    "scaler = StandardScaler()\n",
    "\n",
    "# entrainement avec les données d'entrainement\n",
    "x_train_scal = scaler.fit_transform(x_train)\n",
    "\n",
    "# et on l'applique aux données de teste\n",
    "x_test_scal = scaler.transform(x_test)\n",
    "\n",
    "# attention : fit_transform retourne un n-array (numpy array), pas un DataFrame (pandas) \n",
    "print(x_test_scal[:10])"
   ]
  },
  {
   "cell_type": "markdown",
   "metadata": {},
   "source": [
    "## Utilisation des données normalisées\n",
    "\n",
    "Maintenant que les données sont normalisées, on peut les utiliser dans nos algorithmes. \n",
    "\n",
    "On va donc créer et entrainer un modèle de Regression Lineaire. "
   ]
  },
  {
   "cell_type": "code",
   "execution_count": 6,
   "metadata": {},
   "outputs": [
    {
     "name": "stdout",
     "output_type": "stream",
     "text": [
      "2.474285714285714\n",
      "[-0.00067246  0.17280098 -0.04394376  0.00124272  0.01820135  0.01685316\n",
      "  0.22248398  0.09246935  0.01215862 -0.01727644  0.08185126]\n"
     ]
    }
   ],
   "source": [
    "model = LinearRegression()\n",
    "\n",
    "model.fit(x_train_scal, y_train)\n",
    "\n",
    "print(model.intercept_)\n",
    "print(model.coef_)"
   ]
  },
  {
   "cell_type": "markdown",
   "metadata": {},
   "source": [
    "Puis, on va tester notre modèle. "
   ]
  },
  {
   "cell_type": "code",
   "execution_count": 7,
   "metadata": {},
   "outputs": [
    {
     "name": "stdout",
     "output_type": "stream",
     "text": [
      "RMSE=1.033 \t MSE=1.067 \n",
      "Explained Variance=0.133\n"
     ]
    }
   ],
   "source": [
    "y_pred = model.predict(x_test_scal)\n",
    "\n",
    "from sklearn.metrics import mean_squared_error, explained_variance_score\n",
    "from math import sqrt\n",
    "\n",
    "mse = mean_squared_error(y_test, y_pred)\n",
    "rmse = sqrt(mse)\n",
    "\n",
    "expvar = explained_variance_score(y_test, y_pred)\n",
    "\n",
    "print ('RMSE={0:.3f} \\t MSE={1:.3f} '.format(rmse, mse) )\n",
    "print ('Explained Variance={:.3f}'.format(expvar) )"
   ]
  },
  {
   "cell_type": "markdown",
   "metadata": {},
   "source": [
    "# Pipeline et Normalisation \n",
    "\n",
    "Comme on a pu voir dans l'exemple précédent, avant chaque ***fit*** ou ***predict***, on va devoir transformer les données. On peut donc construire un **pipeline de normalisation** avec le ***scaler*** et le modèle choisi. \n",
    "\n",
    "Un **pipeline** est comme un \"tube\" où on va enchainer des opérations sur les données : la sortie d'une opération est transmise à l'opération suivante. Ici, la sortie du ***fit*** du ***scaler*** sera transmise au ***fit*** du modèle. Idem pour le ***predict*** (qui enchaine ***transform*** et ***predict***). \n",
    "\n",
    "On va illustrer ce mode d'opération avec un autre type de *scaler*, le scaler ***MinMaxScaler***. \n"
   ]
  },
  {
   "cell_type": "markdown",
   "metadata": {},
   "source": [
    "## Création du pipeline\n",
    "\n",
    "Pour créer un pipeline, on va d'abord créer les objets qui le composent, à savoir le scaler et le modèle. "
   ]
  },
  {
   "cell_type": "code",
   "execution_count": 14,
   "metadata": {},
   "outputs": [
    {
     "data": {
      "text/plain": [
       "Pipeline(steps=[('minmax', MinMaxScaler()), ('linear', LinearRegression())])"
      ]
     },
     "execution_count": 14,
     "metadata": {},
     "output_type": "execute_result"
    }
   ],
   "source": [
    "# création de l'object Scaler\n",
    "scalermm = MinMaxScaler(feature_range=(0,1))\n",
    "\n",
    "# création du modèle\n",
    "linear = LinearRegression()\n",
    "\n",
    "# créatin du pipeline\n",
    "pipeline = Pipeline ( [ ('minmax', scalermm), \n",
    "                        ('linear', linear)])\n",
    "\n",
    "pipeline"
   ]
  },
  {
   "cell_type": "markdown",
   "metadata": {},
   "source": [
    "## Usage du pipeline\n",
    "\n",
    "Maintenant, on peut lancer le ***fit*** et le ***predict*** à la fois sur le scaler et le modèle, à traver le pipeline.   "
   ]
  },
  {
   "cell_type": "code",
   "execution_count": 15,
   "metadata": {},
   "outputs": [
    {
     "name": "stdout",
     "output_type": "stream",
     "text": [
      "RMSE=1.033\n",
      "Explained Variance=0.133\n"
     ]
    }
   ],
   "source": [
    "pipeline.fit(x_train, y_train)\n",
    "y_pred_pipe = pipeline.predict(x_test)\n",
    "\n",
    "print ('RMSE={0:.3f}'.format(sqrt(mean_squared_error(y_test, y_pred_pipe))) )\n",
    "print ('Explained Variance={:.3f}'.format(explained_variance_score(y_test, y_pred_pipe)) )"
   ]
  }
 ],
 "metadata": {
  "kernelspec": {
   "display_name": "base",
   "language": "python",
   "name": "python3"
  },
  "language_info": {
   "codemirror_mode": {
    "name": "ipython",
    "version": 3
   },
   "file_extension": ".py",
   "mimetype": "text/x-python",
   "name": "python",
   "nbconvert_exporter": "python",
   "pygments_lexer": "ipython3",
   "version": "3.8.8"
  }
 },
 "nbformat": 4,
 "nbformat_minor": 2
}
