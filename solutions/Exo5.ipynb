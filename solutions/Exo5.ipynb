{
 "cells": [
  {
   "cell_type": "markdown",
   "id": "06f1c3f6-0e8c-4326-a229-f48d0a177537",
   "metadata": {},
   "source": [
    "# Exercice Arbres de regression \n",
    "\n",
    "Premier exercice de prise en main des arbres de régression. \n",
    "\n",
    "On va essayer de prévoir la taille de quelqu'un à partir de son sexe (homme / femme). C'est con comme exemple, mais ça donne une bonne idée du fonctionnement de la chose... \n"
   ]
  },
  {
   "cell_type": "markdown",
   "id": "cdf96752-7abd-4113-9e09-6fe539c617a7",
   "metadata": {},
   "source": [
    "## Création du dataset\n",
    "\n",
    "On va démarrer par la construction d'un dataset bidon, avec des valeurs plus ou moins aléatoires. On va organiser la population en 2 types : les petits et les grands pour chaque sexe.   \n",
    "\n",
    "- créer quatre *arrays* avec des valeurs aléatoires de taille. Utiliser l'opération **random.normal** de la bibliothèque **numpy** pour générer quatre ensembles avec les moyennes de 155, 165, 175 et 185 ;  \n",
    "- concatener (\"coller\") les deux premiers ensembles dans un seul *array* ***height_f*** (taille femmes), à l'aide de l'opération **concatenate** de la bibliothèque **numpy**. Faites la même chose pour les deux autres arrays, en créant alors un *array* ***height_m*** (taille homme) ;\n",
    "- afficher les 10 premiers valeurs de l'array ***height_f*** (utiliser le slice ***height_f [0:10]***) et les 10 derniers valeurs de l'array ***height_m*** (utiliser le slice ***height_m[190:200]***). \n"
   ]
  },
  {
   "cell_type": "code",
   "execution_count": 29,
   "id": "af661f5a-ae23-42ad-a061-b398bd2882b7",
   "metadata": {},
   "outputs": [
    {
     "name": "stdout",
     "output_type": "stream",
     "text": [
      "height_f: 400 [153.10840807 148.93717758 157.25518367 157.77224874 150.73048092\n",
      " 152.76141122 151.72800785 159.29357095 152.41839795 154.91343139] 160.60485519856093\n",
      "height_m: 400 [184.15563    177.50523298 175.64947179 172.86180107 172.53357709\n",
      " 180.1767585  174.74256893 169.45672219 178.28508931 172.35730712] 180.7822104081385\n"
     ]
    }
   ],
   "source": [
    "import numpy as np\n",
    "\n",
    "n = 200\n",
    "\n",
    "height_pop1_f = np.random.normal( loc=155, scale=4, size=n )\n",
    "height_pop1_m = np.random.normal( loc=175, scale=5, size=n )\n",
    "\n",
    "height_pop2_f = np.random.normal( loc=165, scale=15, size=n )\n",
    "height_pop2_m = np.random.normal( loc=185, scale=12, size=n )\n",
    "\n",
    "height_f = np.concatenate([height_pop1_f, height_pop2_f])\n",
    "height_m = np.concatenate([height_pop1_m, height_pop2_m])\n",
    "\n",
    "print ('height_f:', len(height_f), height_f[0:10], height_f.mean() )\n",
    "print ('height_m:', len(height_m), height_m[190:200], height_m.mean() )\n"
   ]
  },
  {
   "cell_type": "markdown",
   "id": "7cf52f72-423a-47a1-9dcd-60d34e9d1c8f",
   "metadata": {},
   "source": [
    "Maintenant qu'on a les array avec les données aléatoires, on va pouvoir créer un ***DataFrame*** avec l'ensemble de valeurs.\n",
    "- créer un DataFrame ***df_height*** avec une colonne \"*Gender*\" et une colonne \"*Height*\" comme suit :\n",
    "> df_height = pnd.DataFrame(\n",
    "    {\n",
    "        'Gender': [1 for i in range(height_f.size)] + [2 for i in range(height_m.size)],\n",
    "        'Height': np.concatenate((height_f, height_m))\n",
    "    }\n",
    ")\n",
    "- utiliser l'opération ***sample*** des DataFrames pour afficher 5 lignes aléatoires du DataFrame qu'on vient de créer\n",
    "- utiliser l'opération ***describe*** des DataFrames pour avoir une description de DataFrame qu'on vient de créer\n",
    "- que nous renseigne l'opération suivante :\n",
    "> df_height.groupby(by='Gender').agg(['mean', 'median', 'max', 'min']) \n"
   ]
  },
  {
   "cell_type": "code",
   "execution_count": 30,
   "id": "152014fc-e3ab-417d-9e22-2b4ad4509b42",
   "metadata": {},
   "outputs": [
    {
     "data": {
      "text/html": [
       "<div>\n",
       "<style scoped>\n",
       "    .dataframe tbody tr th:only-of-type {\n",
       "        vertical-align: middle;\n",
       "    }\n",
       "\n",
       "    .dataframe tbody tr th {\n",
       "        vertical-align: top;\n",
       "    }\n",
       "\n",
       "    .dataframe thead th {\n",
       "        text-align: right;\n",
       "    }\n",
       "</style>\n",
       "<table border=\"1\" class=\"dataframe\">\n",
       "  <thead>\n",
       "    <tr style=\"text-align: right;\">\n",
       "      <th></th>\n",
       "      <th>Gender</th>\n",
       "      <th>Height</th>\n",
       "    </tr>\n",
       "  </thead>\n",
       "  <tbody>\n",
       "    <tr>\n",
       "      <th>51</th>\n",
       "      <td>1</td>\n",
       "      <td>155.316632</td>\n",
       "    </tr>\n",
       "    <tr>\n",
       "      <th>381</th>\n",
       "      <td>1</td>\n",
       "      <td>155.751699</td>\n",
       "    </tr>\n",
       "    <tr>\n",
       "      <th>538</th>\n",
       "      <td>2</td>\n",
       "      <td>180.463322</td>\n",
       "    </tr>\n",
       "    <tr>\n",
       "      <th>696</th>\n",
       "      <td>2</td>\n",
       "      <td>164.332555</td>\n",
       "    </tr>\n",
       "    <tr>\n",
       "      <th>762</th>\n",
       "      <td>2</td>\n",
       "      <td>189.511256</td>\n",
       "    </tr>\n",
       "  </tbody>\n",
       "</table>\n",
       "</div>"
      ],
      "text/plain": [
       "     Gender      Height\n",
       "51        1  155.316632\n",
       "381       1  155.751699\n",
       "538       2  180.463322\n",
       "696       2  164.332555\n",
       "762       2  189.511256"
      ]
     },
     "execution_count": 30,
     "metadata": {},
     "output_type": "execute_result"
    }
   ],
   "source": [
    "import pandas as pnd\n",
    "\n",
    "df_height = pnd.DataFrame(\n",
    "    {\n",
    "        'Gender': [1 for i in range(height_f.size)] + [2 for i in range(height_m.size)],\n",
    "        'Height': np.concatenate((height_f, height_m))\n",
    "    }\n",
    ")\n",
    "\n",
    "df_height.sample(5)"
   ]
  },
  {
   "cell_type": "code",
   "execution_count": 31,
   "id": "2877bafd-5f90-49c1-84a1-2a55b61e2a67",
   "metadata": {},
   "outputs": [
    {
     "data": {
      "text/html": [
       "<div>\n",
       "<style scoped>\n",
       "    .dataframe tbody tr th:only-of-type {\n",
       "        vertical-align: middle;\n",
       "    }\n",
       "\n",
       "    .dataframe tbody tr th {\n",
       "        vertical-align: top;\n",
       "    }\n",
       "\n",
       "    .dataframe thead th {\n",
       "        text-align: right;\n",
       "    }\n",
       "</style>\n",
       "<table border=\"1\" class=\"dataframe\">\n",
       "  <thead>\n",
       "    <tr style=\"text-align: right;\">\n",
       "      <th></th>\n",
       "      <th>Gender</th>\n",
       "      <th>Height</th>\n",
       "    </tr>\n",
       "  </thead>\n",
       "  <tbody>\n",
       "    <tr>\n",
       "      <th>count</th>\n",
       "      <td>800.000000</td>\n",
       "      <td>800.000000</td>\n",
       "    </tr>\n",
       "    <tr>\n",
       "      <th>mean</th>\n",
       "      <td>1.500000</td>\n",
       "      <td>170.693533</td>\n",
       "    </tr>\n",
       "    <tr>\n",
       "      <th>std</th>\n",
       "      <td>0.500313</td>\n",
       "      <td>15.108759</td>\n",
       "    </tr>\n",
       "    <tr>\n",
       "      <th>min</th>\n",
       "      <td>1.000000</td>\n",
       "      <td>133.734576</td>\n",
       "    </tr>\n",
       "    <tr>\n",
       "      <th>25%</th>\n",
       "      <td>1.000000</td>\n",
       "      <td>157.797142</td>\n",
       "    </tr>\n",
       "    <tr>\n",
       "      <th>50%</th>\n",
       "      <td>1.500000</td>\n",
       "      <td>171.154099</td>\n",
       "    </tr>\n",
       "    <tr>\n",
       "      <th>75%</th>\n",
       "      <td>2.000000</td>\n",
       "      <td>180.526752</td>\n",
       "    </tr>\n",
       "    <tr>\n",
       "      <th>max</th>\n",
       "      <td>2.000000</td>\n",
       "      <td>215.745050</td>\n",
       "    </tr>\n",
       "  </tbody>\n",
       "</table>\n",
       "</div>"
      ],
      "text/plain": [
       "           Gender      Height\n",
       "count  800.000000  800.000000\n",
       "mean     1.500000  170.693533\n",
       "std      0.500313   15.108759\n",
       "min      1.000000  133.734576\n",
       "25%      1.000000  157.797142\n",
       "50%      1.500000  171.154099\n",
       "75%      2.000000  180.526752\n",
       "max      2.000000  215.745050"
      ]
     },
     "execution_count": 31,
     "metadata": {},
     "output_type": "execute_result"
    }
   ],
   "source": [
    "df_height.describe()"
   ]
  },
  {
   "cell_type": "code",
   "execution_count": 32,
   "id": "5f113f3a-5343-427a-bec3-efaa7f318ece",
   "metadata": {},
   "outputs": [
    {
     "data": {
      "text/html": [
       "<div>\n",
       "<style scoped>\n",
       "    .dataframe tbody tr th:only-of-type {\n",
       "        vertical-align: middle;\n",
       "    }\n",
       "\n",
       "    .dataframe tbody tr th {\n",
       "        vertical-align: top;\n",
       "    }\n",
       "\n",
       "    .dataframe thead tr th {\n",
       "        text-align: left;\n",
       "    }\n",
       "\n",
       "    .dataframe thead tr:last-of-type th {\n",
       "        text-align: right;\n",
       "    }\n",
       "</style>\n",
       "<table border=\"1\" class=\"dataframe\">\n",
       "  <thead>\n",
       "    <tr>\n",
       "      <th></th>\n",
       "      <th colspan=\"4\" halign=\"left\">Height</th>\n",
       "    </tr>\n",
       "    <tr>\n",
       "      <th></th>\n",
       "      <th>mean</th>\n",
       "      <th>median</th>\n",
       "      <th>max</th>\n",
       "      <th>min</th>\n",
       "    </tr>\n",
       "    <tr>\n",
       "      <th>Gender</th>\n",
       "      <th></th>\n",
       "      <th></th>\n",
       "      <th></th>\n",
       "      <th></th>\n",
       "    </tr>\n",
       "  </thead>\n",
       "  <tbody>\n",
       "    <tr>\n",
       "      <th>1</th>\n",
       "      <td>160.604855</td>\n",
       "      <td>157.819780</td>\n",
       "      <td>205.804207</td>\n",
       "      <td>133.734576</td>\n",
       "    </tr>\n",
       "    <tr>\n",
       "      <th>2</th>\n",
       "      <td>180.782210</td>\n",
       "      <td>178.457606</td>\n",
       "      <td>215.745050</td>\n",
       "      <td>154.497211</td>\n",
       "    </tr>\n",
       "  </tbody>\n",
       "</table>\n",
       "</div>"
      ],
      "text/plain": [
       "            Height                                    \n",
       "              mean      median         max         min\n",
       "Gender                                                \n",
       "1       160.604855  157.819780  205.804207  133.734576\n",
       "2       180.782210  178.457606  215.745050  154.497211"
      ]
     },
     "execution_count": 32,
     "metadata": {},
     "output_type": "execute_result"
    }
   ],
   "source": [
    "df_height.groupby(by='Gender').agg(['mean', 'median', 'max', 'min'])"
   ]
  },
  {
   "cell_type": "markdown",
   "id": "87673279-c6e7-4dac-921e-626c5013e58b",
   "metadata": {},
   "source": [
    "On peut essayer d'afficher les données du DataFrame qu'on vient de créer dans un graphique.  "
   ]
  },
  {
   "cell_type": "code",
   "execution_count": 33,
   "id": "303a4bbd-af30-4238-969a-96c78ad143c0",
   "metadata": {},
   "outputs": [
    {
     "data": {
      "text/plain": [
       "Text(0.5, 0, 'Height (in centimeters)')"
      ]
     },
     "execution_count": 33,
     "metadata": {},
     "output_type": "execute_result"
    },
    {
     "data": {
      "image/png": "[encoded data removed]",
      "text/plain": [
       "<Figure size 576x576 with 1 Axes>"
      ]
     },
     "metadata": {
      "needs_background": "light"
     },
     "output_type": "display_data"
    }
   ],
   "source": [
    "%matplotlib inline\n",
    "import matplotlib.pyplot as plt\n",
    "fig, ax = plt.subplots(1, 1, figsize=(8, 8))\n",
    "df_height[df_height['Gender'] == 1]['Height'].plot (\n",
    "                                             label='Female', kind='hist', alpha=0.7, ax=ax )\n",
    "\n",
    "df_height[df_height['Gender'] == 2]['Height'].plot (\n",
    "                                             label='Male', kind='hist', alpha=0.7, ax=ax )\n",
    "ax.legend()\n",
    "ax.set_title('Height Distribution')\n",
    "ax.set_xlabel('Height (in centimeters)')\n"
   ]
  },
  {
   "cell_type": "markdown",
   "id": "07debbf8-a8ea-4a69-ab48-7307d6225d0c",
   "metadata": {},
   "source": [
    "## Division des données en training et test\n",
    "\n",
    "- diviser le DataFrame en training et test (proportion 70% / 30%) à l'aide de l'opération ***train_test_split***\n",
    "- afficher les premières lignes du dataset de training à l'aide de l'opération ***head***\n",
    "- séparer les *features* et *target* des datasets training et test. Par exemple : \n",
    "> x_train = df_train [['Gender']]\n",
    "- afficher trois lignes aléatoires du dataset ***x_train*** à l'aide de l'opération ***sample***.  \n"
   ]
  },
  {
   "cell_type": "code",
   "execution_count": 34,
   "id": "a3534923-350c-4d85-8f42-4bc434062b48",
   "metadata": {},
   "outputs": [
    {
     "name": "stdout",
     "output_type": "stream",
     "text": [
      "Train: (560, 2) Test: (240, 2)\n"
     ]
    },
    {
     "data": {
      "text/html": [
       "<div>\n",
       "<style scoped>\n",
       "    .dataframe tbody tr th:only-of-type {\n",
       "        vertical-align: middle;\n",
       "    }\n",
       "\n",
       "    .dataframe tbody tr th {\n",
       "        vertical-align: top;\n",
       "    }\n",
       "\n",
       "    .dataframe thead th {\n",
       "        text-align: right;\n",
       "    }\n",
       "</style>\n",
       "<table border=\"1\" class=\"dataframe\">\n",
       "  <thead>\n",
       "    <tr style=\"text-align: right;\">\n",
       "      <th></th>\n",
       "      <th>Gender</th>\n",
       "      <th>Height</th>\n",
       "    </tr>\n",
       "  </thead>\n",
       "  <tbody>\n",
       "    <tr>\n",
       "      <th>707</th>\n",
       "      <td>2</td>\n",
       "      <td>180.550224</td>\n",
       "    </tr>\n",
       "    <tr>\n",
       "      <th>741</th>\n",
       "      <td>2</td>\n",
       "      <td>179.607868</td>\n",
       "    </tr>\n",
       "    <tr>\n",
       "      <th>38</th>\n",
       "      <td>1</td>\n",
       "      <td>160.151867</td>\n",
       "    </tr>\n",
       "    <tr>\n",
       "      <th>546</th>\n",
       "      <td>2</td>\n",
       "      <td>183.507512</td>\n",
       "    </tr>\n",
       "    <tr>\n",
       "      <th>283</th>\n",
       "      <td>1</td>\n",
       "      <td>159.566868</td>\n",
       "    </tr>\n",
       "  </tbody>\n",
       "</table>\n",
       "</div>"
      ],
      "text/plain": [
       "     Gender      Height\n",
       "707       2  180.550224\n",
       "741       2  179.607868\n",
       "38        1  160.151867\n",
       "546       2  183.507512\n",
       "283       1  159.566868"
      ]
     },
     "execution_count": 34,
     "metadata": {},
     "output_type": "execute_result"
    }
   ],
   "source": [
    "from sklearn.model_selection import train_test_split \n",
    "\n",
    "df_train, df_test = train_test_split( df_height, test_size=0.3) \n",
    "\n",
    "print ('Train:', df_train.shape, 'Test:', df_test.shape)\n",
    "\n",
    "df_train.head()"
   ]
  },
  {
   "cell_type": "code",
   "execution_count": 35,
   "id": "ff50cdf8-3595-4eb2-b2d9-9935fd03adfb",
   "metadata": {},
   "outputs": [
    {
     "data": {
      "text/html": [
       "<div>\n",
       "<style scoped>\n",
       "    .dataframe tbody tr th:only-of-type {\n",
       "        vertical-align: middle;\n",
       "    }\n",
       "\n",
       "    .dataframe tbody tr th {\n",
       "        vertical-align: top;\n",
       "    }\n",
       "\n",
       "    .dataframe thead th {\n",
       "        text-align: right;\n",
       "    }\n",
       "</style>\n",
       "<table border=\"1\" class=\"dataframe\">\n",
       "  <thead>\n",
       "    <tr style=\"text-align: right;\">\n",
       "      <th></th>\n",
       "      <th>Gender</th>\n",
       "    </tr>\n",
       "  </thead>\n",
       "  <tbody>\n",
       "    <tr>\n",
       "      <th>502</th>\n",
       "      <td>2</td>\n",
       "    </tr>\n",
       "    <tr>\n",
       "      <th>455</th>\n",
       "      <td>2</td>\n",
       "    </tr>\n",
       "    <tr>\n",
       "      <th>104</th>\n",
       "      <td>1</td>\n",
       "    </tr>\n",
       "  </tbody>\n",
       "</table>\n",
       "</div>"
      ],
      "text/plain": [
       "     Gender\n",
       "502       2\n",
       "455       2\n",
       "104       1"
      ]
     },
     "execution_count": 35,
     "metadata": {},
     "output_type": "execute_result"
    }
   ],
   "source": [
    "x_train = df_train [['Gender']]\n",
    "y_train = df_train [['Height']]\n",
    "\n",
    "x_train.sample(3)"
   ]
  },
  {
   "cell_type": "markdown",
   "id": "c4c89c53-bceb-4af7-be79-221f9d4357f7",
   "metadata": {},
   "source": [
    "## Créer et entrainer le modèle\n",
    "\n",
    "Une fois les datasets training et test préparés, on va pouvoir entrainer et tester le modèle.\n",
    "\n",
    "- créer deux modèles d'arbres de régression, un avec le critère ***mae*** et l'autre avec le critère ***mse***.\n",
    "- entrainer les deux modèles avec les données de training. \n",
    "- afficher la profondeur de deux arbres créées avec l'opération ***get_depth()***\n",
    "- visualiser les deux arbres crées"
   ]
  },
  {
   "cell_type": "code",
   "execution_count": 36,
   "id": "ecce0bd7-cd1b-43ae-9a48-c6449a0b2fbe",
   "metadata": {},
   "outputs": [
    {
     "data": {
      "text/plain": [
       "DecisionTreeRegressor(criterion='mae')"
      ]
     },
     "execution_count": 36,
     "metadata": {},
     "output_type": "execute_result"
    }
   ],
   "source": [
    "from sklearn.tree import DecisionTreeRegressor\n",
    "\n",
    "#selon la version installée mae/mse ou absolute_error/squared_error\n",
    "#rgmae = DecisionTreeRegressor(criterion='absolute_error')\n",
    "rgmae = DecisionTreeRegressor(criterion='mae')\n",
    "\n",
    "#rgmse = DecisionTreeRegressor(criterion='squared_error')\n",
    "rgmse = DecisionTreeRegressor(criterion='mse') \n",
    "\n",
    "rgmse.fit(x_train, y_train)\n",
    "rgmae.fit(x_train, y_train)"
   ]
  },
  {
   "cell_type": "code",
   "execution_count": 37,
   "id": "9e993fed-5d78-4d39-b50e-5ddbb9f65ed8",
   "metadata": {},
   "outputs": [
    {
     "name": "stdout",
     "output_type": "stream",
     "text": [
      "Depth MAE :  1 MSE : 1\n",
      "Tree MAE \n",
      "|--- feature_0 <= 1.50\n",
      "|   |--- value: [157.79]\n",
      "|--- feature_0 >  1.50\n",
      "|   |--- value: [178.23]\n",
      "\n",
      "Tree MSE \n",
      "|--- feature_0 <= 1.50\n",
      "|   |--- value: [160.63]\n",
      "|--- feature_0 >  1.50\n",
      "|   |--- value: [180.51]\n",
      "\n"
     ]
    }
   ],
   "source": [
    "from sklearn.tree import export_text\n",
    "\n",
    "print ('Depth MAE : ', rgmae.get_depth(), 'MSE :', rgmse.get_depth())\n",
    "\n",
    "print ('Tree MAE ')\n",
    "print (export_text(rgmae))\n",
    "\n",
    "print ('Tree MSE ')\n",
    "print (export_text(rgmse))\n"
   ]
  },
  {
   "cell_type": "markdown",
   "id": "3006d8c5-38da-46b4-9628-10bd7bd9778e",
   "metadata": {},
   "source": [
    "On peut également les visualiser sous forme graphique."
   ]
  },
  {
   "cell_type": "code",
   "execution_count": 38,
   "id": "f8fd8e98-b3d5-4060-9f28-63efca54570b",
   "metadata": {},
   "outputs": [
    {
     "data": {
      "text/plain": [
       "[Text(152.1818181818182, 326.15999999999997, 'Gender <= 1.5\\nmse = 224.879\\nsamples = 560\\nvalue = 170.637'),\n",
       " Text(76.0909090909091, 108.72000000000003, 'mse = 133.292\\nsamples = 278\\nvalue = 160.626'),\n",
       " Text(228.27272727272728, 108.72000000000003, 'mse = 118.937\\nsamples = 282\\nvalue = 180.507')]"
      ]
     },
     "execution_count": 38,
     "metadata": {},
     "output_type": "execute_result"
    },
    {
     "data": {
      "image/png": "[encoded data removed]",
      "text/plain": [
       "<Figure size 864x576 with 2 Axes>"
      ]
     },
     "metadata": {
      "needs_background": "light"
     },
     "output_type": "display_data"
    }
   ],
   "source": [
    "import matplotlib.pyplot as plt\n",
    "from sklearn.tree import plot_tree\n",
    "\n",
    "%matplotlib inline\n",
    "fig, axs = plt.subplots(1, 2, figsize=(12, 8))\n",
    "\n",
    "plot_tree(rgmae, feature_names=['Gender'], fontsize=8, ax=axs[0] )\n",
    "plot_tree(rgmse, feature_names=['Gender'], fontsize=8, ax=axs[1] )"
   ]
  },
  {
   "cell_type": "code",
   "execution_count": 41,
   "id": "848bb4a6",
   "metadata": {},
   "outputs": [
    {
     "data": {
      "text/html": [
       "<div>\n",
       "<style scoped>\n",
       "    .dataframe tbody tr th:only-of-type {\n",
       "        vertical-align: middle;\n",
       "    }\n",
       "\n",
       "    .dataframe tbody tr th {\n",
       "        vertical-align: top;\n",
       "    }\n",
       "\n",
       "    .dataframe thead tr th {\n",
       "        text-align: left;\n",
       "    }\n",
       "\n",
       "    .dataframe thead tr:last-of-type th {\n",
       "        text-align: right;\n",
       "    }\n",
       "</style>\n",
       "<table border=\"1\" class=\"dataframe\">\n",
       "  <thead>\n",
       "    <tr>\n",
       "      <th></th>\n",
       "      <th colspan=\"2\" halign=\"left\">Height</th>\n",
       "    </tr>\n",
       "    <tr>\n",
       "      <th></th>\n",
       "      <th>mean</th>\n",
       "      <th>median</th>\n",
       "    </tr>\n",
       "    <tr>\n",
       "      <th>Gender</th>\n",
       "      <th></th>\n",
       "      <th></th>\n",
       "    </tr>\n",
       "  </thead>\n",
       "  <tbody>\n",
       "    <tr>\n",
       "      <th>1</th>\n",
       "      <td>160.604855</td>\n",
       "      <td>157.819780</td>\n",
       "    </tr>\n",
       "    <tr>\n",
       "      <th>2</th>\n",
       "      <td>180.782210</td>\n",
       "      <td>178.457606</td>\n",
       "    </tr>\n",
       "  </tbody>\n",
       "</table>\n",
       "</div>"
      ],
      "text/plain": [
       "            Height            \n",
       "              mean      median\n",
       "Gender                        \n",
       "1       160.604855  157.819780\n",
       "2       180.782210  178.457606"
      ]
     },
     "execution_count": 41,
     "metadata": {},
     "output_type": "execute_result"
    }
   ],
   "source": [
    "df_height.groupby(by='Gender').agg(['mean', 'median'])"
   ]
  },
  {
   "cell_type": "markdown",
   "id": "3d128f09-725c-40c3-b2b6-0bbc2eb4901c",
   "metadata": {},
   "source": [
    "## Evaluer le modèle\n",
    "\n",
    "- utiliser les données de tests avec les deux arbres qu'on vient d'entrainer\n",
    "- afficher les 5 premières données de prévision obtenus avec les arbres (utiliser le *slice* **[0:5]**)\n",
    "- utiliser les mesures d'évaluation ***mean_squared_error*** et ***mean_absolute_error*** (sur laquelle on va appliquer la fonction ***sqrt*** de la bibliothèque ***math***) pour évaluer les deux arbres \n",
    "- afficher les résultats obtenus dans les évaluations. "
   ]
  },
  {
   "cell_type": "code",
   "execution_count": 39,
   "id": "b3e8cd1d-0247-4463-bb55-bf6f79abee2a",
   "metadata": {},
   "outputs": [
    {
     "name": "stdout",
     "output_type": "stream",
     "text": [
      "[178.23055478 178.23055478 178.23055478 157.78884456 157.78884456]\n",
      "[180.50727529 180.50727529 180.50727529 160.62553732 160.62553732]\n",
      "451    169.231414\n",
      "709    190.055462\n",
      "662    166.761819\n",
      "166    152.797851\n",
      "212    142.198341\n",
      "Name: Height, dtype: float64\n"
     ]
    }
   ],
   "source": [
    "y_pred_mae = rgmae.predict(df_test[['Gender']])\n",
    "y_pred_mse = rgmse.predict(df_test[['Gender']])\n",
    "\n",
    "print (y_pred_mae[0:5])\n",
    "print (y_pred_mse[0:5])\n",
    "print (df_test['Height'].head(5))"
   ]
  },
  {
   "cell_type": "code",
   "execution_count": 40,
   "id": "88503cb6-c16e-45a6-946d-36c4567b74b8",
   "metadata": {},
   "outputs": [
    {
     "name": "stdout",
     "output_type": "stream",
     "text": [
      "Arbre critère   MAE     MSE \n",
      "        MSE :  135.202 126.672\n",
      "        MAE : 8.515 8.721\n",
      "       RMSE : 11.628 11.255\n"
     ]
    }
   ],
   "source": [
    "from sklearn.metrics import mean_squared_error, mean_absolute_error\n",
    "from math import sqrt\n",
    "\n",
    "mse_Tmae = mean_squared_error(df_test['Height'], y_pred_mae) \n",
    "mae_Tmae = mean_absolute_error(df_test['Height'], y_pred_mae)\n",
    "rmse_Tmae = sqrt(mse_Tmae)\n",
    "\n",
    "mse_Tmse = mean_squared_error(df_test['Height'], y_pred_mse) \n",
    "mae_Tmse = mean_absolute_error(df_test['Height'], y_pred_mse)\n",
    "rmse_Tmse = sqrt(mse_Tmse)\n",
    "\n",
    "print (\"Arbre critère   MAE     MSE \")\n",
    "print (\"        MSE : \", round(mse_Tmae, 3), round(mse_Tmse, 3))\n",
    "print (\"        MAE :\", round(mae_Tmae,3), round(mae_Tmse,3) )\n",
    "print (\"       RMSE :\", round(rmse_Tmae,3) , round(rmse_Tmse,3))\n"
   ]
  }
 ],
 "metadata": {
  "kernelspec": {
   "display_name": "Python 3",
   "language": "python",
   "name": "python3"
  },
  "language_info": {
   "codemirror_mode": {
    "name": "ipython",
    "version": 3
   },
   "file_extension": ".py",
   "mimetype": "text/x-python",
   "name": "python",
   "nbconvert_exporter": "python",
   "pygments_lexer": "ipython3",
   "version": "3.9.1"
  }
 },
 "nbformat": 4,
 "nbformat_minor": 5
}
