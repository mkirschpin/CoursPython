{
 "cells": [
  {
   "cell_type": "markdown",
   "id": "06f1c3f6-0e8c-4326-a229-f48d0a177537",
   "metadata": {},
   "source": [
    "# Exercice Arbres de regression \n",
    "\n",
    "Premier exercice de prise en main des arbres de régression. \n",
    "\n",
    "On va essayer de prévoir la taille de quelqu'un à partir de son sexe (homme / femme). C'est con comme exemple, mais ça donne une bonne idée du fonctionnement de la chose... \n"
   ]
  },
  {
   "cell_type": "markdown",
   "id": "cdf96752-7abd-4113-9e09-6fe539c617a7",
   "metadata": {},
   "source": [
    "## Création du dataset\n",
    "\n",
    "On va démarrer par la construction d'un dataset bidon, avec des valeurs plus ou moins aléatoires. On va organiser la population en 2 types : les petits et les grands pour chaque sexe.   \n",
    "\n",
    "- créer quatre *arrays* avec des valeurs aléatoires de taille. Utiliser l'opération **random.normal** de la bibliothèque **numpy** pour générer quatre ensembles avec les moyennes de 155, 165, 175 et 185 ;  \n",
    "- concatener (\"coller\") les deux premiers ensembles dans un seul *array* ***height_f*** (taille femmes), à l'aide de l'opération **concatenate** de la bibliothèque **numpy**. Faites la même chose pour les deux autres arrays, en créant alors un *array* ***height_m*** (taille homme) ;\n",
    "- afficher les 10 premiers valeurs de l'array ***height_f*** (utiliser le slice ***height_f [0:10]***) et les 10 derniers valeurs de l'array ***height_m*** (utiliser le slice ***height_m[190:200]***). \n"
   ]
  },
  {
   "cell_type": "code",
   "execution_count": 1,
   "id": "af661f5a-ae23-42ad-a061-b398bd2882b7",
   "metadata": {},
   "outputs": [
    {
     "name": "stdout",
     "output_type": "stream",
     "text": [
      "height_f: 400 [160.51090409 155.25959216 154.74100714 144.26706981 158.83658968\n",
      " 153.27658665 154.98711871 146.92199145 151.27328227 164.20192358] 159.81229864640446\n",
      "height_m: 400 [171.81198401 175.12014673 171.26687796 176.06456166 176.09299993\n",
      " 172.61673461 173.92194065 177.97797685 168.31643821 181.31336525] 179.5384380822426\n"
     ]
    }
   ],
   "source": [
    "import numpy as np\n",
    "\n",
    "n = 200\n",
    "\n",
    "height_pop1_f = np.random.normal( loc=155, scale=4, size=n )\n",
    "height_pop1_m = np.random.normal( loc=175, scale=5, size=n )\n",
    "\n",
    "height_pop2_f = np.random.normal( loc=165, scale=15, size=n )\n",
    "height_pop2_m = np.random.normal( loc=185, scale=12, size=n )\n",
    "\n",
    "height_f = np.concatenate([height_pop1_f, height_pop2_f])\n",
    "height_m = np.concatenate([height_pop1_m, height_pop2_m])\n",
    "\n",
    "print ('height_f:', len(height_f), height_f[0:10], height_f.mean() )\n",
    "print ('height_m:', len(height_m), height_m[190:200], height_m.mean() )\n"
   ]
  },
  {
   "cell_type": "markdown",
   "id": "7cf52f72-423a-47a1-9dcd-60d34e9d1c8f",
   "metadata": {},
   "source": [
    "Maintenant qu'on a les array avec les données aléatoires, on va pouvoir créer un ***DataFrame*** avec l'ensemble de valeurs.\n",
    "- créer un DataFrame ***df_height*** avec une colonne \"*Gender*\" et une colonne \"*Height*\" comme suit :\n",
    "> df_height = pnd.DataFrame(\n",
    "    {\n",
    "        'Gender': [1 for i in range(height_f.size)] + [2 for i in range(height_m.size)],\n",
    "        'Height': np.concatenate((height_f, height_m))\n",
    "    }\n",
    ")\n",
    "- utiliser l'opération ***sample*** des DataFrames pour afficher 5 lignes aléatoires du DataFrame qu'on vient de créer\n",
    "- utiliser l'opération ***describe*** des DataFrames pour avoir une description de DataFrame qu'on vient de créer\n",
    "- que nous renseigne l'opération suivante :\n",
    "> df_height.groupby(by='Gender').agg(['mean', 'median', 'max', 'min']) \n"
   ]
  },
  {
   "cell_type": "code",
   "execution_count": 2,
   "id": "152014fc-e3ab-417d-9e22-2b4ad4509b42",
   "metadata": {},
   "outputs": [
    {
     "data": {
      "text/html": [
       "<div>\n",
       "<style scoped>\n",
       "    .dataframe tbody tr th:only-of-type {\n",
       "        vertical-align: middle;\n",
       "    }\n",
       "\n",
       "    .dataframe tbody tr th {\n",
       "        vertical-align: top;\n",
       "    }\n",
       "\n",
       "    .dataframe thead th {\n",
       "        text-align: right;\n",
       "    }\n",
       "</style>\n",
       "<table border=\"1\" class=\"dataframe\">\n",
       "  <thead>\n",
       "    <tr style=\"text-align: right;\">\n",
       "      <th></th>\n",
       "      <th>Gender</th>\n",
       "      <th>Height</th>\n",
       "    </tr>\n",
       "  </thead>\n",
       "  <tbody>\n",
       "    <tr>\n",
       "      <th>114</th>\n",
       "      <td>1</td>\n",
       "      <td>156.984162</td>\n",
       "    </tr>\n",
       "    <tr>\n",
       "      <th>655</th>\n",
       "      <td>2</td>\n",
       "      <td>189.254244</td>\n",
       "    </tr>\n",
       "    <tr>\n",
       "      <th>412</th>\n",
       "      <td>2</td>\n",
       "      <td>174.160961</td>\n",
       "    </tr>\n",
       "    <tr>\n",
       "      <th>647</th>\n",
       "      <td>2</td>\n",
       "      <td>189.489371</td>\n",
       "    </tr>\n",
       "    <tr>\n",
       "      <th>74</th>\n",
       "      <td>1</td>\n",
       "      <td>155.677466</td>\n",
       "    </tr>\n",
       "  </tbody>\n",
       "</table>\n",
       "</div>"
      ],
      "text/plain": [
       "     Gender      Height\n",
       "114       1  156.984162\n",
       "655       2  189.254244\n",
       "412       2  174.160961\n",
       "647       2  189.489371\n",
       "74        1  155.677466"
      ]
     },
     "execution_count": 2,
     "metadata": {},
     "output_type": "execute_result"
    }
   ],
   "source": [
    "import pandas as pnd\n",
    "\n",
    "df_height = pnd.DataFrame(\n",
    "    {\n",
    "        'Gender': [1 for i in range(height_f.size)] + [2 for i in range(height_m.size)],\n",
    "        'Height': np.concatenate((height_f, height_m))\n",
    "    }\n",
    ")\n",
    "\n",
    "df_height.sample(5)"
   ]
  },
  {
   "cell_type": "code",
   "execution_count": 3,
   "id": "2877bafd-5f90-49c1-84a1-2a55b61e2a67",
   "metadata": {},
   "outputs": [
    {
     "data": {
      "text/html": [
       "<div>\n",
       "<style scoped>\n",
       "    .dataframe tbody tr th:only-of-type {\n",
       "        vertical-align: middle;\n",
       "    }\n",
       "\n",
       "    .dataframe tbody tr th {\n",
       "        vertical-align: top;\n",
       "    }\n",
       "\n",
       "    .dataframe thead th {\n",
       "        text-align: right;\n",
       "    }\n",
       "</style>\n",
       "<table border=\"1\" class=\"dataframe\">\n",
       "  <thead>\n",
       "    <tr style=\"text-align: right;\">\n",
       "      <th></th>\n",
       "      <th>Gender</th>\n",
       "      <th>Height</th>\n",
       "    </tr>\n",
       "  </thead>\n",
       "  <tbody>\n",
       "    <tr>\n",
       "      <th>count</th>\n",
       "      <td>800.000000</td>\n",
       "      <td>800.000000</td>\n",
       "    </tr>\n",
       "    <tr>\n",
       "      <th>mean</th>\n",
       "      <td>1.500000</td>\n",
       "      <td>169.675368</td>\n",
       "    </tr>\n",
       "    <tr>\n",
       "      <th>std</th>\n",
       "      <td>0.500313</td>\n",
       "      <td>14.707872</td>\n",
       "    </tr>\n",
       "    <tr>\n",
       "      <th>min</th>\n",
       "      <td>1.000000</td>\n",
       "      <td>125.325890</td>\n",
       "    </tr>\n",
       "    <tr>\n",
       "      <th>25%</th>\n",
       "      <td>1.000000</td>\n",
       "      <td>156.962480</td>\n",
       "    </tr>\n",
       "    <tr>\n",
       "      <th>50%</th>\n",
       "      <td>1.500000</td>\n",
       "      <td>170.747298</td>\n",
       "    </tr>\n",
       "    <tr>\n",
       "      <th>75%</th>\n",
       "      <td>2.000000</td>\n",
       "      <td>179.473921</td>\n",
       "    </tr>\n",
       "    <tr>\n",
       "      <th>max</th>\n",
       "      <td>2.000000</td>\n",
       "      <td>222.256933</td>\n",
       "    </tr>\n",
       "  </tbody>\n",
       "</table>\n",
       "</div>"
      ],
      "text/plain": [
       "           Gender      Height\n",
       "count  800.000000  800.000000\n",
       "mean     1.500000  169.675368\n",
       "std      0.500313   14.707872\n",
       "min      1.000000  125.325890\n",
       "25%      1.000000  156.962480\n",
       "50%      1.500000  170.747298\n",
       "75%      2.000000  179.473921\n",
       "max      2.000000  222.256933"
      ]
     },
     "execution_count": 3,
     "metadata": {},
     "output_type": "execute_result"
    }
   ],
   "source": [
    "df_height.describe()"
   ]
  },
  {
   "cell_type": "code",
   "execution_count": 7,
   "id": "5f113f3a-5343-427a-bec3-efaa7f318ece",
   "metadata": {},
   "outputs": [
    {
     "data": {
      "text/html": [
       "<div>\n",
       "<style scoped>\n",
       "    .dataframe tbody tr th:only-of-type {\n",
       "        vertical-align: middle;\n",
       "    }\n",
       "\n",
       "    .dataframe tbody tr th {\n",
       "        vertical-align: top;\n",
       "    }\n",
       "\n",
       "    .dataframe thead tr th {\n",
       "        text-align: left;\n",
       "    }\n",
       "\n",
       "    .dataframe thead tr:last-of-type th {\n",
       "        text-align: right;\n",
       "    }\n",
       "</style>\n",
       "<table border=\"1\" class=\"dataframe\">\n",
       "  <thead>\n",
       "    <tr>\n",
       "      <th></th>\n",
       "      <th colspan=\"4\" halign=\"left\">Height</th>\n",
       "    </tr>\n",
       "    <tr>\n",
       "      <th></th>\n",
       "      <th>mean</th>\n",
       "      <th>median</th>\n",
       "      <th>max</th>\n",
       "      <th>min</th>\n",
       "    </tr>\n",
       "    <tr>\n",
       "      <th>Gender</th>\n",
       "      <th></th>\n",
       "      <th></th>\n",
       "      <th></th>\n",
       "      <th></th>\n",
       "    </tr>\n",
       "  </thead>\n",
       "  <tbody>\n",
       "    <tr>\n",
       "      <th>1</th>\n",
       "      <td>159.812299</td>\n",
       "      <td>156.993127</td>\n",
       "      <td>206.512520</td>\n",
       "      <td>125.325890</td>\n",
       "    </tr>\n",
       "    <tr>\n",
       "      <th>2</th>\n",
       "      <td>179.538438</td>\n",
       "      <td>177.263623</td>\n",
       "      <td>222.256933</td>\n",
       "      <td>155.687893</td>\n",
       "    </tr>\n",
       "  </tbody>\n",
       "</table>\n",
       "</div>"
      ],
      "text/plain": [
       "            Height                                    \n",
       "              mean      median         max         min\n",
       "Gender                                                \n",
       "1       159.812299  156.993127  206.512520  125.325890\n",
       "2       179.538438  177.263623  222.256933  155.687893"
      ]
     },
     "execution_count": 7,
     "metadata": {},
     "output_type": "execute_result"
    }
   ],
   "source": [
    "df_height.groupby(by='Gender').agg(['mean', 'median', 'max', 'min'])"
   ]
  },
  {
   "cell_type": "markdown",
   "id": "87673279-c6e7-4dac-921e-626c5013e58b",
   "metadata": {},
   "source": [
    "On peut essayer d'afficher les données du DataFrame qu'on vient de créer dans un graphique.  "
   ]
  },
  {
   "cell_type": "code",
   "execution_count": 6,
   "id": "303a4bbd-af30-4238-969a-96c78ad143c0",
   "metadata": {},
   "outputs": [
    {
     "data": {
      "text/plain": [
       "Text(0.5, 0, 'Height (in centimeters)')"
      ]
     },
     "execution_count": 6,
     "metadata": {},
     "output_type": "execute_result"
    },
    {
     "data": {
      "image/png": "[encoded data removed]",
      "text/plain": [
       "<Figure size 576x576 with 1 Axes>"
      ]
     },
     "metadata": {
      "needs_background": "light"
     },
     "output_type": "display_data"
    }
   ],
   "source": [
    "%matplotlib inline\n",
    "import matplotlib.pyplot as plt\n",
    "fig, ax = plt.subplots(1, 1, figsize=(8, 8))\n",
    "df_height[df_height['Gender'] == 1]['Height'].plot (\n",
    "                                             label='Female', kind='hist', alpha=0.7, ax=ax )\n",
    "\n",
    "df_height[df_height['Gender'] == 2]['Height'].plot (\n",
    "                                             label='Male', kind='hist', alpha=0.7, ax=ax )\n",
    "ax.legend()\n",
    "ax.set_title('Height Distribution')\n",
    "ax.set_xlabel('Height (in centimeters)')\n"
   ]
  },
  {
   "cell_type": "markdown",
   "id": "07debbf8-a8ea-4a69-ab48-7307d6225d0c",
   "metadata": {},
   "source": [
    "## Division des données en training et test\n",
    "\n",
    "- diviser le DataFrame en training et test (proportion 70% / 30%) à l'aide de l'opération ***train_test_split***\n",
    "- afficher les premières lignes du dataset de training à l'aide de l'opération ***head***\n",
    "- séparer les *features* et *target* des datasets training et test. Par exemple : \n",
    "> x_train = df_train [['Gender']]\n",
    "- afficher trois lignes aléatoires du dataset ***x_train*** à l'aide de l'opération ***sample***.  \n"
   ]
  },
  {
   "cell_type": "code",
   "execution_count": 8,
   "id": "a3534923-350c-4d85-8f42-4bc434062b48",
   "metadata": {},
   "outputs": [
    {
     "name": "stdout",
     "output_type": "stream",
     "text": [
      "Train: (560, 2) Test: (240, 2)\n"
     ]
    },
    {
     "data": {
      "text/html": [
       "<div>\n",
       "<style scoped>\n",
       "    .dataframe tbody tr th:only-of-type {\n",
       "        vertical-align: middle;\n",
       "    }\n",
       "\n",
       "    .dataframe tbody tr th {\n",
       "        vertical-align: top;\n",
       "    }\n",
       "\n",
       "    .dataframe thead th {\n",
       "        text-align: right;\n",
       "    }\n",
       "</style>\n",
       "<table border=\"1\" class=\"dataframe\">\n",
       "  <thead>\n",
       "    <tr style=\"text-align: right;\">\n",
       "      <th></th>\n",
       "      <th>Gender</th>\n",
       "      <th>Height</th>\n",
       "    </tr>\n",
       "  </thead>\n",
       "  <tbody>\n",
       "    <tr>\n",
       "      <th>455</th>\n",
       "      <td>2</td>\n",
       "      <td>176.624006</td>\n",
       "    </tr>\n",
       "    <tr>\n",
       "      <th>343</th>\n",
       "      <td>1</td>\n",
       "      <td>168.497487</td>\n",
       "    </tr>\n",
       "    <tr>\n",
       "      <th>411</th>\n",
       "      <td>2</td>\n",
       "      <td>166.628374</td>\n",
       "    </tr>\n",
       "    <tr>\n",
       "      <th>60</th>\n",
       "      <td>1</td>\n",
       "      <td>149.467656</td>\n",
       "    </tr>\n",
       "    <tr>\n",
       "      <th>624</th>\n",
       "      <td>2</td>\n",
       "      <td>192.879260</td>\n",
       "    </tr>\n",
       "  </tbody>\n",
       "</table>\n",
       "</div>"
      ],
      "text/plain": [
       "     Gender      Height\n",
       "455       2  176.624006\n",
       "343       1  168.497487\n",
       "411       2  166.628374\n",
       "60        1  149.467656\n",
       "624       2  192.879260"
      ]
     },
     "execution_count": 8,
     "metadata": {},
     "output_type": "execute_result"
    }
   ],
   "source": [
    "from sklearn.model_selection import train_test_split \n",
    "\n",
    "df_train, df_test = train_test_split( df_height, test_size=0.3) \n",
    "\n",
    "print ('Train:', df_train.shape, 'Test:', df_test.shape)\n",
    "\n",
    "df_train.head()"
   ]
  },
  {
   "cell_type": "code",
   "execution_count": 9,
   "id": "ff50cdf8-3595-4eb2-b2d9-9935fd03adfb",
   "metadata": {},
   "outputs": [
    {
     "data": {
      "text/html": [
       "<div>\n",
       "<style scoped>\n",
       "    .dataframe tbody tr th:only-of-type {\n",
       "        vertical-align: middle;\n",
       "    }\n",
       "\n",
       "    .dataframe tbody tr th {\n",
       "        vertical-align: top;\n",
       "    }\n",
       "\n",
       "    .dataframe thead th {\n",
       "        text-align: right;\n",
       "    }\n",
       "</style>\n",
       "<table border=\"1\" class=\"dataframe\">\n",
       "  <thead>\n",
       "    <tr style=\"text-align: right;\">\n",
       "      <th></th>\n",
       "      <th>Gender</th>\n",
       "    </tr>\n",
       "  </thead>\n",
       "  <tbody>\n",
       "    <tr>\n",
       "      <th>514</th>\n",
       "      <td>2</td>\n",
       "    </tr>\n",
       "    <tr>\n",
       "      <th>293</th>\n",
       "      <td>1</td>\n",
       "    </tr>\n",
       "    <tr>\n",
       "      <th>708</th>\n",
       "      <td>2</td>\n",
       "    </tr>\n",
       "  </tbody>\n",
       "</table>\n",
       "</div>"
      ],
      "text/plain": [
       "     Gender\n",
       "514       2\n",
       "293       1\n",
       "708       2"
      ]
     },
     "execution_count": 9,
     "metadata": {},
     "output_type": "execute_result"
    }
   ],
   "source": [
    "x_train = df_train [['Gender']]\n",
    "y_train = df_train [['Height']]\n",
    "\n",
    "x_train.sample(3)"
   ]
  },
  {
   "cell_type": "markdown",
   "id": "c4c89c53-bceb-4af7-be79-221f9d4357f7",
   "metadata": {},
   "source": [
    "## Créer et entrainer le modèle\n",
    "\n",
    "Une fois les datasets training et test préparés, on va pouvoir entrainer et tester le modèle.\n",
    "\n",
    "- créer deux modèles d'arbres de régression, un avec le critère ***mae*** et l'autre avec le critère ***mse***.\n",
    "- entrainer les deux modèles avec les données de training. \n",
    "- afficher la profondeur de deux arbres créées avec l'opération ***get_depth()***\n",
    "- visualiser les deux arbres crées"
   ]
  },
  {
   "cell_type": "code",
   "execution_count": 10,
   "id": "ecce0bd7-cd1b-43ae-9a48-c6449a0b2fbe",
   "metadata": {},
   "outputs": [
    {
     "data": {
      "text/plain": [
       "DecisionTreeRegressor(criterion='mae')"
      ]
     },
     "execution_count": 10,
     "metadata": {},
     "output_type": "execute_result"
    }
   ],
   "source": [
    "from sklearn.tree import DecisionTreeRegressor\n",
    "\n",
    "rgmae = DecisionTreeRegressor(criterion='mae')\n",
    "rgmse = DecisionTreeRegressor(criterion='mse')\n",
    "\n",
    "rgmse.fit(x_train, y_train)\n",
    "rgmae.fit(x_train, y_train)"
   ]
  },
  {
   "cell_type": "code",
   "execution_count": 11,
   "id": "9e993fed-5d78-4d39-b50e-5ddbb9f65ed8",
   "metadata": {},
   "outputs": [
    {
     "name": "stdout",
     "output_type": "stream",
     "text": [
      "Depth MAE :  1 MSE : 1\n",
      "Tree MAE \n",
      "|--- feature_0 <= 1.50\n",
      "|   |--- value: [157.37]\n",
      "|--- feature_0 >  1.50\n",
      "|   |--- value: [177.04]\n",
      "\n",
      "Tree MSE \n",
      "|--- feature_0 <= 1.50\n",
      "|   |--- value: [160.18]\n",
      "|--- feature_0 >  1.50\n",
      "|   |--- value: [179.28]\n",
      "\n"
     ]
    }
   ],
   "source": [
    "from sklearn.tree import export_text\n",
    "\n",
    "print ('Depth MAE : ', rgmae.get_depth(), 'MSE :', rgmse.get_depth())\n",
    "\n",
    "print ('Tree MAE ')\n",
    "print (export_text(rgmae))\n",
    "\n",
    "print ('Tree MSE ')\n",
    "print (export_text(rgmse))\n"
   ]
  },
  {
   "cell_type": "markdown",
   "id": "3006d8c5-38da-46b4-9628-10bd7bd9778e",
   "metadata": {},
   "source": [
    "On peut également les visualiser sous forme graphique."
   ]
  },
  {
   "cell_type": "code",
   "execution_count": 12,
   "id": "f8fd8e98-b3d5-4060-9f28-63efca54570b",
   "metadata": {},
   "outputs": [
    {
     "data": {
      "text/plain": [
       "[Text(152.1818181818182, 326.15999999999997, 'Gender <= 1.5\\nmse = 211.787\\nsamples = 560\\nvalue = 169.46'),\n",
       " Text(76.0909090909091, 108.72000000000003, 'mse = 149.062\\nsamples = 288\\nvalue = 160.184'),\n",
       " Text(228.27272727272728, 108.72000000000003, 'mse = 90.623\\nsamples = 272\\nvalue = 179.282')]"
      ]
     },
     "execution_count": 12,
     "metadata": {},
     "output_type": "execute_result"
    },
    {
     "data": {
      "image/png": "[encoded data removed]",
      "text/plain": [
       "<Figure size 864x576 with 2 Axes>"
      ]
     },
     "metadata": {
      "needs_background": "light"
     },
     "output_type": "display_data"
    }
   ],
   "source": [
    "import matplotlib.pyplot as plt\n",
    "from sklearn.tree import plot_tree\n",
    "\n",
    "%matplotlib inline\n",
    "fig, axs = plt.subplots(1, 2, figsize=(12, 8))\n",
    "\n",
    "plot_tree(rgmae, feature_names=['Gender'], fontsize=8, ax=axs[0] )\n",
    "plot_tree(rgmse, feature_names=['Gender'], fontsize=8, ax=axs[1] )"
   ]
  },
  {
   "cell_type": "markdown",
   "id": "3d128f09-725c-40c3-b2b6-0bbc2eb4901c",
   "metadata": {},
   "source": [
    "## Evaluer le modèle\n",
    "\n",
    "- utiliser les données de tests avec les deux arbres qu'on vient d'entrainer\n",
    "- afficher les 5 premières données de prévision obtenus avec les arbres (utiliser le *slice* **[0:5]**)\n",
    "- utiliser les mesures d'évaluation ***mean_squared_error*** et ***mean_absolute_error*** (sur laquelle on va appliquer la fonction ***sqrt*** de la bibliothèque ***math***) pour évaluer les deux arbres \n",
    "- afficher les résultats obtenus dans les évaluations. "
   ]
  },
  {
   "cell_type": "code",
   "execution_count": 13,
   "id": "b3e8cd1d-0247-4463-bb55-bf6f79abee2a",
   "metadata": {},
   "outputs": [
    {
     "name": "stdout",
     "output_type": "stream",
     "text": [
      "[157.37398201 177.04156854 157.37398201 177.04156854 177.04156854]\n",
      "[160.18361315 179.28174163 160.18361315 179.28174163 179.28174163]\n",
      "148    155.397127\n",
      "637    188.308010\n",
      "215    178.595210\n",
      "602    177.346255\n",
      "705    185.409989\n",
      "Name: Height, dtype: float64\n"
     ]
    }
   ],
   "source": [
    "y_pred_mae = rgmae.predict(df_test[['Gender']])\n",
    "y_pred_mse = rgmse.predict(df_test[['Gender']])\n",
    "\n",
    "print (y_pred_mae[0:5])\n",
    "print (y_pred_mse[0:5])\n",
    "print (df_test['Height'].head(5))"
   ]
  },
  {
   "cell_type": "code",
   "execution_count": 14,
   "id": "88503cb6-c16e-45a6-946d-36c4567b74b8",
   "metadata": {},
   "outputs": [
    {
     "name": "stdout",
     "output_type": "stream",
     "text": [
      "Arbre critère   MAE     MSE \n",
      "        MSE :  119.462 114.663\n",
      "        MAE : 7.981 8.271\n",
      "       RMSE : 10.93 10.708\n"
     ]
    }
   ],
   "source": [
    "from sklearn.metrics import mean_squared_error, mean_absolute_error\n",
    "from math import sqrt\n",
    "\n",
    "mse_Tmae = mean_squared_error(df_test['Height'], y_pred_mae) \n",
    "mae_Tmae = mean_absolute_error(df_test['Height'], y_pred_mae)\n",
    "rmse_Tmae = sqrt(mse_Tmae)\n",
    "\n",
    "mse_Tmse = mean_squared_error(df_test['Height'], y_pred_mse) \n",
    "mae_Tmse = mean_absolute_error(df_test['Height'], y_pred_mse)\n",
    "rmse_Tmse = sqrt(mse_Tmse)\n",
    "\n",
    "print (\"Arbre critère   MAE     MSE \")\n",
    "print (\"        MSE : \", round(mse_Tmae, 3), round(mse_Tmse, 3))\n",
    "print (\"        MAE :\", round(mae_Tmae,3), round(mae_Tmse,3) )\n",
    "print (\"       RMSE :\", round(rmse_Tmae,3) , round(rmse_Tmse,3))\n"
   ]
  },
  {
   "cell_type": "code",
   "execution_count": null,
   "id": "c2d09ca6-8ac7-49cc-b3ac-e9972d9ffa1f",
   "metadata": {},
   "outputs": [],
   "source": []
  }
 ],
 "metadata": {
  "kernelspec": {
   "display_name": "Python 3",
   "language": "python",
   "name": "python3"
  },
  "language_info": {
   "codemirror_mode": {
    "name": "ipython",
    "version": 3
   },
   "file_extension": ".py",
   "mimetype": "text/x-python",
   "name": "python",
   "nbconvert_exporter": "python",
   "pygments_lexer": "ipython3",
   "version": "3.8.8"
  }
 },
 "nbformat": 4,
 "nbformat_minor": 5
}
