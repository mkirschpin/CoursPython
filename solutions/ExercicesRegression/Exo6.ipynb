{
 "cells": [
  {
   "cell_type": "markdown",
   "id": "c9a9ecd6-c80c-4889-8cea-587a163be9d0",
   "metadata": {},
   "source": [
    "# Exercice Régression Linéaire\n",
    "\n",
    "Pour notre premier exercice de régression linéaire, on va créer un modèle simple qui prévoit la température à partir de l'humidité. \n",
    "\n",
    "## Lecture des données\n",
    "\n",
    "On commence par lire les données à partir d'un fichier. \n",
    "\n",
    "- lire le fichier \"*weather.csv*\" (disponible sur [http://www.kirschpm.fr/cours/PythonDataScience/files/](http://www.kirschpm.fr/cours/PythonDataScience/files/weather.csv) ) avec l'opération ***read_csv***\n",
    "- afficher les informations sur le DataFrame créé (opération ***info***)\n",
    "- affichier les premières lignes du DataFrame (opération ***head***)\n"
   ]
  },
  {
   "cell_type": "code",
   "execution_count": 1,
   "id": "c53b0d8e-50ee-4d0e-97aa-e34f24f52030",
   "metadata": {},
   "outputs": [
    {
     "name": "stdout",
     "output_type": "stream",
     "text": [
      "<class 'pandas.core.frame.DataFrame'>\n",
      "RangeIndex: 10000 entries, 0 to 9999\n",
      "Data columns (total 8 columns):\n",
      " #   Column                Non-Null Count  Dtype  \n",
      "---  ------                --------------  -----  \n",
      " 0   Temperature_c         10000 non-null  float64\n",
      " 1   Humidity              10000 non-null  float64\n",
      " 2   Wind_Speed_kmh        10000 non-null  float64\n",
      " 3   Wind_Bearing_degrees  10000 non-null  int64  \n",
      " 4   Visibility_km         10000 non-null  float64\n",
      " 5   Pressure_millibars    10000 non-null  float64\n",
      " 6   Rain                  10000 non-null  int64  \n",
      " 7   Description           10000 non-null  object \n",
      "dtypes: float64(5), int64(2), object(1)\n",
      "memory usage: 625.1+ KB\n"
     ]
    }
   ],
   "source": [
    "import pandas as pnd\n",
    "\n",
    "df_weather = pnd.read_csv('http://www.kirschpm.fr/cours/PythonDataScience/files/weather.csv')\n",
    "\n",
    "df_weather.info()"
   ]
  },
  {
   "cell_type": "code",
   "execution_count": 2,
   "id": "7a5d10ac-d0eb-41e0-adee-f4915b8a2397",
   "metadata": {},
   "outputs": [
    {
     "data": {
      "text/html": [
       "<div>\n",
       "<style scoped>\n",
       "    .dataframe tbody tr th:only-of-type {\n",
       "        vertical-align: middle;\n",
       "    }\n",
       "\n",
       "    .dataframe tbody tr th {\n",
       "        vertical-align: top;\n",
       "    }\n",
       "\n",
       "    .dataframe thead th {\n",
       "        text-align: right;\n",
       "    }\n",
       "</style>\n",
       "<table border=\"1\" class=\"dataframe\">\n",
       "  <thead>\n",
       "    <tr style=\"text-align: right;\">\n",
       "      <th></th>\n",
       "      <th>Temperature_c</th>\n",
       "      <th>Humidity</th>\n",
       "      <th>Wind_Speed_kmh</th>\n",
       "      <th>Wind_Bearing_degrees</th>\n",
       "      <th>Visibility_km</th>\n",
       "      <th>Pressure_millibars</th>\n",
       "      <th>Rain</th>\n",
       "      <th>Description</th>\n",
       "    </tr>\n",
       "  </thead>\n",
       "  <tbody>\n",
       "    <tr>\n",
       "      <th>0</th>\n",
       "      <td>-0.555556</td>\n",
       "      <td>0.92</td>\n",
       "      <td>11.2700</td>\n",
       "      <td>130</td>\n",
       "      <td>8.0500</td>\n",
       "      <td>1021.60</td>\n",
       "      <td>0</td>\n",
       "      <td>Cold</td>\n",
       "    </tr>\n",
       "    <tr>\n",
       "      <th>1</th>\n",
       "      <td>21.111111</td>\n",
       "      <td>0.73</td>\n",
       "      <td>20.9300</td>\n",
       "      <td>330</td>\n",
       "      <td>16.1000</td>\n",
       "      <td>1017.00</td>\n",
       "      <td>1</td>\n",
       "      <td>Warm</td>\n",
       "    </tr>\n",
       "    <tr>\n",
       "      <th>2</th>\n",
       "      <td>16.600000</td>\n",
       "      <td>0.97</td>\n",
       "      <td>5.9731</td>\n",
       "      <td>193</td>\n",
       "      <td>14.9086</td>\n",
       "      <td>1013.99</td>\n",
       "      <td>1</td>\n",
       "      <td>Normal</td>\n",
       "    </tr>\n",
       "    <tr>\n",
       "      <th>3</th>\n",
       "      <td>1.600000</td>\n",
       "      <td>0.82</td>\n",
       "      <td>3.2200</td>\n",
       "      <td>300</td>\n",
       "      <td>16.1000</td>\n",
       "      <td>1031.59</td>\n",
       "      <td>1</td>\n",
       "      <td>Cold</td>\n",
       "    </tr>\n",
       "    <tr>\n",
       "      <th>4</th>\n",
       "      <td>2.194444</td>\n",
       "      <td>0.60</td>\n",
       "      <td>10.8836</td>\n",
       "      <td>116</td>\n",
       "      <td>9.9820</td>\n",
       "      <td>1020.88</td>\n",
       "      <td>1</td>\n",
       "      <td>Cold</td>\n",
       "    </tr>\n",
       "  </tbody>\n",
       "</table>\n",
       "</div>"
      ],
      "text/plain": [
       "   Temperature_c  Humidity  Wind_Speed_kmh  Wind_Bearing_degrees  \\\n",
       "0      -0.555556      0.92         11.2700                   130   \n",
       "1      21.111111      0.73         20.9300                   330   \n",
       "2      16.600000      0.97          5.9731                   193   \n",
       "3       1.600000      0.82          3.2200                   300   \n",
       "4       2.194444      0.60         10.8836                   116   \n",
       "\n",
       "   Visibility_km  Pressure_millibars  Rain Description  \n",
       "0         8.0500             1021.60     0        Cold  \n",
       "1        16.1000             1017.00     1        Warm  \n",
       "2        14.9086             1013.99     1      Normal  \n",
       "3        16.1000             1031.59     1        Cold  \n",
       "4         9.9820             1020.88     1        Cold  "
      ]
     },
     "execution_count": 2,
     "metadata": {},
     "output_type": "execute_result"
    }
   ],
   "source": [
    "df_weather.head()"
   ]
  },
  {
   "cell_type": "code",
   "execution_count": 3,
   "id": "95a40957-3857-47e3-8153-b59fbbbb7979",
   "metadata": {},
   "outputs": [
    {
     "name": "stdout",
     "output_type": "stream",
     "text": [
      "(6700, 8) (3300, 8)\n"
     ]
    },
    {
     "data": {
      "text/html": [
       "<div>\n",
       "<style scoped>\n",
       "    .dataframe tbody tr th:only-of-type {\n",
       "        vertical-align: middle;\n",
       "    }\n",
       "\n",
       "    .dataframe tbody tr th {\n",
       "        vertical-align: top;\n",
       "    }\n",
       "\n",
       "    .dataframe thead th {\n",
       "        text-align: right;\n",
       "    }\n",
       "</style>\n",
       "<table border=\"1\" class=\"dataframe\">\n",
       "  <thead>\n",
       "    <tr style=\"text-align: right;\">\n",
       "      <th></th>\n",
       "      <th>Temperature_c</th>\n",
       "      <th>Humidity</th>\n",
       "      <th>Wind_Speed_kmh</th>\n",
       "      <th>Wind_Bearing_degrees</th>\n",
       "      <th>Visibility_km</th>\n",
       "      <th>Pressure_millibars</th>\n",
       "      <th>Rain</th>\n",
       "      <th>Description</th>\n",
       "    </tr>\n",
       "  </thead>\n",
       "  <tbody>\n",
       "    <tr>\n",
       "      <th>8371</th>\n",
       "      <td>11.044444</td>\n",
       "      <td>0.67</td>\n",
       "      <td>15.1984</td>\n",
       "      <td>149</td>\n",
       "      <td>9.9820</td>\n",
       "      <td>1026.72</td>\n",
       "      <td>1</td>\n",
       "      <td>Normal</td>\n",
       "    </tr>\n",
       "    <tr>\n",
       "      <th>5027</th>\n",
       "      <td>23.961111</td>\n",
       "      <td>0.47</td>\n",
       "      <td>8.3076</td>\n",
       "      <td>142</td>\n",
       "      <td>9.9820</td>\n",
       "      <td>1018.97</td>\n",
       "      <td>1</td>\n",
       "      <td>Warm</td>\n",
       "    </tr>\n",
       "    <tr>\n",
       "      <th>9234</th>\n",
       "      <td>-1.250000</td>\n",
       "      <td>0.92</td>\n",
       "      <td>10.9641</td>\n",
       "      <td>202</td>\n",
       "      <td>4.0089</td>\n",
       "      <td>1032.08</td>\n",
       "      <td>0</td>\n",
       "      <td>Cold</td>\n",
       "    </tr>\n",
       "    <tr>\n",
       "      <th>3944</th>\n",
       "      <td>12.222222</td>\n",
       "      <td>0.47</td>\n",
       "      <td>20.3021</td>\n",
       "      <td>271</td>\n",
       "      <td>10.2557</td>\n",
       "      <td>1014.61</td>\n",
       "      <td>1</td>\n",
       "      <td>Normal</td>\n",
       "    </tr>\n",
       "    <tr>\n",
       "      <th>6862</th>\n",
       "      <td>-1.227778</td>\n",
       "      <td>1.00</td>\n",
       "      <td>7.8890</td>\n",
       "      <td>102</td>\n",
       "      <td>2.9624</td>\n",
       "      <td>1019.31</td>\n",
       "      <td>0</td>\n",
       "      <td>Cold</td>\n",
       "    </tr>\n",
       "  </tbody>\n",
       "</table>\n",
       "</div>"
      ],
      "text/plain": [
       "      Temperature_c  Humidity  Wind_Speed_kmh  Wind_Bearing_degrees  \\\n",
       "8371      11.044444      0.67         15.1984                   149   \n",
       "5027      23.961111      0.47          8.3076                   142   \n",
       "9234      -1.250000      0.92         10.9641                   202   \n",
       "3944      12.222222      0.47         20.3021                   271   \n",
       "6862      -1.227778      1.00          7.8890                   102   \n",
       "\n",
       "      Visibility_km  Pressure_millibars  Rain Description  \n",
       "8371         9.9820             1026.72     1      Normal  \n",
       "5027         9.9820             1018.97     1        Warm  \n",
       "9234         4.0089             1032.08     0        Cold  \n",
       "3944        10.2557             1014.61     1      Normal  \n",
       "6862         2.9624             1019.31     0        Cold  "
      ]
     },
     "execution_count": 3,
     "metadata": {},
     "output_type": "execute_result"
    }
   ],
   "source": [
    "from sklearn.model_selection import train_test_split\n",
    "\n",
    "df_train, df_test = train_test_split (df_weather, test_size=0.33, random_state=42)\n",
    "\n",
    "print (df_train.shape, df_test.shape)\n",
    "df_train.head(5)"
   ]
  },
  {
   "cell_type": "markdown",
   "id": "fdde90b9-5b66-4348-9217-b6a6a03146f2",
   "metadata": {},
   "source": [
    "## Séparer les données de training et de test\n",
    "\n",
    "On va utiliser une seule **feature** (***Humidity***) pour trouver notre **target** (***Temperature_c***). \n",
    "\n",
    "- créer deux listes, une contenant les noms des colonnes features, et une pour le nom de colonne target\n",
    "- A partir des données de *training* (***df_train***), créer un DataFrame ***x_train*** avec les valeurs des features et un DataFrame ***y_train*** avec les valeurs de target\n",
    "- Faire la même chose pour les données de test (créer un ***x_test*** et un ***y_test*** à partir de ***df_test***). \n"
   ]
  },
  {
   "cell_type": "code",
   "execution_count": 4,
   "id": "d09c0f19-4aab-4432-aa7a-69b93d937563",
   "metadata": {},
   "outputs": [],
   "source": [
    "feature_names = ['Humidity']\n",
    "target = ['Temperature_c'] "
   ]
  },
  {
   "cell_type": "code",
   "execution_count": 5,
   "id": "f64a964a-2ab8-4f33-9979-78cf59fe89d3",
   "metadata": {},
   "outputs": [
    {
     "data": {
      "text/html": [
       "<div>\n",
       "<style scoped>\n",
       "    .dataframe tbody tr th:only-of-type {\n",
       "        vertical-align: middle;\n",
       "    }\n",
       "\n",
       "    .dataframe tbody tr th {\n",
       "        vertical-align: top;\n",
       "    }\n",
       "\n",
       "    .dataframe thead th {\n",
       "        text-align: right;\n",
       "    }\n",
       "</style>\n",
       "<table border=\"1\" class=\"dataframe\">\n",
       "  <thead>\n",
       "    <tr style=\"text-align: right;\">\n",
       "      <th></th>\n",
       "      <th>Humidity</th>\n",
       "    </tr>\n",
       "  </thead>\n",
       "  <tbody>\n",
       "    <tr>\n",
       "      <th>count</th>\n",
       "      <td>6700.000000</td>\n",
       "    </tr>\n",
       "    <tr>\n",
       "      <th>mean</th>\n",
       "      <td>0.734115</td>\n",
       "    </tr>\n",
       "    <tr>\n",
       "      <th>std</th>\n",
       "      <td>0.196582</td>\n",
       "    </tr>\n",
       "    <tr>\n",
       "      <th>min</th>\n",
       "      <td>0.000000</td>\n",
       "    </tr>\n",
       "    <tr>\n",
       "      <th>25%</th>\n",
       "      <td>0.600000</td>\n",
       "    </tr>\n",
       "    <tr>\n",
       "      <th>50%</th>\n",
       "      <td>0.780000</td>\n",
       "    </tr>\n",
       "    <tr>\n",
       "      <th>75%</th>\n",
       "      <td>0.900000</td>\n",
       "    </tr>\n",
       "    <tr>\n",
       "      <th>max</th>\n",
       "      <td>1.000000</td>\n",
       "    </tr>\n",
       "  </tbody>\n",
       "</table>\n",
       "</div>"
      ],
      "text/plain": [
       "          Humidity\n",
       "count  6700.000000\n",
       "mean      0.734115\n",
       "std       0.196582\n",
       "min       0.000000\n",
       "25%       0.600000\n",
       "50%       0.780000\n",
       "75%       0.900000\n",
       "max       1.000000"
      ]
     },
     "execution_count": 5,
     "metadata": {},
     "output_type": "execute_result"
    }
   ],
   "source": [
    "x_train = df_train[feature_names]\n",
    "y_train = df_train[target]\n",
    "\n",
    "x_train.describe()"
   ]
  },
  {
   "cell_type": "code",
   "execution_count": 6,
   "id": "57127f19-c6de-4fd6-a169-3a59760d2c19",
   "metadata": {},
   "outputs": [
    {
     "data": {
      "text/html": [
       "<div>\n",
       "<style scoped>\n",
       "    .dataframe tbody tr th:only-of-type {\n",
       "        vertical-align: middle;\n",
       "    }\n",
       "\n",
       "    .dataframe tbody tr th {\n",
       "        vertical-align: top;\n",
       "    }\n",
       "\n",
       "    .dataframe thead th {\n",
       "        text-align: right;\n",
       "    }\n",
       "</style>\n",
       "<table border=\"1\" class=\"dataframe\">\n",
       "  <thead>\n",
       "    <tr style=\"text-align: right;\">\n",
       "      <th></th>\n",
       "      <th>Humidity</th>\n",
       "    </tr>\n",
       "  </thead>\n",
       "  <tbody>\n",
       "    <tr>\n",
       "      <th>count</th>\n",
       "      <td>3300.000000</td>\n",
       "    </tr>\n",
       "    <tr>\n",
       "      <th>mean</th>\n",
       "      <td>0.737621</td>\n",
       "    </tr>\n",
       "    <tr>\n",
       "      <th>std</th>\n",
       "      <td>0.193286</td>\n",
       "    </tr>\n",
       "    <tr>\n",
       "      <th>min</th>\n",
       "      <td>0.150000</td>\n",
       "    </tr>\n",
       "    <tr>\n",
       "      <th>25%</th>\n",
       "      <td>0.610000</td>\n",
       "    </tr>\n",
       "    <tr>\n",
       "      <th>50%</th>\n",
       "      <td>0.780000</td>\n",
       "    </tr>\n",
       "    <tr>\n",
       "      <th>75%</th>\n",
       "      <td>0.890000</td>\n",
       "    </tr>\n",
       "    <tr>\n",
       "      <th>max</th>\n",
       "      <td>1.000000</td>\n",
       "    </tr>\n",
       "  </tbody>\n",
       "</table>\n",
       "</div>"
      ],
      "text/plain": [
       "          Humidity\n",
       "count  3300.000000\n",
       "mean      0.737621\n",
       "std       0.193286\n",
       "min       0.150000\n",
       "25%       0.610000\n",
       "50%       0.780000\n",
       "75%       0.890000\n",
       "max       1.000000"
      ]
     },
     "execution_count": 6,
     "metadata": {},
     "output_type": "execute_result"
    }
   ],
   "source": [
    "x_test = df_test[feature_names]\n",
    "y_test = df_test[target]\n",
    "\n",
    "x_test.describe()"
   ]
  },
  {
   "cell_type": "markdown",
   "id": "060d1457-29e8-4466-bc43-b70c6e5e717d",
   "metadata": {},
   "source": [
    "## Entrainer le modèle\n",
    "\n",
    "- Créer un nouveau modèle de **régression linéaire**  \n",
    "- Entrainer le modèle avec les données de test\n",
    "- Observer les valeurs des attributs ***intercept_*** et ***coef_***"
   ]
  },
  {
   "cell_type": "code",
   "execution_count": 7,
   "id": "64185722-86e1-40a9-8190-a4c1be3eb803",
   "metadata": {},
   "outputs": [
    {
     "data": {
      "text/plain": [
       "LinearRegression()"
      ]
     },
     "execution_count": 7,
     "metadata": {},
     "output_type": "execute_result"
    }
   ],
   "source": [
    "from sklearn.linear_model import LinearRegression\n",
    "\n",
    "model = LinearRegression()\n",
    "\n",
    "model.fit(x_train, y_train)"
   ]
  },
  {
   "cell_type": "code",
   "execution_count": 10,
   "id": "783ed552-6b52-42cb-b98d-8b546c9f3ea3",
   "metadata": {},
   "outputs": [
    {
     "name": "stdout",
     "output_type": "stream",
     "text": [
      "intercept : [34.57484017] Coefficients : [[-30.88864271]]\n",
      "Formule :\n",
      "Temperature =  [34.57484017] + [-30.88864271] x Humidity\n"
     ]
    }
   ],
   "source": [
    "intercept = model.intercept_\n",
    "coeffs = model.coef_\n",
    "\n",
    "print ('intercept :', intercept, 'Coefficients :', coeffs)\n",
    "\n",
    "print ('Formule :')\n",
    "print('Temperature = ', intercept, '+' ,  coeffs[0], 'x Humidity')"
   ]
  },
  {
   "cell_type": "markdown",
   "id": "453ba034-94ea-483a-bfee-b7a7555fb2bf",
   "metadata": {},
   "source": [
    "## Tester le modèle\n",
    "\n",
    "Une fois créé et entrainé, il faut désormais tester le modèle afin d'évaluer sa performance. \n",
    "\n",
    "- Tester le modèle avec les données de test\n",
    "- Visualiser les données prédites et atttendues"
   ]
  },
  {
   "cell_type": "code",
   "execution_count": 12,
   "id": "d1a943c6-aa39-4db3-a43c-99304196ab08",
   "metadata": {},
   "outputs": [],
   "source": [
    "y_pred = model.predict(x_test)"
   ]
  },
  {
   "cell_type": "code",
   "execution_count": 17,
   "id": "55968bbc-2536-4b0f-a554-599936fd6af7",
   "metadata": {},
   "outputs": [
    {
     "data": {
      "text/html": [
       "<div>\n",
       "<style scoped>\n",
       "    .dataframe tbody tr th:only-of-type {\n",
       "        vertical-align: middle;\n",
       "    }\n",
       "\n",
       "    .dataframe tbody tr th {\n",
       "        vertical-align: top;\n",
       "    }\n",
       "\n",
       "    .dataframe thead th {\n",
       "        text-align: right;\n",
       "    }\n",
       "</style>\n",
       "<table border=\"1\" class=\"dataframe\">\n",
       "  <thead>\n",
       "    <tr style=\"text-align: right;\">\n",
       "      <th></th>\n",
       "      <th>Expected</th>\n",
       "      <th>Predicted</th>\n",
       "      <th>Humidity</th>\n",
       "    </tr>\n",
       "  </thead>\n",
       "  <tbody>\n",
       "    <tr>\n",
       "      <th>6252</th>\n",
       "      <td>-2.727778</td>\n",
       "      <td>18.821632</td>\n",
       "      <td>0.51</td>\n",
       "    </tr>\n",
       "    <tr>\n",
       "      <th>4684</th>\n",
       "      <td>11.094444</td>\n",
       "      <td>8.010607</td>\n",
       "      <td>0.86</td>\n",
       "    </tr>\n",
       "    <tr>\n",
       "      <th>1731</th>\n",
       "      <td>1.122222</td>\n",
       "      <td>7.392835</td>\n",
       "      <td>0.88</td>\n",
       "    </tr>\n",
       "    <tr>\n",
       "      <th>4742</th>\n",
       "      <td>-2.850000</td>\n",
       "      <td>14.806109</td>\n",
       "      <td>0.64</td>\n",
       "    </tr>\n",
       "    <tr>\n",
       "      <th>4521</th>\n",
       "      <td>7.777778</td>\n",
       "      <td>4.921743</td>\n",
       "      <td>0.96</td>\n",
       "    </tr>\n",
       "  </tbody>\n",
       "</table>\n",
       "</div>"
      ],
      "text/plain": [
       "       Expected  Predicted  Humidity\n",
       "6252  -2.727778  18.821632      0.51\n",
       "4684  11.094444   8.010607      0.86\n",
       "1731   1.122222   7.392835      0.88\n",
       "4742  -2.850000  14.806109      0.64\n",
       "4521   7.777778   4.921743      0.96"
      ]
     },
     "execution_count": 17,
     "metadata": {},
     "output_type": "execute_result"
    }
   ],
   "source": [
    "visu = pnd.DataFrame(y_test[target])\n",
    "visu['Predicted'] = y_pred\n",
    "visu['Humidity'] = x_test[feature_names]\n",
    "visu.rename(columns={'Temperature_c':'Expected'}, inplace=True)\n",
    "visu.head()"
   ]
  },
  {
   "cell_type": "code",
   "execution_count": 18,
   "id": "c1c6a10c-62ff-4d16-bc79-75e9ef38520d",
   "metadata": {},
   "outputs": [
    {
     "data": {
      "text/plain": [
       "<AxesSubplot:title={'center':'Predicted'}, xlabel='Humidity'>"
      ]
     },
     "execution_count": 18,
     "metadata": {},
     "output_type": "execute_result"
    },
    {
     "data": {
      "image/png": "[encoded data removed]",
      "text/plain": [
       "<Figure size 1296x432 with 2 Axes>"
      ]
     },
     "metadata": {
      "needs_background": "light"
     },
     "output_type": "display_data"
    }
   ],
   "source": [
    "import matplotlib.pyplot as plt\n",
    "%matplotlib inline\n",
    "\n",
    "fig, axs = plt.subplots(1, 2, figsize=(18, 6))\n",
    "\n",
    "visu.plot.scatter(x='Expected', y='Predicted', title='Correlation', ax=axs[0])\n",
    "visu.set_index('Humidity')['Predicted'].plot(title='Predicted', kind='line', ax=axs[1])"
   ]
  },
  {
   "cell_type": "markdown",
   "id": "3d66f34d-55f5-48e8-8d99-8bb5f06d36cd",
   "metadata": {},
   "source": [
    "## Evaluer le modèle\n",
    "\n",
    "Afin évaluer le modèle, on va comparer les données obtenues (prévues) avec celles attendues à travers différentes métriques. \n",
    "\n",
    "- évaluer le modèle à l'aide des métriques MAE, MSE et RMSE\n",
    "- évaluer le modèle à l'aide de la métrique *explained variance*\n",
    "- afficher les résultats obtenues par ces métriques"
   ]
  },
  {
   "cell_type": "code",
   "execution_count": 20,
   "id": "2128dd32-32c9-4597-ab84-7a3e391db2b3",
   "metadata": {},
   "outputs": [
    {
     "name": "stdout",
     "output_type": "stream",
     "text": [
      "MAE=6.006\n",
      "RMSE=7.319 \t MSE=53.564 \n",
      "Explained Variance=0.385\n"
     ]
    }
   ],
   "source": [
    "from sklearn.metrics import mean_absolute_error, mean_squared_error, explained_variance_score\n",
    "from math import sqrt\n",
    "\n",
    "mae = mean_absolute_error(y_test, y_pred)\n",
    "mse = mean_squared_error(y_test, y_pred)\n",
    "rmse = sqrt(mse)\n",
    "\n",
    "expvar = explained_variance_score(y_test, y_pred)\n",
    "\n",
    "print ('MAE={:.3f}'.format(mae) )\n",
    "print ('RMSE={0:.3f} \\t MSE={1:.3f} '.format(rmse, mse) )\n",
    "print ('Explained Variance={:.3f}'.format(expvar) )"
   ]
  },
  {
   "cell_type": "markdown",
   "id": "10f66f25-995f-4eb1-8377-a2aa1fcb0ecc",
   "metadata": {},
   "source": [
    "# Exercice Régression Linéaire - variables multiples\n",
    "\n",
    "Maintenant qu'on maitrise les étapes pour la construction et l'évaluation du modèle, on peut l'améliorer en ajoutant des nouvelles variables (*features*) disponibles dans les données de base. \n"
   ]
  },
  {
   "cell_type": "code",
   "execution_count": 21,
   "id": "27819f92-42f8-447d-85ff-106f7b5060df",
   "metadata": {},
   "outputs": [
    {
     "name": "stdout",
     "output_type": "stream",
     "text": [
      "<class 'pandas.core.frame.DataFrame'>\n",
      "RangeIndex: 10000 entries, 0 to 9999\n",
      "Data columns (total 8 columns):\n",
      " #   Column                Non-Null Count  Dtype  \n",
      "---  ------                --------------  -----  \n",
      " 0   Temperature_c         10000 non-null  float64\n",
      " 1   Humidity              10000 non-null  float64\n",
      " 2   Wind_Speed_kmh        10000 non-null  float64\n",
      " 3   Wind_Bearing_degrees  10000 non-null  int64  \n",
      " 4   Visibility_km         10000 non-null  float64\n",
      " 5   Pressure_millibars    10000 non-null  float64\n",
      " 6   Rain                  10000 non-null  int64  \n",
      " 7   Description           10000 non-null  object \n",
      "dtypes: float64(5), int64(2), object(1)\n",
      "memory usage: 625.1+ KB\n"
     ]
    }
   ],
   "source": [
    "df_weather.info()"
   ]
  },
  {
   "cell_type": "markdown",
   "id": "4f205c15-0e1c-4ba9-86f6-2874cb98a102",
   "metadata": {},
   "source": [
    "## Encoding \n",
    "\n",
    "Les données contiennent une colonne de type ***object*** (autrement dit, qui ne contient pas des chiffres). Il faut donc la convertir en valeur numériques, ce qu'on appelle ***encoding***. \n",
    "\n",
    "Différents types d'encodeurs existent. On va utiliser un encodeur de type ***One Hot*** proposé par la classe ***DataFrame*** de la bibliothèque ***Pandas***. \n",
    "\n",
    "- afficher les catégories présentes dans la colonne \"*Description*\"\n",
    "- encoder ces catégories à l'aide de l'encodeur ***get_dummies***\n",
    "- afficher les premières lignes du DataFrame obtenu\n",
    "- afficher les informations sur ce DataFrame\n"
   ]
  },
  {
   "cell_type": "code",
   "execution_count": 22,
   "id": "af384397-421c-4a75-aecb-3eec70754f24",
   "metadata": {},
   "outputs": [
    {
     "data": {
      "text/plain": [
       "Description\n",
       "Normal    4992\n",
       "Warm      2507\n",
       "Cold      2501\n",
       "dtype: int64"
      ]
     },
     "execution_count": 22,
     "metadata": {},
     "output_type": "execute_result"
    }
   ],
   "source": [
    "df_weather.value_counts(df_weather['Description'])"
   ]
  },
  {
   "cell_type": "code",
   "execution_count": 52,
   "id": "960a687c-5342-417a-9898-716385f4121e",
   "metadata": {},
   "outputs": [
    {
     "data": {
      "text/html": [
       "<div>\n",
       "<style scoped>\n",
       "    .dataframe tbody tr th:only-of-type {\n",
       "        vertical-align: middle;\n",
       "    }\n",
       "\n",
       "    .dataframe tbody tr th {\n",
       "        vertical-align: top;\n",
       "    }\n",
       "\n",
       "    .dataframe thead th {\n",
       "        text-align: right;\n",
       "    }\n",
       "</style>\n",
       "<table border=\"1\" class=\"dataframe\">\n",
       "  <thead>\n",
       "    <tr style=\"text-align: right;\">\n",
       "      <th></th>\n",
       "      <th>Temperature_c</th>\n",
       "      <th>Humidity</th>\n",
       "      <th>Wind_Speed_kmh</th>\n",
       "      <th>Wind_Bearing_degrees</th>\n",
       "      <th>Visibility_km</th>\n",
       "      <th>Pressure_millibars</th>\n",
       "      <th>Rain</th>\n",
       "      <th>Description_Normal</th>\n",
       "      <th>Description_Warm</th>\n",
       "    </tr>\n",
       "  </thead>\n",
       "  <tbody>\n",
       "    <tr>\n",
       "      <th>0</th>\n",
       "      <td>-0.555556</td>\n",
       "      <td>0.92</td>\n",
       "      <td>11.2700</td>\n",
       "      <td>130</td>\n",
       "      <td>8.0500</td>\n",
       "      <td>1021.60</td>\n",
       "      <td>0</td>\n",
       "      <td>0</td>\n",
       "      <td>0</td>\n",
       "    </tr>\n",
       "    <tr>\n",
       "      <th>1</th>\n",
       "      <td>21.111111</td>\n",
       "      <td>0.73</td>\n",
       "      <td>20.9300</td>\n",
       "      <td>330</td>\n",
       "      <td>16.1000</td>\n",
       "      <td>1017.00</td>\n",
       "      <td>1</td>\n",
       "      <td>0</td>\n",
       "      <td>1</td>\n",
       "    </tr>\n",
       "    <tr>\n",
       "      <th>2</th>\n",
       "      <td>16.600000</td>\n",
       "      <td>0.97</td>\n",
       "      <td>5.9731</td>\n",
       "      <td>193</td>\n",
       "      <td>14.9086</td>\n",
       "      <td>1013.99</td>\n",
       "      <td>1</td>\n",
       "      <td>1</td>\n",
       "      <td>0</td>\n",
       "    </tr>\n",
       "    <tr>\n",
       "      <th>3</th>\n",
       "      <td>1.600000</td>\n",
       "      <td>0.82</td>\n",
       "      <td>3.2200</td>\n",
       "      <td>300</td>\n",
       "      <td>16.1000</td>\n",
       "      <td>1031.59</td>\n",
       "      <td>1</td>\n",
       "      <td>0</td>\n",
       "      <td>0</td>\n",
       "    </tr>\n",
       "    <tr>\n",
       "      <th>4</th>\n",
       "      <td>2.194444</td>\n",
       "      <td>0.60</td>\n",
       "      <td>10.8836</td>\n",
       "      <td>116</td>\n",
       "      <td>9.9820</td>\n",
       "      <td>1020.88</td>\n",
       "      <td>1</td>\n",
       "      <td>0</td>\n",
       "      <td>0</td>\n",
       "    </tr>\n",
       "  </tbody>\n",
       "</table>\n",
       "</div>"
      ],
      "text/plain": [
       "   Temperature_c  Humidity  Wind_Speed_kmh  Wind_Bearing_degrees  \\\n",
       "0      -0.555556      0.92         11.2700                   130   \n",
       "1      21.111111      0.73         20.9300                   330   \n",
       "2      16.600000      0.97          5.9731                   193   \n",
       "3       1.600000      0.82          3.2200                   300   \n",
       "4       2.194444      0.60         10.8836                   116   \n",
       "\n",
       "   Visibility_km  Pressure_millibars  Rain  Description_Normal  \\\n",
       "0         8.0500             1021.60     0                   0   \n",
       "1        16.1000             1017.00     1                   0   \n",
       "2        14.9086             1013.99     1                   1   \n",
       "3        16.1000             1031.59     1                   0   \n",
       "4         9.9820             1020.88     1                   0   \n",
       "\n",
       "   Description_Warm  \n",
       "0                 0  \n",
       "1                 1  \n",
       "2                 0  \n",
       "3                 0  \n",
       "4                 0  "
      ]
     },
     "execution_count": 52,
     "metadata": {},
     "output_type": "execute_result"
    }
   ],
   "source": [
    "df_dummies = pnd.get_dummies ( df_weather, drop_first=True )\n",
    "df_dummies.head()"
   ]
  },
  {
   "cell_type": "code",
   "execution_count": 53,
   "id": "140bafc7-255d-4210-b4cb-13c57db80cbe",
   "metadata": {},
   "outputs": [
    {
     "name": "stdout",
     "output_type": "stream",
     "text": [
      "<class 'pandas.core.frame.DataFrame'>\n",
      "RangeIndex: 10000 entries, 0 to 9999\n",
      "Data columns (total 9 columns):\n",
      " #   Column                Non-Null Count  Dtype  \n",
      "---  ------                --------------  -----  \n",
      " 0   Temperature_c         10000 non-null  float64\n",
      " 1   Humidity              10000 non-null  float64\n",
      " 2   Wind_Speed_kmh        10000 non-null  float64\n",
      " 3   Wind_Bearing_degrees  10000 non-null  int64  \n",
      " 4   Visibility_km         10000 non-null  float64\n",
      " 5   Pressure_millibars    10000 non-null  float64\n",
      " 6   Rain                  10000 non-null  int64  \n",
      " 7   Description_Normal    10000 non-null  uint8  \n",
      " 8   Description_Warm      10000 non-null  uint8  \n",
      "dtypes: float64(5), int64(2), uint8(2)\n",
      "memory usage: 566.5 KB\n"
     ]
    }
   ],
   "source": [
    "df_dummies.info()"
   ]
  },
  {
   "cell_type": "markdown",
   "id": "ab8dcf07-608b-40e3-8b58-e25a4dc06ed4",
   "metadata": {},
   "source": [
    "## Séparation training et test sets\n",
    "\n",
    "On va refaire la séparation entre training et test à partir de notre nouveau DataFrame ***df_dummies***.\n",
    "- faire la séparation entre training et test du DataFrame ***df_dummies***\n",
    "- prendre comme Y (**y_train** et **y_test**) la colonne \"*Temperature_c*\"\n",
    "- pour le X (**x_train** et **x_test**), supprimer simplement la colonne \"*Temperature_c*\" du DataFrame ***df_dummies***\n"
   ]
  },
  {
   "cell_type": "code",
   "execution_count": 54,
   "id": "b6cd17ae-8f2c-40f6-94fc-2e5c542d57c6",
   "metadata": {},
   "outputs": [
    {
     "name": "stdout",
     "output_type": "stream",
     "text": [
      "(6700, 9) (3300, 9)\n"
     ]
    }
   ],
   "source": [
    "df_train, df_test = train_test_split (df_dummies, test_size=0.33, random_state=42)\n",
    "\n",
    "print (df_train.shape, df_test.shape)"
   ]
  },
  {
   "cell_type": "code",
   "execution_count": 55,
   "id": "1541310a-8fea-4405-b853-e026ef5f4ef9",
   "metadata": {},
   "outputs": [
    {
     "data": {
      "text/html": [
       "<div>\n",
       "<style scoped>\n",
       "    .dataframe tbody tr th:only-of-type {\n",
       "        vertical-align: middle;\n",
       "    }\n",
       "\n",
       "    .dataframe tbody tr th {\n",
       "        vertical-align: top;\n",
       "    }\n",
       "\n",
       "    .dataframe thead th {\n",
       "        text-align: right;\n",
       "    }\n",
       "</style>\n",
       "<table border=\"1\" class=\"dataframe\">\n",
       "  <thead>\n",
       "    <tr style=\"text-align: right;\">\n",
       "      <th></th>\n",
       "      <th>Humidity</th>\n",
       "      <th>Wind_Speed_kmh</th>\n",
       "      <th>Wind_Bearing_degrees</th>\n",
       "      <th>Visibility_km</th>\n",
       "      <th>Pressure_millibars</th>\n",
       "      <th>Rain</th>\n",
       "      <th>Description_Normal</th>\n",
       "      <th>Description_Warm</th>\n",
       "    </tr>\n",
       "  </thead>\n",
       "  <tbody>\n",
       "    <tr>\n",
       "      <th>8371</th>\n",
       "      <td>0.67</td>\n",
       "      <td>15.1984</td>\n",
       "      <td>149</td>\n",
       "      <td>9.9820</td>\n",
       "      <td>1026.72</td>\n",
       "      <td>1</td>\n",
       "      <td>1</td>\n",
       "      <td>0</td>\n",
       "    </tr>\n",
       "    <tr>\n",
       "      <th>5027</th>\n",
       "      <td>0.47</td>\n",
       "      <td>8.3076</td>\n",
       "      <td>142</td>\n",
       "      <td>9.9820</td>\n",
       "      <td>1018.97</td>\n",
       "      <td>1</td>\n",
       "      <td>0</td>\n",
       "      <td>1</td>\n",
       "    </tr>\n",
       "    <tr>\n",
       "      <th>9234</th>\n",
       "      <td>0.92</td>\n",
       "      <td>10.9641</td>\n",
       "      <td>202</td>\n",
       "      <td>4.0089</td>\n",
       "      <td>1032.08</td>\n",
       "      <td>0</td>\n",
       "      <td>0</td>\n",
       "      <td>0</td>\n",
       "    </tr>\n",
       "    <tr>\n",
       "      <th>3944</th>\n",
       "      <td>0.47</td>\n",
       "      <td>20.3021</td>\n",
       "      <td>271</td>\n",
       "      <td>10.2557</td>\n",
       "      <td>1014.61</td>\n",
       "      <td>1</td>\n",
       "      <td>1</td>\n",
       "      <td>0</td>\n",
       "    </tr>\n",
       "    <tr>\n",
       "      <th>6862</th>\n",
       "      <td>1.00</td>\n",
       "      <td>7.8890</td>\n",
       "      <td>102</td>\n",
       "      <td>2.9624</td>\n",
       "      <td>1019.31</td>\n",
       "      <td>0</td>\n",
       "      <td>0</td>\n",
       "      <td>0</td>\n",
       "    </tr>\n",
       "  </tbody>\n",
       "</table>\n",
       "</div>"
      ],
      "text/plain": [
       "      Humidity  Wind_Speed_kmh  Wind_Bearing_degrees  Visibility_km  \\\n",
       "8371      0.67         15.1984                   149         9.9820   \n",
       "5027      0.47          8.3076                   142         9.9820   \n",
       "9234      0.92         10.9641                   202         4.0089   \n",
       "3944      0.47         20.3021                   271        10.2557   \n",
       "6862      1.00          7.8890                   102         2.9624   \n",
       "\n",
       "      Pressure_millibars  Rain  Description_Normal  Description_Warm  \n",
       "8371             1026.72     1                   1                 0  \n",
       "5027             1018.97     1                   0                 1  \n",
       "9234             1032.08     0                   0                 0  \n",
       "3944             1014.61     1                   1                 0  \n",
       "6862             1019.31     0                   0                 0  "
      ]
     },
     "execution_count": 55,
     "metadata": {},
     "output_type": "execute_result"
    }
   ],
   "source": [
    "y_train = df_train[ ['Temperature_c'] ]\n",
    "x_train = df_train.drop(['Temperature_c'], axis='columns')\n",
    "x_train.head()"
   ]
  },
  {
   "cell_type": "code",
   "execution_count": 56,
   "id": "2da485cb-3d6d-4bba-9e9f-ca5936995b46",
   "metadata": {},
   "outputs": [
    {
     "data": {
      "text/html": [
       "<div>\n",
       "<style scoped>\n",
       "    .dataframe tbody tr th:only-of-type {\n",
       "        vertical-align: middle;\n",
       "    }\n",
       "\n",
       "    .dataframe tbody tr th {\n",
       "        vertical-align: top;\n",
       "    }\n",
       "\n",
       "    .dataframe thead th {\n",
       "        text-align: right;\n",
       "    }\n",
       "</style>\n",
       "<table border=\"1\" class=\"dataframe\">\n",
       "  <thead>\n",
       "    <tr style=\"text-align: right;\">\n",
       "      <th></th>\n",
       "      <th>Humidity</th>\n",
       "      <th>Wind_Speed_kmh</th>\n",
       "      <th>Wind_Bearing_degrees</th>\n",
       "      <th>Visibility_km</th>\n",
       "      <th>Pressure_millibars</th>\n",
       "      <th>Rain</th>\n",
       "      <th>Description_Normal</th>\n",
       "      <th>Description_Warm</th>\n",
       "    </tr>\n",
       "  </thead>\n",
       "  <tbody>\n",
       "    <tr>\n",
       "      <th>6252</th>\n",
       "      <td>0.51</td>\n",
       "      <td>25.2287</td>\n",
       "      <td>2</td>\n",
       "      <td>11.4471</td>\n",
       "      <td>1036.09</td>\n",
       "      <td>0</td>\n",
       "      <td>0</td>\n",
       "      <td>0</td>\n",
       "    </tr>\n",
       "    <tr>\n",
       "      <th>4684</th>\n",
       "      <td>0.86</td>\n",
       "      <td>3.7030</td>\n",
       "      <td>283</td>\n",
       "      <td>9.9820</td>\n",
       "      <td>1017.35</td>\n",
       "      <td>1</td>\n",
       "      <td>1</td>\n",
       "      <td>0</td>\n",
       "    </tr>\n",
       "    <tr>\n",
       "      <th>1731</th>\n",
       "      <td>0.88</td>\n",
       "      <td>12.1877</td>\n",
       "      <td>167</td>\n",
       "      <td>4.9105</td>\n",
       "      <td>1020.45</td>\n",
       "      <td>1</td>\n",
       "      <td>0</td>\n",
       "      <td>0</td>\n",
       "    </tr>\n",
       "    <tr>\n",
       "      <th>4742</th>\n",
       "      <td>0.64</td>\n",
       "      <td>10.4489</td>\n",
       "      <td>11</td>\n",
       "      <td>9.9820</td>\n",
       "      <td>1028.93</td>\n",
       "      <td>0</td>\n",
       "      <td>0</td>\n",
       "      <td>0</td>\n",
       "    </tr>\n",
       "    <tr>\n",
       "      <th>4521</th>\n",
       "      <td>0.96</td>\n",
       "      <td>6.4400</td>\n",
       "      <td>180</td>\n",
       "      <td>3.0590</td>\n",
       "      <td>999.00</td>\n",
       "      <td>1</td>\n",
       "      <td>1</td>\n",
       "      <td>0</td>\n",
       "    </tr>\n",
       "  </tbody>\n",
       "</table>\n",
       "</div>"
      ],
      "text/plain": [
       "      Humidity  Wind_Speed_kmh  Wind_Bearing_degrees  Visibility_km  \\\n",
       "6252      0.51         25.2287                     2        11.4471   \n",
       "4684      0.86          3.7030                   283         9.9820   \n",
       "1731      0.88         12.1877                   167         4.9105   \n",
       "4742      0.64         10.4489                    11         9.9820   \n",
       "4521      0.96          6.4400                   180         3.0590   \n",
       "\n",
       "      Pressure_millibars  Rain  Description_Normal  Description_Warm  \n",
       "6252             1036.09     0                   0                 0  \n",
       "4684             1017.35     1                   1                 0  \n",
       "1731             1020.45     1                   0                 0  \n",
       "4742             1028.93     0                   0                 0  \n",
       "4521              999.00     1                   1                 0  "
      ]
     },
     "execution_count": 56,
     "metadata": {},
     "output_type": "execute_result"
    }
   ],
   "source": [
    "y_test = df_test[ ['Temperature_c'] ]\n",
    "x_test = df_test.drop(['Temperature_c'], axis='columns')\n",
    "x_test.head()"
   ]
  },
  {
   "cell_type": "markdown",
   "id": "8858c496-5c77-4ad5-9588-713e05683822",
   "metadata": {},
   "source": [
    "## Création et Entrainement nouveau modèle\n",
    "\n",
    "- créer et entrainer un nouveau modèle de régression linéaire\n",
    "- afficher les valeurs des attributs \"***intercept_***\" et \"***coef_***\"\n"
   ]
  },
  {
   "cell_type": "code",
   "execution_count": 57,
   "id": "56711194-a484-4b86-a688-e96f7e4c7519",
   "metadata": {},
   "outputs": [
    {
     "name": "stdout",
     "output_type": "stream",
     "text": [
      "Intercept : [3.64494053]\n",
      "Coefficients : [[-8.12735036e+00 -7.16582510e-02  1.13431836e-03  5.47996684e-02\n",
      "   7.55608339e-05  5.67566186e+00  8.48376238e+00  1.91937072e+01]]\n"
     ]
    }
   ],
   "source": [
    "model_full = LinearRegression()\n",
    "\n",
    "model_full.fit(x_train, y_train)\n",
    "\n",
    "print ( 'Intercept :', model_full.intercept_)\n",
    "print ( 'Coefficients :', model_full.coef_)"
   ]
  },
  {
   "cell_type": "code",
   "execution_count": 58,
   "id": "cbb251d6-d90a-4a8a-a968-a62f3bf6e100",
   "metadata": {},
   "outputs": [
    {
     "name": "stdout",
     "output_type": "stream",
     "text": [
      "Humidity : -8.127350361370153\n",
      "Wind_Speed_kmh : -0.07165825096198843\n",
      "Wind_Bearing_degrees : 0.001134318363873788\n",
      "Visibility_km : 0.05479966838317961\n",
      "Pressure_millibars : 7.556083387600545e-05\n",
      "Rain : 5.675661864415515\n",
      "Description_Normal : 8.483762375845304\n",
      "Description_Warm : 19.19370720404645\n"
     ]
    }
   ],
   "source": [
    "liste_coeffs = model_full.coef_.ravel()\n",
    "for i,coef in enumerate (liste_coeffs) :\n",
    "    print (x_train.columns[i], \":\", coef)"
   ]
  },
  {
   "cell_type": "markdown",
   "id": "a195a967-64cb-4182-88c9-dcbd69757987",
   "metadata": {},
   "source": [
    "## Tester et Evaluer le modèle\n",
    "- Utiliser les données de test pour tester le modèle\n",
    "- évaluer les valeurs obtenues avec les métriques MSA, MSE et RMSE, et *explained variance*"
   ]
  },
  {
   "cell_type": "code",
   "execution_count": 61,
   "id": "6cc2af76-060e-4752-9649-249fab58206b",
   "metadata": {},
   "outputs": [
    {
     "name": "stdout",
     "output_type": "stream",
     "text": [
      "MAE = 2.848\n",
      "RMSE = 3.491 \t MSE = 12.187 \n",
      "Explained Variance = 0.860\n"
     ]
    }
   ],
   "source": [
    "y_pred_full = model_full.predict (x_test)\n",
    "\n",
    "mae_full = mean_absolute_error(y_test, y_pred_full)\n",
    "mse_full = mean_squared_error(y_test, y_pred_full)\n",
    "rmse_full = sqrt(mse_full)\n",
    "var_full = explained_variance_score(y_test, y_pred_full)\n",
    "\n",
    "print ('MAE = {:.3f}'.format(mae_full) )\n",
    "print ('RMSE = {0:.3f} \\t MSE = {1:.3f} '.format(rmse_full, mse_full) )\n",
    "print ('Explained Variance = {:.3f}'.format(var_full))"
   ]
  },
  {
   "cell_type": "code",
   "execution_count": null,
   "id": "29becf39-ddde-4dd2-b1b6-5bcc73792e0f",
   "metadata": {},
   "outputs": [],
   "source": []
  }
 ],
 "metadata": {
  "kernelspec": {
   "display_name": "Python 3",
   "language": "python",
   "name": "python3"
  },
  "language_info": {
   "codemirror_mode": {
    "name": "ipython",
    "version": 3
   },
   "file_extension": ".py",
   "mimetype": "text/x-python",
   "name": "python",
   "nbconvert_exporter": "python",
   "pygments_lexer": "ipython3",
   "version": "3.8.8"
  }
 },
 "nbformat": 4,
 "nbformat_minor": 5
}
