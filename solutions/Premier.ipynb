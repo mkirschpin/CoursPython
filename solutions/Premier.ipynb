{
 "cells": [
  {
   "cell_type": "markdown",
   "id": "5eaa5378-898f-4a4d-8399-db2070c17a9b",
   "metadata": {},
   "source": [
    "# Premiers pas\n",
    "Mon premier exercice avec les Notebooks Python... "
   ]
  },
  {
   "cell_type": "code",
   "execution_count": 4,
   "id": "07ad7ebb",
   "metadata": {},
   "outputs": [
    {
     "name": "stdout",
     "output_type": "stream",
     "text": [
      "Hello ! Je suis Toto et j'ai 47 ans.\n"
     ]
    }
   ],
   "source": [
    "a = 47\n",
    "nom = 'Toto'\n",
    "\n",
    "print('Hello ! Je suis', nom,\"et j'ai\",a,'ans.')"
   ]
  },
  {
   "cell_type": "code",
   "execution_count": 5,
   "id": "9eee5814",
   "metadata": {},
   "outputs": [
    {
     "name": "stdout",
     "output_type": "stream",
     "text": [
      "double 8\n"
     ]
    }
   ],
   "source": [
    "a = len(nom) * 2\n",
    "print ('double',a)"
   ]
  },
  {
   "cell_type": "code",
   "execution_count": 6,
   "id": "af7f065c-25c2-4d06-9390-c6f1cd8cbc89",
   "metadata": {},
   "outputs": [
    {
     "name": "stdout",
     "output_type": "stream",
     "text": [
      "2.5\n",
      "<class 'float'>\n"
     ]
    },
    {
     "data": {
      "text/plain": [
       "5.0"
      ]
     },
     "execution_count": 6,
     "metadata": {},
     "output_type": "execute_result"
    }
   ],
   "source": [
    "a = 2.5\n",
    "print (a)\n",
    "print (type(a))\n",
    "\n",
    "a * 2 "
   ]
  },
  {
   "cell_type": "code",
   "execution_count": 7,
   "id": "e8a2cb1a-64f0-43d0-9197-31d1472d4be5",
   "metadata": {},
   "outputs": [
    {
     "name": "stdout",
     "output_type": "stream",
     "text": [
      "Hello\n",
      "<class 'str'>\n"
     ]
    },
    {
     "data": {
      "text/plain": [
       "'HelloHello'"
      ]
     },
     "execution_count": 7,
     "metadata": {},
     "output_type": "execute_result"
    }
   ],
   "source": [
    "a = 'Hello'\n",
    "print (a)\n",
    "print (type(a))\n",
    "\n",
    "a * 2"
   ]
  },
  {
   "cell_type": "markdown",
   "id": "892c4d91-5e5a-4316-bc60-6554236ef596",
   "metadata": {},
   "source": [
    "## Structures de données\n",
    "un dictionnaire est une collection de pairs clé-valeur\n"
   ]
  },
  {
   "cell_type": "code",
   "execution_count": 8,
   "id": "fb46d3c4-fb35-4efe-985a-55d37bdee66e",
   "metadata": {},
   "outputs": [
    {
     "name": "stdout",
     "output_type": "stream",
     "text": [
      "{'nom': 'Toto', 'matr': 100, 'formation': 'marketing'}\n"
     ]
    }
   ],
   "source": [
    "eleve = { 'nom':'Toto', 'matr': 100, 'formation': 'marketing'}\n",
    "print (eleve)"
   ]
  },
  {
   "cell_type": "code",
   "execution_count": 9,
   "id": "f4f88161-9bb8-4757-9f64-c9dbd1c82dac",
   "metadata": {},
   "outputs": [
    {
     "data": {
      "text/plain": [
       "'Toto'"
      ]
     },
     "execution_count": 9,
     "metadata": {},
     "output_type": "execute_result"
    }
   ],
   "source": [
    "eleve['nom']"
   ]
  },
  {
   "cell_type": "markdown",
   "id": "c9ea2d1d-801c-40ac-af03-c1f9c336cb19",
   "metadata": {},
   "source": [
    "Une liste est une collection ordonnée de valeurs. Chaque valeur occupe une position précise. "
   ]
  },
  {
   "cell_type": "code",
   "execution_count": 10,
   "id": "7b615fad-44eb-4c1b-8e35-74b1e71109e0",
   "metadata": {},
   "outputs": [
    {
     "name": "stdout",
     "output_type": "stream",
     "text": [
      "[12.5, 9.5, 14.5]\n"
     ]
    }
   ],
   "source": [
    "notes = [ 12.5 , 9.5 , 14.5 ]\n",
    "print (notes)"
   ]
  },
  {
   "cell_type": "code",
   "execution_count": 11,
   "id": "dcf3db85-02d9-461f-b797-47803800ab19",
   "metadata": {},
   "outputs": [
    {
     "data": {
      "text/plain": [
       "12.5"
      ]
     },
     "execution_count": 11,
     "metadata": {},
     "output_type": "execute_result"
    }
   ],
   "source": [
    "notes[0]"
   ]
  },
  {
   "cell_type": "code",
   "execution_count": 12,
   "id": "517bb581-a7fb-4303-b1aa-ce82915f44e9",
   "metadata": {},
   "outputs": [
    {
     "name": "stdout",
     "output_type": "stream",
     "text": [
      "{'nom': 'Toto', 'matr': 100, 'formation': 'marketing', 'notes': [12.5, 9.5, 14.5]}\n"
     ]
    }
   ],
   "source": [
    "eleve['notes'] = notes\n",
    "print(eleve)"
   ]
  },
  {
   "cell_type": "code",
   "execution_count": 13,
   "id": "06cddd7c-ea1a-4cc6-96db-f08ebecd3573",
   "metadata": {},
   "outputs": [
    {
     "data": {
      "text/plain": [
       "[12.5, 9.5]"
      ]
     },
     "execution_count": 13,
     "metadata": {},
     "output_type": "execute_result"
    }
   ],
   "source": [
    "notes[0:2]"
   ]
  },
  {
   "cell_type": "markdown",
   "id": "76f4d29d-9183-4738-b2f5-e9aec1d1c956",
   "metadata": {},
   "source": [
    "## Bibliothèques\n",
    "pour utiliser une bibliothèque, il faut l'importer. "
   ]
  },
  {
   "cell_type": "code",
   "execution_count": 14,
   "id": "e7ad510f-0525-437d-a032-72c5c861efc0",
   "metadata": {},
   "outputs": [
    {
     "data": {
      "text/plain": [
       "3.082207001484488"
      ]
     },
     "execution_count": 14,
     "metadata": {},
     "output_type": "execute_result"
    }
   ],
   "source": [
    "import math as mt\n",
    "mt.sqrt(notes[1])"
   ]
  },
  {
   "cell_type": "markdown",
   "id": "7acd0b3d-9226-4f10-bfdd-705fa42313d2",
   "metadata": {},
   "source": [
    "## Pandas\n",
    "### Créer son premier DataFrame"
   ]
  },
  {
   "cell_type": "code",
   "execution_count": 15,
   "id": "376fbf7b-89a3-4976-82a8-7ce091316ce6",
   "metadata": {},
   "outputs": [
    {
     "name": "stdout",
     "output_type": "stream",
     "text": [
      "        Habitants     Capital\n",
      "Suisse          8      Geneve\n",
      "France         70       Paris\n",
      "USA           320  Washington\n",
      "Chine        1200      Pequin\n"
     ]
    }
   ],
   "source": [
    "import pandas as pnd\n",
    "monDF = pnd.DataFrame ( { 'Habitants' : [ 8, 70, 320, 1200 ], \n",
    "                         'Capital': ['Geneve', 'Paris', 'Washington', 'Pequin'] },\n",
    "                         index=['Suisse', 'France', 'USA', 'Chine'])\n",
    "print (monDF)"
   ]
  },
  {
   "cell_type": "code",
   "execution_count": 16,
   "id": "153e7953-1231-4b41-b992-060554b71321",
   "metadata": {},
   "outputs": [
    {
     "name": "stdout",
     "output_type": "stream",
     "text": [
      "<class 'pandas.core.frame.DataFrame'>\n",
      "Index: 4 entries, Suisse to Chine\n",
      "Data columns (total 2 columns):\n",
      " #   Column     Non-Null Count  Dtype \n",
      "---  ------     --------------  ----- \n",
      " 0   Habitants  4 non-null      int64 \n",
      " 1   Capital    4 non-null      object\n",
      "dtypes: int64(1), object(1)\n",
      "memory usage: 96.0+ bytes\n"
     ]
    }
   ],
   "source": [
    "monDF.info()"
   ]
  },
  {
   "cell_type": "code",
   "execution_count": 17,
   "id": "020b018e-8004-4323-a059-79b0f970d276",
   "metadata": {},
   "outputs": [
    {
     "data": {
      "text/html": [
       "<div>\n",
       "<style scoped>\n",
       "    .dataframe tbody tr th:only-of-type {\n",
       "        vertical-align: middle;\n",
       "    }\n",
       "\n",
       "    .dataframe tbody tr th {\n",
       "        vertical-align: top;\n",
       "    }\n",
       "\n",
       "    .dataframe thead th {\n",
       "        text-align: right;\n",
       "    }\n",
       "</style>\n",
       "<table border=\"1\" class=\"dataframe\">\n",
       "  <thead>\n",
       "    <tr style=\"text-align: right;\">\n",
       "      <th></th>\n",
       "      <th>Habitants</th>\n",
       "    </tr>\n",
       "  </thead>\n",
       "  <tbody>\n",
       "    <tr>\n",
       "      <th>count</th>\n",
       "      <td>4.000000</td>\n",
       "    </tr>\n",
       "    <tr>\n",
       "      <th>mean</th>\n",
       "      <td>399.500000</td>\n",
       "    </tr>\n",
       "    <tr>\n",
       "      <th>std</th>\n",
       "      <td>550.443155</td>\n",
       "    </tr>\n",
       "    <tr>\n",
       "      <th>min</th>\n",
       "      <td>8.000000</td>\n",
       "    </tr>\n",
       "    <tr>\n",
       "      <th>25%</th>\n",
       "      <td>54.500000</td>\n",
       "    </tr>\n",
       "    <tr>\n",
       "      <th>50%</th>\n",
       "      <td>195.000000</td>\n",
       "    </tr>\n",
       "    <tr>\n",
       "      <th>75%</th>\n",
       "      <td>540.000000</td>\n",
       "    </tr>\n",
       "    <tr>\n",
       "      <th>max</th>\n",
       "      <td>1200.000000</td>\n",
       "    </tr>\n",
       "  </tbody>\n",
       "</table>\n",
       "</div>"
      ],
      "text/plain": [
       "         Habitants\n",
       "count     4.000000\n",
       "mean    399.500000\n",
       "std     550.443155\n",
       "min       8.000000\n",
       "25%      54.500000\n",
       "50%     195.000000\n",
       "75%     540.000000\n",
       "max    1200.000000"
      ]
     },
     "execution_count": 17,
     "metadata": {},
     "output_type": "execute_result"
    }
   ],
   "source": [
    "monDF.describe()"
   ]
  },
  {
   "cell_type": "markdown",
   "id": "b6d7e681",
   "metadata": {},
   "source": [
    "### Trouver une information \n",
    "\n",
    "Trouver la capital (colonne) de la France (index)."
   ]
  },
  {
   "cell_type": "code",
   "execution_count": 18,
   "id": "284974d5",
   "metadata": {},
   "outputs": [
    {
     "data": {
      "text/plain": [
       "'Paris'"
      ]
     },
     "execution_count": 18,
     "metadata": {},
     "output_type": "execute_result"
    }
   ],
   "source": [
    "monDF.loc [ 'France' ] [ 'Capital' ]\n"
   ]
  },
  {
   "cell_type": "markdown",
   "id": "eba45667",
   "metadata": {},
   "source": [
    "Trouver les pays dont le nombre d'habitants est supérieur à 100. "
   ]
  },
  {
   "cell_type": "code",
   "execution_count": 35,
   "id": "76e33e2f",
   "metadata": {},
   "outputs": [
    {
     "data": {
      "text/html": [
       "<div>\n",
       "<style scoped>\n",
       "    .dataframe tbody tr th:only-of-type {\n",
       "        vertical-align: middle;\n",
       "    }\n",
       "\n",
       "    .dataframe tbody tr th {\n",
       "        vertical-align: top;\n",
       "    }\n",
       "\n",
       "    .dataframe thead th {\n",
       "        text-align: right;\n",
       "    }\n",
       "</style>\n",
       "<table border=\"1\" class=\"dataframe\">\n",
       "  <thead>\n",
       "    <tr style=\"text-align: right;\">\n",
       "      <th></th>\n",
       "      <th>Habitants</th>\n",
       "      <th>Capital</th>\n",
       "    </tr>\n",
       "  </thead>\n",
       "  <tbody>\n",
       "    <tr>\n",
       "      <th>USA</th>\n",
       "      <td>320</td>\n",
       "      <td>Washington</td>\n",
       "    </tr>\n",
       "    <tr>\n",
       "      <th>Chine</th>\n",
       "      <td>1200</td>\n",
       "      <td>Pequin</td>\n",
       "    </tr>\n",
       "  </tbody>\n",
       "</table>\n",
       "</div>"
      ],
      "text/plain": [
       "       Habitants     Capital\n",
       "USA          320  Washington\n",
       "Chine       1200      Pequin"
      ]
     },
     "execution_count": 35,
     "metadata": {},
     "output_type": "execute_result"
    }
   ],
   "source": [
    "monDF.loc [ monDF [ 'Habitants' ] > 100 ]"
   ]
  },
  {
   "cell_type": "markdown",
   "id": "41c41df7",
   "metadata": {},
   "source": [
    "Trouver les pays dont le nombre d'habitants se trouve entre 100 et 1000. "
   ]
  },
  {
   "cell_type": "code",
   "execution_count": 36,
   "id": "4aca4855",
   "metadata": {},
   "outputs": [
    {
     "data": {
      "text/html": [
       "<div>\n",
       "<style scoped>\n",
       "    .dataframe tbody tr th:only-of-type {\n",
       "        vertical-align: middle;\n",
       "    }\n",
       "\n",
       "    .dataframe tbody tr th {\n",
       "        vertical-align: top;\n",
       "    }\n",
       "\n",
       "    .dataframe thead th {\n",
       "        text-align: right;\n",
       "    }\n",
       "</style>\n",
       "<table border=\"1\" class=\"dataframe\">\n",
       "  <thead>\n",
       "    <tr style=\"text-align: right;\">\n",
       "      <th></th>\n",
       "      <th>Habitants</th>\n",
       "      <th>Capital</th>\n",
       "    </tr>\n",
       "  </thead>\n",
       "  <tbody>\n",
       "    <tr>\n",
       "      <th>USA</th>\n",
       "      <td>320</td>\n",
       "      <td>Washington</td>\n",
       "    </tr>\n",
       "  </tbody>\n",
       "</table>\n",
       "</div>"
      ],
      "text/plain": [
       "     Habitants     Capital\n",
       "USA        320  Washington"
      ]
     },
     "execution_count": 36,
     "metadata": {},
     "output_type": "execute_result"
    }
   ],
   "source": [
    "monDF.loc [  ( monDF [ 'Habitants' ] > 100 ) & ( monDF [ 'Habitants' ] < 1000 ) ]\n"
   ]
  },
  {
   "cell_type": "markdown",
   "id": "5f2ff603",
   "metadata": {},
   "source": [
    "### Pris en main dropna"
   ]
  },
  {
   "cell_type": "code",
   "execution_count": 19,
   "id": "b4b45e4f-3753-41a9-b207-dbbd73817f7b",
   "metadata": {},
   "outputs": [
    {
     "name": "stdout",
     "output_type": "stream",
     "text": [
      "<class 'pandas.core.frame.DataFrame'>\n",
      "RangeIndex: 4 entries, 0 to 3\n",
      "Data columns (total 3 columns):\n",
      " #   Column  Non-Null Count  Dtype         \n",
      "---  ------  --------------  -----         \n",
      " 0   A       3 non-null      object        \n",
      " 1   B       4 non-null      object        \n",
      " 2   C       3 non-null      datetime64[ns]\n",
      "dtypes: datetime64[ns](1), object(2)\n",
      "memory usage: 224.0+ bytes\n"
     ]
    }
   ],
   "source": [
    "df2 = pnd.DataFrame({'A':[0, pnd.NA, 1, -2], \n",
    "                         'B':['Titi', 'Toto', 'Tata', 'Tutu'],\n",
    "                         'C':['2020-01-01', '2021-02-02', pnd.NaT, '2019-12-30']})\n",
    "df2.info()"
   ]
  },
  {
   "cell_type": "code",
   "execution_count": 20,
   "id": "ab3a35fc-e5d4-4aee-a29f-e901e21e94ab",
   "metadata": {},
   "outputs": [
    {
     "data": {
      "text/html": [
       "<div>\n",
       "<style scoped>\n",
       "    .dataframe tbody tr th:only-of-type {\n",
       "        vertical-align: middle;\n",
       "    }\n",
       "\n",
       "    .dataframe tbody tr th {\n",
       "        vertical-align: top;\n",
       "    }\n",
       "\n",
       "    .dataframe thead th {\n",
       "        text-align: right;\n",
       "    }\n",
       "</style>\n",
       "<table border=\"1\" class=\"dataframe\">\n",
       "  <thead>\n",
       "    <tr style=\"text-align: right;\">\n",
       "      <th></th>\n",
       "      <th>B</th>\n",
       "    </tr>\n",
       "  </thead>\n",
       "  <tbody>\n",
       "    <tr>\n",
       "      <th>0</th>\n",
       "      <td>Titi</td>\n",
       "    </tr>\n",
       "    <tr>\n",
       "      <th>1</th>\n",
       "      <td>Toto</td>\n",
       "    </tr>\n",
       "    <tr>\n",
       "      <th>2</th>\n",
       "      <td>Tata</td>\n",
       "    </tr>\n",
       "    <tr>\n",
       "      <th>3</th>\n",
       "      <td>Tutu</td>\n",
       "    </tr>\n",
       "  </tbody>\n",
       "</table>\n",
       "</div>"
      ],
      "text/plain": [
       "      B\n",
       "0  Titi\n",
       "1  Toto\n",
       "2  Tata\n",
       "3  Tutu"
      ]
     },
     "execution_count": 20,
     "metadata": {},
     "output_type": "execute_result"
    }
   ],
   "source": [
    "df2.dropna(axis='columns')"
   ]
  },
  {
   "cell_type": "code",
   "execution_count": 21,
   "id": "eb1e05c9-abb3-4980-899d-24abc465f03b",
   "metadata": {},
   "outputs": [
    {
     "data": {
      "text/html": [
       "<div>\n",
       "<style scoped>\n",
       "    .dataframe tbody tr th:only-of-type {\n",
       "        vertical-align: middle;\n",
       "    }\n",
       "\n",
       "    .dataframe tbody tr th {\n",
       "        vertical-align: top;\n",
       "    }\n",
       "\n",
       "    .dataframe thead th {\n",
       "        text-align: right;\n",
       "    }\n",
       "</style>\n",
       "<table border=\"1\" class=\"dataframe\">\n",
       "  <thead>\n",
       "    <tr style=\"text-align: right;\">\n",
       "      <th></th>\n",
       "      <th>A</th>\n",
       "      <th>B</th>\n",
       "      <th>C</th>\n",
       "    </tr>\n",
       "  </thead>\n",
       "  <tbody>\n",
       "    <tr>\n",
       "      <th>0</th>\n",
       "      <td>0</td>\n",
       "      <td>Titi</td>\n",
       "      <td>2020-01-01</td>\n",
       "    </tr>\n",
       "    <tr>\n",
       "      <th>3</th>\n",
       "      <td>-2</td>\n",
       "      <td>Tutu</td>\n",
       "      <td>2019-12-30</td>\n",
       "    </tr>\n",
       "  </tbody>\n",
       "</table>\n",
       "</div>"
      ],
      "text/plain": [
       "    A     B          C\n",
       "0   0  Titi 2020-01-01\n",
       "3  -2  Tutu 2019-12-30"
      ]
     },
     "execution_count": 21,
     "metadata": {},
     "output_type": "execute_result"
    }
   ],
   "source": [
    "df2.dropna(axis='index')"
   ]
  },
  {
   "cell_type": "code",
   "execution_count": 22,
   "id": "817b6e35-67ac-4700-a178-04e8a916cf62",
   "metadata": {},
   "outputs": [
    {
     "name": "stdout",
     "output_type": "stream",
     "text": [
      "      A     B          C\n",
      "0     0  Titi 2020-01-01\n",
      "1  <NA>  Toto 2021-02-02\n",
      "2     1  Tata        NaT\n",
      "3    -2  Tutu 2019-12-30\n"
     ]
    }
   ],
   "source": [
    "print(df2)"
   ]
  },
  {
   "cell_type": "code",
   "execution_count": 23,
   "id": "73f496fa-dea1-4336-ae85-8b0adc986857",
   "metadata": {},
   "outputs": [
    {
     "data": {
      "text/html": [
       "<div>\n",
       "<style scoped>\n",
       "    .dataframe tbody tr th:only-of-type {\n",
       "        vertical-align: middle;\n",
       "    }\n",
       "\n",
       "    .dataframe tbody tr th {\n",
       "        vertical-align: top;\n",
       "    }\n",
       "\n",
       "    .dataframe thead th {\n",
       "        text-align: right;\n",
       "    }\n",
       "</style>\n",
       "<table border=\"1\" class=\"dataframe\">\n",
       "  <thead>\n",
       "    <tr style=\"text-align: right;\">\n",
       "      <th></th>\n",
       "      <th>A</th>\n",
       "      <th>B</th>\n",
       "      <th>C</th>\n",
       "    </tr>\n",
       "  </thead>\n",
       "  <tbody>\n",
       "    <tr>\n",
       "      <th>0</th>\n",
       "      <td>0</td>\n",
       "      <td>Titi</td>\n",
       "      <td>2020-01-01</td>\n",
       "    </tr>\n",
       "    <tr>\n",
       "      <th>1</th>\n",
       "      <td>&lt;NA&gt;</td>\n",
       "      <td>Toto</td>\n",
       "      <td>2021-02-02</td>\n",
       "    </tr>\n",
       "    <tr>\n",
       "      <th>2</th>\n",
       "      <td>1</td>\n",
       "      <td>Tata</td>\n",
       "      <td>NaT</td>\n",
       "    </tr>\n",
       "    <tr>\n",
       "      <th>3</th>\n",
       "      <td>-2</td>\n",
       "      <td>Tutu</td>\n",
       "      <td>2019-12-30</td>\n",
       "    </tr>\n",
       "  </tbody>\n",
       "</table>\n",
       "</div>"
      ],
      "text/plain": [
       "      A     B          C\n",
       "0     0  Titi 2020-01-01\n",
       "1  <NA>  Toto 2021-02-02\n",
       "2     1  Tata        NaT\n",
       "3    -2  Tutu 2019-12-30"
      ]
     },
     "execution_count": 23,
     "metadata": {},
     "output_type": "execute_result"
    }
   ],
   "source": [
    "df2"
   ]
  },
  {
   "cell_type": "code",
   "execution_count": 24,
   "id": "32c4b099-2d59-4723-a6da-c90190990088",
   "metadata": {},
   "outputs": [],
   "source": [
    "df2.dropna(inplace=True)"
   ]
  },
  {
   "cell_type": "code",
   "execution_count": 25,
   "id": "b795cea4-a704-433e-b22c-b14b6659dccd",
   "metadata": {},
   "outputs": [
    {
     "data": {
      "text/html": [
       "<div>\n",
       "<style scoped>\n",
       "    .dataframe tbody tr th:only-of-type {\n",
       "        vertical-align: middle;\n",
       "    }\n",
       "\n",
       "    .dataframe tbody tr th {\n",
       "        vertical-align: top;\n",
       "    }\n",
       "\n",
       "    .dataframe thead th {\n",
       "        text-align: right;\n",
       "    }\n",
       "</style>\n",
       "<table border=\"1\" class=\"dataframe\">\n",
       "  <thead>\n",
       "    <tr style=\"text-align: right;\">\n",
       "      <th></th>\n",
       "      <th>A</th>\n",
       "      <th>B</th>\n",
       "      <th>C</th>\n",
       "    </tr>\n",
       "  </thead>\n",
       "  <tbody>\n",
       "    <tr>\n",
       "      <th>0</th>\n",
       "      <td>0</td>\n",
       "      <td>Titi</td>\n",
       "      <td>2020-01-01</td>\n",
       "    </tr>\n",
       "    <tr>\n",
       "      <th>3</th>\n",
       "      <td>-2</td>\n",
       "      <td>Tutu</td>\n",
       "      <td>2019-12-30</td>\n",
       "    </tr>\n",
       "  </tbody>\n",
       "</table>\n",
       "</div>"
      ],
      "text/plain": [
       "    A     B          C\n",
       "0   0  Titi 2020-01-01\n",
       "3  -2  Tutu 2019-12-30"
      ]
     },
     "execution_count": 25,
     "metadata": {},
     "output_type": "execute_result"
    }
   ],
   "source": [
    "df2"
   ]
  },
  {
   "cell_type": "markdown",
   "id": "5d0e1e91",
   "metadata": {},
   "source": [
    "### Prise en main to_datetime"
   ]
  },
  {
   "cell_type": "code",
   "execution_count": 26,
   "id": "85d0adc6",
   "metadata": {},
   "outputs": [
    {
     "data": {
      "text/html": [
       "<div>\n",
       "<style scoped>\n",
       "    .dataframe tbody tr th:only-of-type {\n",
       "        vertical-align: middle;\n",
       "    }\n",
       "\n",
       "    .dataframe tbody tr th {\n",
       "        vertical-align: top;\n",
       "    }\n",
       "\n",
       "    .dataframe thead th {\n",
       "        text-align: right;\n",
       "    }\n",
       "</style>\n",
       "<table border=\"1\" class=\"dataframe\">\n",
       "  <thead>\n",
       "    <tr style=\"text-align: right;\">\n",
       "      <th></th>\n",
       "      <th>Debut</th>\n",
       "      <th>Fin</th>\n",
       "      <th>Examens</th>\n",
       "      <th>Semestre</th>\n",
       "    </tr>\n",
       "  </thead>\n",
       "  <tbody>\n",
       "    <tr>\n",
       "      <th>0</th>\n",
       "      <td>2021-09-13</td>\n",
       "      <td>17/12/2021</td>\n",
       "      <td>01042022</td>\n",
       "      <td>S1</td>\n",
       "    </tr>\n",
       "    <tr>\n",
       "      <th>1</th>\n",
       "      <td>2022-01-24</td>\n",
       "      <td>23/04/2022</td>\n",
       "      <td>05042022</td>\n",
       "      <td>S2</td>\n",
       "    </tr>\n",
       "  </tbody>\n",
       "</table>\n",
       "</div>"
      ],
      "text/plain": [
       "        Debut         Fin   Examens Semestre\n",
       "0  2021-09-13  17/12/2021  01042022       S1\n",
       "1  2022-01-24  23/04/2022  05042022       S2"
      ]
     },
     "execution_count": 26,
     "metadata": {},
     "output_type": "execute_result"
    }
   ],
   "source": [
    "dfDates = pnd.DataFrame ({ 'Debut': ['2021-09-13', '2022-01-24'], \n",
    "                           'Fin' : ['17/12/2021', '23/04/2022'],\n",
    "                           'Examens':['01042022', '05042022'], \n",
    "                           'Semestre' : ['S1', 'S2'] } )\n",
    "dfDates"
   ]
  },
  {
   "cell_type": "code",
   "execution_count": 27,
   "id": "2cabdac0-ff08-4c9d-b9da-84f545460113",
   "metadata": {},
   "outputs": [
    {
     "data": {
      "text/plain": [
       "0   2021-09-13\n",
       "1   2022-01-24\n",
       "Name: Debut, dtype: datetime64[ns]"
      ]
     },
     "execution_count": 27,
     "metadata": {},
     "output_type": "execute_result"
    }
   ],
   "source": [
    "pnd.to_datetime(dfDates['Debut'], yearfirst=True)"
   ]
  },
  {
   "cell_type": "code",
   "execution_count": 28,
   "id": "9d6c62cf",
   "metadata": {},
   "outputs": [
    {
     "data": {
      "text/plain": [
       "0   2021-12-17\n",
       "1   2022-04-23\n",
       "Name: Fin, dtype: datetime64[ns]"
      ]
     },
     "execution_count": 28,
     "metadata": {},
     "output_type": "execute_result"
    }
   ],
   "source": [
    "pnd.to_datetime(dfDates['Fin'], dayfirst=True)"
   ]
  },
  {
   "cell_type": "code",
   "execution_count": 29,
   "id": "a5c4e405",
   "metadata": {},
   "outputs": [
    {
     "data": {
      "text/plain": [
       "0   2022-01-04\n",
       "1   2022-05-04\n",
       "Name: Examens, dtype: datetime64[ns]"
      ]
     },
     "execution_count": 29,
     "metadata": {},
     "output_type": "execute_result"
    }
   ],
   "source": [
    "pnd.to_datetime(dfDates['Examens'], format='%m%d%Y')"
   ]
  },
  {
   "cell_type": "markdown",
   "id": "579d1296",
   "metadata": {},
   "source": [
    "## Prise en main graphiques (Matplotlib)"
   ]
  },
  {
   "cell_type": "code",
   "execution_count": 30,
   "id": "566a183e",
   "metadata": {},
   "outputs": [
    {
     "data": {
      "text/html": [
       "<div>\n",
       "<style scoped>\n",
       "    .dataframe tbody tr th:only-of-type {\n",
       "        vertical-align: middle;\n",
       "    }\n",
       "\n",
       "    .dataframe tbody tr th {\n",
       "        vertical-align: top;\n",
       "    }\n",
       "\n",
       "    .dataframe thead th {\n",
       "        text-align: right;\n",
       "    }\n",
       "</style>\n",
       "<table border=\"1\" class=\"dataframe\">\n",
       "  <thead>\n",
       "    <tr style=\"text-align: right;\">\n",
       "      <th></th>\n",
       "      <th>note</th>\n",
       "      <th>rendus</th>\n",
       "      <th>nom</th>\n",
       "    </tr>\n",
       "  </thead>\n",
       "  <tbody>\n",
       "    <tr>\n",
       "      <th>0</th>\n",
       "      <td>2</td>\n",
       "      <td>1</td>\n",
       "      <td>Titi</td>\n",
       "    </tr>\n",
       "    <tr>\n",
       "      <th>1</th>\n",
       "      <td>5</td>\n",
       "      <td>3</td>\n",
       "      <td>Toto</td>\n",
       "    </tr>\n",
       "    <tr>\n",
       "      <th>2</th>\n",
       "      <td>12</td>\n",
       "      <td>5</td>\n",
       "      <td>Tata</td>\n",
       "    </tr>\n",
       "    <tr>\n",
       "      <th>3</th>\n",
       "      <td>18</td>\n",
       "      <td>7</td>\n",
       "      <td>Tarbes</td>\n",
       "    </tr>\n",
       "    <tr>\n",
       "      <th>4</th>\n",
       "      <td>10</td>\n",
       "      <td>9</td>\n",
       "      <td>Titus</td>\n",
       "    </tr>\n",
       "  </tbody>\n",
       "</table>\n",
       "</div>"
      ],
      "text/plain": [
       "   note  rendus     nom\n",
       "0     2       1    Titi\n",
       "1     5       3    Toto\n",
       "2    12       5    Tata\n",
       "3    18       7  Tarbes\n",
       "4    10       9   Titus"
      ]
     },
     "execution_count": 30,
     "metadata": {},
     "output_type": "execute_result"
    }
   ],
   "source": [
    "donnees = pnd.DataFrame({'note': [2, 5, 12, 18, 10], \n",
    "                         'rendus':[1, 3, 5, 7, 9 ],\n",
    "                         'nom':['Titi','Toto','Tata','Tarbes','Titus']})\n",
    "donnees"
   ]
  },
  {
   "cell_type": "code",
   "execution_count": 31,
   "id": "3e5e2ff9",
   "metadata": {},
   "outputs": [],
   "source": [
    "import matplotlib.pyplot as plt\n",
    "\n",
    "# pour l'affichage dans un notebook\n",
    "%matplotlib inline "
   ]
  },
  {
   "cell_type": "code",
   "execution_count": 32,
   "id": "2ff3c962",
   "metadata": {},
   "outputs": [
    {
     "data": {
      "text/plain": [
       "[<matplotlib.lines.Line2D at 0x7fa5506bc040>]"
      ]
     },
     "execution_count": 32,
     "metadata": {},
     "output_type": "execute_result"
    },
    {
     "data": {
      "image/png": "[encoded data removed]",
      "text/plain": [
       "<Figure size 720x288 with 1 Axes>"
      ]
     },
     "metadata": {
      "needs_background": "light"
     },
     "output_type": "display_data"
    }
   ],
   "source": [
    "plt.figure(figsize=(10, 4))\n",
    "plt.xlabel(\"Nb de rendus\")\n",
    "plt.ylabel(\"Notes\")\n",
    "plt.plot(donnees['rendus'], donnees['note'], color='blue', marker='o')"
   ]
  },
  {
   "cell_type": "code",
   "execution_count": 33,
   "id": "c85941a1",
   "metadata": {},
   "outputs": [
    {
     "data": {
      "text/plain": [
       "<BarContainer object of 5 artists>"
      ]
     },
     "execution_count": 33,
     "metadata": {},
     "output_type": "execute_result"
    },
    {
     "data": {
      "image/png": "[encoded data removed]",
      "text/plain": [
       "<Figure size 432x288 with 1 Axes>"
      ]
     },
     "metadata": {
      "needs_background": "light"
     },
     "output_type": "display_data"
    }
   ],
   "source": [
    "plt.bar(donnees['nom'], donnees['note'], color='green')"
   ]
  },
  {
   "cell_type": "code",
   "execution_count": 34,
   "id": "3b1f91a6",
   "metadata": {},
   "outputs": [
    {
     "data": {
      "text/plain": [
       "([<matplotlib.patches.Wedge at 0x7fa5516183d0>,\n",
       "  <matplotlib.patches.Wedge at 0x7fa5516189d0>,\n",
       "  <matplotlib.patches.Wedge at 0x7fa551618eb0>,\n",
       "  <matplotlib.patches.Wedge at 0x7fa5516233d0>,\n",
       "  <matplotlib.patches.Wedge at 0x7fa5516238b0>],\n",
       " [Text(1.0913261718331657, 0.13786655385541477, 'Titi'),\n",
       "  Text(0.8899187028927925, 0.6465637650236903, 'Toto'),\n",
       "  Text(-0.06906955709217581, 1.097829402176445, 'Tata'),\n",
       "  Text(-1.1, 1.3471114790620887e-16, 'Tarbes'),\n",
       "  Text(0.4683572691791438, -0.9953097349102215, 'Titus')])"
      ]
     },
     "execution_count": 34,
     "metadata": {},
     "output_type": "execute_result"
    },
    {
     "data": {
      "image/png": "[encoded data removed]",
      "text/plain": [
       "<Figure size 432x288 with 1 Axes>"
      ]
     },
     "metadata": {},
     "output_type": "display_data"
    }
   ],
   "source": [
    "plt.pie(donnees['rendus'],labels=donnees['nom'])"
   ]
  },
  {
   "cell_type": "code",
   "execution_count": null,
   "id": "8c69982d-a84e-4380-b2d0-eb53a6496bf8",
   "metadata": {},
   "outputs": [],
   "source": []
  }
 ],
 "metadata": {
  "interpreter": {
   "hash": "aee8b7b246df8f9039afb4144a1f6fd8d2ca17a180786b69acc140d282b71a49"
  },
  "kernelspec": {
   "display_name": "Python 3",
   "language": "python",
   "name": "python3"
  },
  "language_info": {
   "codemirror_mode": {
    "name": "ipython",
    "version": 3
   },
   "file_extension": ".py",
   "mimetype": "text/x-python",
   "name": "python",
   "nbconvert_exporter": "python",
   "pygments_lexer": "ipython3",
   "version": "3.9.1"
  }
 },
 "nbformat": 4,
 "nbformat_minor": 5
}
